{
  "nbformat": 4,
  "nbformat_minor": 0,
  "metadata": {
    "accelerator": "GPU",
    "colab": {
      "name": "ElianeBirba.ipynb",
      "provenance": [],
      "collapsed_sections": []
    },
    "kernelspec": {
      "display_name": "Python 3",
      "name": "python3"
    },
    "widgets": {
      "application/vnd.jupyter.widget-state+json": {
        "9f19a840349d4c758debfd31e14190ea": {
          "model_module": "@jupyter-widgets/controls",
          "model_name": "HBoxModel",
          "state": {
            "_view_name": "HBoxView",
            "_dom_classes": [],
            "_model_name": "HBoxModel",
            "_view_module": "@jupyter-widgets/controls",
            "_model_module_version": "1.5.0",
            "_view_count": null,
            "_view_module_version": "1.5.0",
            "box_style": "",
            "layout": "IPY_MODEL_7a6978b49399461884c59bbf89c6f3e0",
            "_model_module": "@jupyter-widgets/controls",
            "children": [
              "IPY_MODEL_f0ab77cf3a78485890297687d0f69709",
              "IPY_MODEL_e33580c05e284bfabd3ad17a31a38cab"
            ]
          }
        },
        "7a6978b49399461884c59bbf89c6f3e0": {
          "model_module": "@jupyter-widgets/base",
          "model_name": "LayoutModel",
          "state": {
            "_view_name": "LayoutView",
            "grid_template_rows": null,
            "right": null,
            "justify_content": null,
            "_view_module": "@jupyter-widgets/base",
            "overflow": null,
            "_model_module_version": "1.2.0",
            "_view_count": null,
            "flex_flow": null,
            "width": null,
            "min_width": null,
            "border": null,
            "align_items": null,
            "bottom": null,
            "_model_module": "@jupyter-widgets/base",
            "top": null,
            "grid_column": null,
            "overflow_y": null,
            "overflow_x": null,
            "grid_auto_flow": null,
            "grid_area": null,
            "grid_template_columns": null,
            "flex": null,
            "_model_name": "LayoutModel",
            "justify_items": null,
            "grid_row": null,
            "max_height": null,
            "align_content": null,
            "visibility": null,
            "align_self": null,
            "height": null,
            "min_height": null,
            "padding": null,
            "grid_auto_rows": null,
            "grid_gap": null,
            "max_width": null,
            "order": null,
            "_view_module_version": "1.2.0",
            "grid_template_areas": null,
            "object_position": null,
            "object_fit": null,
            "grid_auto_columns": null,
            "margin": null,
            "display": null,
            "left": null
          }
        },
        "f0ab77cf3a78485890297687d0f69709": {
          "model_module": "@jupyter-widgets/controls",
          "model_name": "FloatProgressModel",
          "state": {
            "_view_name": "ProgressView",
            "style": "IPY_MODEL_15f7df3244064ee4853f8cdee4c4e9e2",
            "_dom_classes": [],
            "description": "",
            "_model_name": "FloatProgressModel",
            "bar_style": "success",
            "max": 1,
            "_view_module": "@jupyter-widgets/controls",
            "_model_module_version": "1.5.0",
            "value": 1,
            "_view_count": null,
            "_view_module_version": "1.5.0",
            "orientation": "horizontal",
            "min": 0,
            "description_tooltip": null,
            "_model_module": "@jupyter-widgets/controls",
            "layout": "IPY_MODEL_000ae980260647eeb3e2ddef83d29d7a"
          }
        },
        "e33580c05e284bfabd3ad17a31a38cab": {
          "model_module": "@jupyter-widgets/controls",
          "model_name": "HTMLModel",
          "state": {
            "_view_name": "HTMLView",
            "style": "IPY_MODEL_baa90ca15559421f8db98d470b5e47b5",
            "_dom_classes": [],
            "description": "",
            "_model_name": "HTMLModel",
            "placeholder": "​",
            "_view_module": "@jupyter-widgets/controls",
            "_model_module_version": "1.5.0",
            "value": " 9920512/? [00:09&lt;00:00, 1068339.97it/s]",
            "_view_count": null,
            "_view_module_version": "1.5.0",
            "description_tooltip": null,
            "_model_module": "@jupyter-widgets/controls",
            "layout": "IPY_MODEL_0ebf148ad29b4683a1f7a6fda32266c9"
          }
        },
        "15f7df3244064ee4853f8cdee4c4e9e2": {
          "model_module": "@jupyter-widgets/controls",
          "model_name": "ProgressStyleModel",
          "state": {
            "_view_name": "StyleView",
            "_model_name": "ProgressStyleModel",
            "description_width": "initial",
            "_view_module": "@jupyter-widgets/base",
            "_model_module_version": "1.5.0",
            "_view_count": null,
            "_view_module_version": "1.2.0",
            "bar_color": null,
            "_model_module": "@jupyter-widgets/controls"
          }
        },
        "000ae980260647eeb3e2ddef83d29d7a": {
          "model_module": "@jupyter-widgets/base",
          "model_name": "LayoutModel",
          "state": {
            "_view_name": "LayoutView",
            "grid_template_rows": null,
            "right": null,
            "justify_content": null,
            "_view_module": "@jupyter-widgets/base",
            "overflow": null,
            "_model_module_version": "1.2.0",
            "_view_count": null,
            "flex_flow": null,
            "width": null,
            "min_width": null,
            "border": null,
            "align_items": null,
            "bottom": null,
            "_model_module": "@jupyter-widgets/base",
            "top": null,
            "grid_column": null,
            "overflow_y": null,
            "overflow_x": null,
            "grid_auto_flow": null,
            "grid_area": null,
            "grid_template_columns": null,
            "flex": null,
            "_model_name": "LayoutModel",
            "justify_items": null,
            "grid_row": null,
            "max_height": null,
            "align_content": null,
            "visibility": null,
            "align_self": null,
            "height": null,
            "min_height": null,
            "padding": null,
            "grid_auto_rows": null,
            "grid_gap": null,
            "max_width": null,
            "order": null,
            "_view_module_version": "1.2.0",
            "grid_template_areas": null,
            "object_position": null,
            "object_fit": null,
            "grid_auto_columns": null,
            "margin": null,
            "display": null,
            "left": null
          }
        },
        "baa90ca15559421f8db98d470b5e47b5": {
          "model_module": "@jupyter-widgets/controls",
          "model_name": "DescriptionStyleModel",
          "state": {
            "_view_name": "StyleView",
            "_model_name": "DescriptionStyleModel",
            "description_width": "",
            "_view_module": "@jupyter-widgets/base",
            "_model_module_version": "1.5.0",
            "_view_count": null,
            "_view_module_version": "1.2.0",
            "_model_module": "@jupyter-widgets/controls"
          }
        },
        "0ebf148ad29b4683a1f7a6fda32266c9": {
          "model_module": "@jupyter-widgets/base",
          "model_name": "LayoutModel",
          "state": {
            "_view_name": "LayoutView",
            "grid_template_rows": null,
            "right": null,
            "justify_content": null,
            "_view_module": "@jupyter-widgets/base",
            "overflow": null,
            "_model_module_version": "1.2.0",
            "_view_count": null,
            "flex_flow": null,
            "width": null,
            "min_width": null,
            "border": null,
            "align_items": null,
            "bottom": null,
            "_model_module": "@jupyter-widgets/base",
            "top": null,
            "grid_column": null,
            "overflow_y": null,
            "overflow_x": null,
            "grid_auto_flow": null,
            "grid_area": null,
            "grid_template_columns": null,
            "flex": null,
            "_model_name": "LayoutModel",
            "justify_items": null,
            "grid_row": null,
            "max_height": null,
            "align_content": null,
            "visibility": null,
            "align_self": null,
            "height": null,
            "min_height": null,
            "padding": null,
            "grid_auto_rows": null,
            "grid_gap": null,
            "max_width": null,
            "order": null,
            "_view_module_version": "1.2.0",
            "grid_template_areas": null,
            "object_position": null,
            "object_fit": null,
            "grid_auto_columns": null,
            "margin": null,
            "display": null,
            "left": null
          }
        },
        "45537806fc724952ba8481c727d6ce01": {
          "model_module": "@jupyter-widgets/controls",
          "model_name": "HBoxModel",
          "state": {
            "_view_name": "HBoxView",
            "_dom_classes": [],
            "_model_name": "HBoxModel",
            "_view_module": "@jupyter-widgets/controls",
            "_model_module_version": "1.5.0",
            "_view_count": null,
            "_view_module_version": "1.5.0",
            "box_style": "",
            "layout": "IPY_MODEL_1790dda59877444eb861c04361b9e0dd",
            "_model_module": "@jupyter-widgets/controls",
            "children": [
              "IPY_MODEL_cd82ce62f51540c1bed8c48b639c9e4f",
              "IPY_MODEL_b965e4ada5c4459a8b6cd8fea96500b3"
            ]
          }
        },
        "1790dda59877444eb861c04361b9e0dd": {
          "model_module": "@jupyter-widgets/base",
          "model_name": "LayoutModel",
          "state": {
            "_view_name": "LayoutView",
            "grid_template_rows": null,
            "right": null,
            "justify_content": null,
            "_view_module": "@jupyter-widgets/base",
            "overflow": null,
            "_model_module_version": "1.2.0",
            "_view_count": null,
            "flex_flow": null,
            "width": null,
            "min_width": null,
            "border": null,
            "align_items": null,
            "bottom": null,
            "_model_module": "@jupyter-widgets/base",
            "top": null,
            "grid_column": null,
            "overflow_y": null,
            "overflow_x": null,
            "grid_auto_flow": null,
            "grid_area": null,
            "grid_template_columns": null,
            "flex": null,
            "_model_name": "LayoutModel",
            "justify_items": null,
            "grid_row": null,
            "max_height": null,
            "align_content": null,
            "visibility": null,
            "align_self": null,
            "height": null,
            "min_height": null,
            "padding": null,
            "grid_auto_rows": null,
            "grid_gap": null,
            "max_width": null,
            "order": null,
            "_view_module_version": "1.2.0",
            "grid_template_areas": null,
            "object_position": null,
            "object_fit": null,
            "grid_auto_columns": null,
            "margin": null,
            "display": null,
            "left": null
          }
        },
        "cd82ce62f51540c1bed8c48b639c9e4f": {
          "model_module": "@jupyter-widgets/controls",
          "model_name": "FloatProgressModel",
          "state": {
            "_view_name": "ProgressView",
            "style": "IPY_MODEL_f3918270636e41a787f513d7ff6e7280",
            "_dom_classes": [],
            "description": "",
            "_model_name": "FloatProgressModel",
            "bar_style": "success",
            "max": 1,
            "_view_module": "@jupyter-widgets/controls",
            "_model_module_version": "1.5.0",
            "value": 1,
            "_view_count": null,
            "_view_module_version": "1.5.0",
            "orientation": "horizontal",
            "min": 0,
            "description_tooltip": null,
            "_model_module": "@jupyter-widgets/controls",
            "layout": "IPY_MODEL_0736046e7a8948c0a50fe40eefc68d60"
          }
        },
        "b965e4ada5c4459a8b6cd8fea96500b3": {
          "model_module": "@jupyter-widgets/controls",
          "model_name": "HTMLModel",
          "state": {
            "_view_name": "HTMLView",
            "style": "IPY_MODEL_17a0b6460f9e45f584b397f14efd59d0",
            "_dom_classes": [],
            "description": "",
            "_model_name": "HTMLModel",
            "placeholder": "​",
            "_view_module": "@jupyter-widgets/controls",
            "_model_module_version": "1.5.0",
            "value": " 32768/? [00:00&lt;00:00, 33227.88it/s]",
            "_view_count": null,
            "_view_module_version": "1.5.0",
            "description_tooltip": null,
            "_model_module": "@jupyter-widgets/controls",
            "layout": "IPY_MODEL_0c28d25fe0c0455095ff6be80df5a26e"
          }
        },
        "f3918270636e41a787f513d7ff6e7280": {
          "model_module": "@jupyter-widgets/controls",
          "model_name": "ProgressStyleModel",
          "state": {
            "_view_name": "StyleView",
            "_model_name": "ProgressStyleModel",
            "description_width": "initial",
            "_view_module": "@jupyter-widgets/base",
            "_model_module_version": "1.5.0",
            "_view_count": null,
            "_view_module_version": "1.2.0",
            "bar_color": null,
            "_model_module": "@jupyter-widgets/controls"
          }
        },
        "0736046e7a8948c0a50fe40eefc68d60": {
          "model_module": "@jupyter-widgets/base",
          "model_name": "LayoutModel",
          "state": {
            "_view_name": "LayoutView",
            "grid_template_rows": null,
            "right": null,
            "justify_content": null,
            "_view_module": "@jupyter-widgets/base",
            "overflow": null,
            "_model_module_version": "1.2.0",
            "_view_count": null,
            "flex_flow": null,
            "width": null,
            "min_width": null,
            "border": null,
            "align_items": null,
            "bottom": null,
            "_model_module": "@jupyter-widgets/base",
            "top": null,
            "grid_column": null,
            "overflow_y": null,
            "overflow_x": null,
            "grid_auto_flow": null,
            "grid_area": null,
            "grid_template_columns": null,
            "flex": null,
            "_model_name": "LayoutModel",
            "justify_items": null,
            "grid_row": null,
            "max_height": null,
            "align_content": null,
            "visibility": null,
            "align_self": null,
            "height": null,
            "min_height": null,
            "padding": null,
            "grid_auto_rows": null,
            "grid_gap": null,
            "max_width": null,
            "order": null,
            "_view_module_version": "1.2.0",
            "grid_template_areas": null,
            "object_position": null,
            "object_fit": null,
            "grid_auto_columns": null,
            "margin": null,
            "display": null,
            "left": null
          }
        },
        "17a0b6460f9e45f584b397f14efd59d0": {
          "model_module": "@jupyter-widgets/controls",
          "model_name": "DescriptionStyleModel",
          "state": {
            "_view_name": "StyleView",
            "_model_name": "DescriptionStyleModel",
            "description_width": "",
            "_view_module": "@jupyter-widgets/base",
            "_model_module_version": "1.5.0",
            "_view_count": null,
            "_view_module_version": "1.2.0",
            "_model_module": "@jupyter-widgets/controls"
          }
        },
        "0c28d25fe0c0455095ff6be80df5a26e": {
          "model_module": "@jupyter-widgets/base",
          "model_name": "LayoutModel",
          "state": {
            "_view_name": "LayoutView",
            "grid_template_rows": null,
            "right": null,
            "justify_content": null,
            "_view_module": "@jupyter-widgets/base",
            "overflow": null,
            "_model_module_version": "1.2.0",
            "_view_count": null,
            "flex_flow": null,
            "width": null,
            "min_width": null,
            "border": null,
            "align_items": null,
            "bottom": null,
            "_model_module": "@jupyter-widgets/base",
            "top": null,
            "grid_column": null,
            "overflow_y": null,
            "overflow_x": null,
            "grid_auto_flow": null,
            "grid_area": null,
            "grid_template_columns": null,
            "flex": null,
            "_model_name": "LayoutModel",
            "justify_items": null,
            "grid_row": null,
            "max_height": null,
            "align_content": null,
            "visibility": null,
            "align_self": null,
            "height": null,
            "min_height": null,
            "padding": null,
            "grid_auto_rows": null,
            "grid_gap": null,
            "max_width": null,
            "order": null,
            "_view_module_version": "1.2.0",
            "grid_template_areas": null,
            "object_position": null,
            "object_fit": null,
            "grid_auto_columns": null,
            "margin": null,
            "display": null,
            "left": null
          }
        },
        "3bed8d35a89b4f17b31bd97e9ac2f34c": {
          "model_module": "@jupyter-widgets/controls",
          "model_name": "HBoxModel",
          "state": {
            "_view_name": "HBoxView",
            "_dom_classes": [],
            "_model_name": "HBoxModel",
            "_view_module": "@jupyter-widgets/controls",
            "_model_module_version": "1.5.0",
            "_view_count": null,
            "_view_module_version": "1.5.0",
            "box_style": "",
            "layout": "IPY_MODEL_3d352c3a8b594f249412832f89d2d393",
            "_model_module": "@jupyter-widgets/controls",
            "children": [
              "IPY_MODEL_f4264231c4cc459d957b2412154cc407",
              "IPY_MODEL_f3ce91991abd4df1a2d140d42d8adfd5"
            ]
          }
        },
        "3d352c3a8b594f249412832f89d2d393": {
          "model_module": "@jupyter-widgets/base",
          "model_name": "LayoutModel",
          "state": {
            "_view_name": "LayoutView",
            "grid_template_rows": null,
            "right": null,
            "justify_content": null,
            "_view_module": "@jupyter-widgets/base",
            "overflow": null,
            "_model_module_version": "1.2.0",
            "_view_count": null,
            "flex_flow": null,
            "width": null,
            "min_width": null,
            "border": null,
            "align_items": null,
            "bottom": null,
            "_model_module": "@jupyter-widgets/base",
            "top": null,
            "grid_column": null,
            "overflow_y": null,
            "overflow_x": null,
            "grid_auto_flow": null,
            "grid_area": null,
            "grid_template_columns": null,
            "flex": null,
            "_model_name": "LayoutModel",
            "justify_items": null,
            "grid_row": null,
            "max_height": null,
            "align_content": null,
            "visibility": null,
            "align_self": null,
            "height": null,
            "min_height": null,
            "padding": null,
            "grid_auto_rows": null,
            "grid_gap": null,
            "max_width": null,
            "order": null,
            "_view_module_version": "1.2.0",
            "grid_template_areas": null,
            "object_position": null,
            "object_fit": null,
            "grid_auto_columns": null,
            "margin": null,
            "display": null,
            "left": null
          }
        },
        "f4264231c4cc459d957b2412154cc407": {
          "model_module": "@jupyter-widgets/controls",
          "model_name": "FloatProgressModel",
          "state": {
            "_view_name": "ProgressView",
            "style": "IPY_MODEL_94182ae66e7c4877ab23426353f9598d",
            "_dom_classes": [],
            "description": "",
            "_model_name": "FloatProgressModel",
            "bar_style": "success",
            "max": 1,
            "_view_module": "@jupyter-widgets/controls",
            "_model_module_version": "1.5.0",
            "value": 1,
            "_view_count": null,
            "_view_module_version": "1.5.0",
            "orientation": "horizontal",
            "min": 0,
            "description_tooltip": null,
            "_model_module": "@jupyter-widgets/controls",
            "layout": "IPY_MODEL_63d85a705339467fb998fd0a18e02f39"
          }
        },
        "f3ce91991abd4df1a2d140d42d8adfd5": {
          "model_module": "@jupyter-widgets/controls",
          "model_name": "HTMLModel",
          "state": {
            "_view_name": "HTMLView",
            "style": "IPY_MODEL_0a458ed7e05544a4a9385067768717b6",
            "_dom_classes": [],
            "description": "",
            "_model_name": "HTMLModel",
            "placeholder": "​",
            "_view_module": "@jupyter-widgets/controls",
            "_model_module_version": "1.5.0",
            "value": " 1654784/? [00:00&lt;00:00, 2277481.92it/s]",
            "_view_count": null,
            "_view_module_version": "1.5.0",
            "description_tooltip": null,
            "_model_module": "@jupyter-widgets/controls",
            "layout": "IPY_MODEL_76305ab5a5284252aae9f83438ea26ff"
          }
        },
        "94182ae66e7c4877ab23426353f9598d": {
          "model_module": "@jupyter-widgets/controls",
          "model_name": "ProgressStyleModel",
          "state": {
            "_view_name": "StyleView",
            "_model_name": "ProgressStyleModel",
            "description_width": "initial",
            "_view_module": "@jupyter-widgets/base",
            "_model_module_version": "1.5.0",
            "_view_count": null,
            "_view_module_version": "1.2.0",
            "bar_color": null,
            "_model_module": "@jupyter-widgets/controls"
          }
        },
        "63d85a705339467fb998fd0a18e02f39": {
          "model_module": "@jupyter-widgets/base",
          "model_name": "LayoutModel",
          "state": {
            "_view_name": "LayoutView",
            "grid_template_rows": null,
            "right": null,
            "justify_content": null,
            "_view_module": "@jupyter-widgets/base",
            "overflow": null,
            "_model_module_version": "1.2.0",
            "_view_count": null,
            "flex_flow": null,
            "width": null,
            "min_width": null,
            "border": null,
            "align_items": null,
            "bottom": null,
            "_model_module": "@jupyter-widgets/base",
            "top": null,
            "grid_column": null,
            "overflow_y": null,
            "overflow_x": null,
            "grid_auto_flow": null,
            "grid_area": null,
            "grid_template_columns": null,
            "flex": null,
            "_model_name": "LayoutModel",
            "justify_items": null,
            "grid_row": null,
            "max_height": null,
            "align_content": null,
            "visibility": null,
            "align_self": null,
            "height": null,
            "min_height": null,
            "padding": null,
            "grid_auto_rows": null,
            "grid_gap": null,
            "max_width": null,
            "order": null,
            "_view_module_version": "1.2.0",
            "grid_template_areas": null,
            "object_position": null,
            "object_fit": null,
            "grid_auto_columns": null,
            "margin": null,
            "display": null,
            "left": null
          }
        },
        "0a458ed7e05544a4a9385067768717b6": {
          "model_module": "@jupyter-widgets/controls",
          "model_name": "DescriptionStyleModel",
          "state": {
            "_view_name": "StyleView",
            "_model_name": "DescriptionStyleModel",
            "description_width": "",
            "_view_module": "@jupyter-widgets/base",
            "_model_module_version": "1.5.0",
            "_view_count": null,
            "_view_module_version": "1.2.0",
            "_model_module": "@jupyter-widgets/controls"
          }
        },
        "76305ab5a5284252aae9f83438ea26ff": {
          "model_module": "@jupyter-widgets/base",
          "model_name": "LayoutModel",
          "state": {
            "_view_name": "LayoutView",
            "grid_template_rows": null,
            "right": null,
            "justify_content": null,
            "_view_module": "@jupyter-widgets/base",
            "overflow": null,
            "_model_module_version": "1.2.0",
            "_view_count": null,
            "flex_flow": null,
            "width": null,
            "min_width": null,
            "border": null,
            "align_items": null,
            "bottom": null,
            "_model_module": "@jupyter-widgets/base",
            "top": null,
            "grid_column": null,
            "overflow_y": null,
            "overflow_x": null,
            "grid_auto_flow": null,
            "grid_area": null,
            "grid_template_columns": null,
            "flex": null,
            "_model_name": "LayoutModel",
            "justify_items": null,
            "grid_row": null,
            "max_height": null,
            "align_content": null,
            "visibility": null,
            "align_self": null,
            "height": null,
            "min_height": null,
            "padding": null,
            "grid_auto_rows": null,
            "grid_gap": null,
            "max_width": null,
            "order": null,
            "_view_module_version": "1.2.0",
            "grid_template_areas": null,
            "object_position": null,
            "object_fit": null,
            "grid_auto_columns": null,
            "margin": null,
            "display": null,
            "left": null
          }
        },
        "c26005d6e4b94b8bb7cc06910618206e": {
          "model_module": "@jupyter-widgets/controls",
          "model_name": "HBoxModel",
          "state": {
            "_view_name": "HBoxView",
            "_dom_classes": [],
            "_model_name": "HBoxModel",
            "_view_module": "@jupyter-widgets/controls",
            "_model_module_version": "1.5.0",
            "_view_count": null,
            "_view_module_version": "1.5.0",
            "box_style": "",
            "layout": "IPY_MODEL_71e1346d5b164fdf9dd1e91e35fe328d",
            "_model_module": "@jupyter-widgets/controls",
            "children": [
              "IPY_MODEL_daea2766626c44cdbf2fc98d49a03403",
              "IPY_MODEL_71c4ef21bc8543088e8ad1ac34742aac"
            ]
          }
        },
        "71e1346d5b164fdf9dd1e91e35fe328d": {
          "model_module": "@jupyter-widgets/base",
          "model_name": "LayoutModel",
          "state": {
            "_view_name": "LayoutView",
            "grid_template_rows": null,
            "right": null,
            "justify_content": null,
            "_view_module": "@jupyter-widgets/base",
            "overflow": null,
            "_model_module_version": "1.2.0",
            "_view_count": null,
            "flex_flow": null,
            "width": null,
            "min_width": null,
            "border": null,
            "align_items": null,
            "bottom": null,
            "_model_module": "@jupyter-widgets/base",
            "top": null,
            "grid_column": null,
            "overflow_y": null,
            "overflow_x": null,
            "grid_auto_flow": null,
            "grid_area": null,
            "grid_template_columns": null,
            "flex": null,
            "_model_name": "LayoutModel",
            "justify_items": null,
            "grid_row": null,
            "max_height": null,
            "align_content": null,
            "visibility": null,
            "align_self": null,
            "height": null,
            "min_height": null,
            "padding": null,
            "grid_auto_rows": null,
            "grid_gap": null,
            "max_width": null,
            "order": null,
            "_view_module_version": "1.2.0",
            "grid_template_areas": null,
            "object_position": null,
            "object_fit": null,
            "grid_auto_columns": null,
            "margin": null,
            "display": null,
            "left": null
          }
        },
        "daea2766626c44cdbf2fc98d49a03403": {
          "model_module": "@jupyter-widgets/controls",
          "model_name": "FloatProgressModel",
          "state": {
            "_view_name": "ProgressView",
            "style": "IPY_MODEL_4005328acb294474b9844b02e897b9f7",
            "_dom_classes": [],
            "description": "",
            "_model_name": "FloatProgressModel",
            "bar_style": "success",
            "max": 1,
            "_view_module": "@jupyter-widgets/controls",
            "_model_module_version": "1.5.0",
            "value": 1,
            "_view_count": null,
            "_view_module_version": "1.5.0",
            "orientation": "horizontal",
            "min": 0,
            "description_tooltip": null,
            "_model_module": "@jupyter-widgets/controls",
            "layout": "IPY_MODEL_bfb5d6f713044015a470d095cb3deeb4"
          }
        },
        "71c4ef21bc8543088e8ad1ac34742aac": {
          "model_module": "@jupyter-widgets/controls",
          "model_name": "HTMLModel",
          "state": {
            "_view_name": "HTMLView",
            "style": "IPY_MODEL_b70bc000d7884756baf6fe357fab841f",
            "_dom_classes": [],
            "description": "",
            "_model_name": "HTMLModel",
            "placeholder": "​",
            "_view_module": "@jupyter-widgets/controls",
            "_model_module_version": "1.5.0",
            "value": " 8192/? [00:06&lt;00:00, 1193.43it/s]",
            "_view_count": null,
            "_view_module_version": "1.5.0",
            "description_tooltip": null,
            "_model_module": "@jupyter-widgets/controls",
            "layout": "IPY_MODEL_dc9f65717262415badb36535e99688f8"
          }
        },
        "4005328acb294474b9844b02e897b9f7": {
          "model_module": "@jupyter-widgets/controls",
          "model_name": "ProgressStyleModel",
          "state": {
            "_view_name": "StyleView",
            "_model_name": "ProgressStyleModel",
            "description_width": "initial",
            "_view_module": "@jupyter-widgets/base",
            "_model_module_version": "1.5.0",
            "_view_count": null,
            "_view_module_version": "1.2.0",
            "bar_color": null,
            "_model_module": "@jupyter-widgets/controls"
          }
        },
        "bfb5d6f713044015a470d095cb3deeb4": {
          "model_module": "@jupyter-widgets/base",
          "model_name": "LayoutModel",
          "state": {
            "_view_name": "LayoutView",
            "grid_template_rows": null,
            "right": null,
            "justify_content": null,
            "_view_module": "@jupyter-widgets/base",
            "overflow": null,
            "_model_module_version": "1.2.0",
            "_view_count": null,
            "flex_flow": null,
            "width": null,
            "min_width": null,
            "border": null,
            "align_items": null,
            "bottom": null,
            "_model_module": "@jupyter-widgets/base",
            "top": null,
            "grid_column": null,
            "overflow_y": null,
            "overflow_x": null,
            "grid_auto_flow": null,
            "grid_area": null,
            "grid_template_columns": null,
            "flex": null,
            "_model_name": "LayoutModel",
            "justify_items": null,
            "grid_row": null,
            "max_height": null,
            "align_content": null,
            "visibility": null,
            "align_self": null,
            "height": null,
            "min_height": null,
            "padding": null,
            "grid_auto_rows": null,
            "grid_gap": null,
            "max_width": null,
            "order": null,
            "_view_module_version": "1.2.0",
            "grid_template_areas": null,
            "object_position": null,
            "object_fit": null,
            "grid_auto_columns": null,
            "margin": null,
            "display": null,
            "left": null
          }
        },
        "b70bc000d7884756baf6fe357fab841f": {
          "model_module": "@jupyter-widgets/controls",
          "model_name": "DescriptionStyleModel",
          "state": {
            "_view_name": "StyleView",
            "_model_name": "DescriptionStyleModel",
            "description_width": "",
            "_view_module": "@jupyter-widgets/base",
            "_model_module_version": "1.5.0",
            "_view_count": null,
            "_view_module_version": "1.2.0",
            "_model_module": "@jupyter-widgets/controls"
          }
        },
        "dc9f65717262415badb36535e99688f8": {
          "model_module": "@jupyter-widgets/base",
          "model_name": "LayoutModel",
          "state": {
            "_view_name": "LayoutView",
            "grid_template_rows": null,
            "right": null,
            "justify_content": null,
            "_view_module": "@jupyter-widgets/base",
            "overflow": null,
            "_model_module_version": "1.2.0",
            "_view_count": null,
            "flex_flow": null,
            "width": null,
            "min_width": null,
            "border": null,
            "align_items": null,
            "bottom": null,
            "_model_module": "@jupyter-widgets/base",
            "top": null,
            "grid_column": null,
            "overflow_y": null,
            "overflow_x": null,
            "grid_auto_flow": null,
            "grid_area": null,
            "grid_template_columns": null,
            "flex": null,
            "_model_name": "LayoutModel",
            "justify_items": null,
            "grid_row": null,
            "max_height": null,
            "align_content": null,
            "visibility": null,
            "align_self": null,
            "height": null,
            "min_height": null,
            "padding": null,
            "grid_auto_rows": null,
            "grid_gap": null,
            "max_width": null,
            "order": null,
            "_view_module_version": "1.2.0",
            "grid_template_areas": null,
            "object_position": null,
            "object_fit": null,
            "grid_auto_columns": null,
            "margin": null,
            "display": null,
            "left": null
          }
        }
      }
    }
  },
  "cells": [
    {
      "cell_type": "markdown",
      "metadata": {
        "id": "YgdY5NRvRorA"
      },
      "source": [
        "### Implementation of Simple and Scalable Predictive Uncertainty Estimation using Deep Ensembles. [Paper](https://papers.nips.cc/paper/2017/file/9ef2ed4b7fd2c810847ffa5fa85bce38-Paper.pdf)"
      ]
    },
    {
      "cell_type": "markdown",
      "metadata": {
        "id": "bcKffCGXNrXd"
      },
      "source": [
        "**Testing with mix of IN and OUT distribution**"
      ]
    },
    {
      "cell_type": "code",
      "metadata": {
        "id": "b5JSilkaErfO"
      },
      "source": [
        ""
      ],
      "execution_count": null,
      "outputs": []
    },
    {
      "cell_type": "markdown",
      "metadata": {
        "id": "ErosquTnV5wL"
      },
      "source": [
        "##### notes:\n",
        "\n",
        "1.   learning rate, optimization\n",
        "2.  What about  external text set\n",
        "3.  Hyperparameter Tuning\n",
        "\n"
      ]
    },
    {
      "cell_type": "markdown",
      "metadata": {
        "id": "etRRi6G6SF38"
      },
      "source": [
        "\n",
        "\n",
        "### Setting up the Environment\n",
        "\n"
      ]
    },
    {
      "cell_type": "code",
      "metadata": {
        "id": "D-pycO1MRWT-"
      },
      "source": [
        "%load_ext autoreload\n",
        "%autoreload 2"
      ],
      "execution_count": 1,
      "outputs": []
    },
    {
      "cell_type": "code",
      "metadata": {
        "id": "p_6e-GadRfkE"
      },
      "source": [
        "import torch\n",
        "import torchvision\n",
        "from torch.utils.data import Dataset\n",
        "import math\n",
        "import os\n",
        "import time\n",
        "from typing import Dict, Any, Optional\n",
        "import numpy as np\n",
        "import torch\n",
        "import torch.nn as nn\n",
        "import torch.nn.functional as F\n",
        "from torch.utils.data import DataLoader, Dataset\n",
        "from PIL import Image\n",
        "import tqdm\n",
        "from torch.optim.lr_scheduler import LambdaLR"
      ],
      "execution_count": 2,
      "outputs": []
    },
    {
      "cell_type": "markdown",
      "metadata": {
        "id": "uI05hTZWWZ3b"
      },
      "source": [
        "### Load MNIST"
      ]
    },
    {
      "cell_type": "code",
      "metadata": {
        "id": "S90WMEvLnHU6"
      },
      "source": [
        "class Split_MNIST_Dataset(Dataset):\n",
        "    def __init__(self, mnist_dataset: Dataset, classes: [], transform=None):\n",
        "        assert len(classes) > 0\n",
        "\n",
        "        # Find the indices of examples with targets which are one of those given in classes\n",
        "        split_dataset_idxs = mnist_dataset.targets == classes[0] \n",
        "        for target_class in classes[1:]:\n",
        "            split_dataset_idxs = split_dataset_idxs | (mnist_dataset.targets == target_class) \n",
        "\n",
        "        self.data = mnist_dataset.data[split_dataset_idxs]\n",
        "        self.targets = mnist_dataset.targets[split_dataset_idxs]\n",
        "\n",
        "        self.transform = transform\n",
        "    \n",
        "    def __getitem__(self, index):\n",
        "        img, target = self.data[index], int(self.targets[index])\n",
        "\n",
        "        # doing this so that it is consistent with all other datasets\n",
        "        # to return a PIL Image\n",
        "        img = Image.fromarray(img.numpy(), mode='L')\n",
        "\n",
        "        if self.transform is not None:\n",
        "            img = self.transform(img)\n",
        "\n",
        "        return img, target\n",
        "\n",
        "    def __len__(self):\n",
        "        return len(self.data)\n"
      ],
      "execution_count": 3,
      "outputs": []
    },
    {
      "cell_type": "code",
      "metadata": {
        "id": "PgbbeD5MaK31"
      },
      "source": [
        "# Load the data\n",
        "class ReshapeTo784:\n",
        "    def __init__(self, n):\n",
        "        self.n = n\n",
        "\n",
        "    def __call__(self, x):\n",
        "        return x.view(self.n)\n",
        "transform=torchvision.transforms.Compose([torchvision.transforms.ToTensor(), torchvision.transforms.Normalize((0.1307,), (0.3081,)), ReshapeTo784([784])])\n"
      ],
      "execution_count": 4,
      "outputs": []
    },
    {
      "cell_type": "code",
      "metadata": {
        "colab": {
          "base_uri": "https://localhost:8080/",
          "height": 403,
          "referenced_widgets": [
            "9f19a840349d4c758debfd31e14190ea",
            "7a6978b49399461884c59bbf89c6f3e0",
            "f0ab77cf3a78485890297687d0f69709",
            "e33580c05e284bfabd3ad17a31a38cab",
            "15f7df3244064ee4853f8cdee4c4e9e2",
            "000ae980260647eeb3e2ddef83d29d7a",
            "baa90ca15559421f8db98d470b5e47b5",
            "0ebf148ad29b4683a1f7a6fda32266c9",
            "45537806fc724952ba8481c727d6ce01",
            "1790dda59877444eb861c04361b9e0dd",
            "cd82ce62f51540c1bed8c48b639c9e4f",
            "b965e4ada5c4459a8b6cd8fea96500b3",
            "f3918270636e41a787f513d7ff6e7280",
            "0736046e7a8948c0a50fe40eefc68d60",
            "17a0b6460f9e45f584b397f14efd59d0",
            "0c28d25fe0c0455095ff6be80df5a26e",
            "3bed8d35a89b4f17b31bd97e9ac2f34c",
            "3d352c3a8b594f249412832f89d2d393",
            "f4264231c4cc459d957b2412154cc407",
            "f3ce91991abd4df1a2d140d42d8adfd5",
            "94182ae66e7c4877ab23426353f9598d",
            "63d85a705339467fb998fd0a18e02f39",
            "0a458ed7e05544a4a9385067768717b6",
            "76305ab5a5284252aae9f83438ea26ff",
            "c26005d6e4b94b8bb7cc06910618206e",
            "71e1346d5b164fdf9dd1e91e35fe328d",
            "daea2766626c44cdbf2fc98d49a03403",
            "71c4ef21bc8543088e8ad1ac34742aac",
            "4005328acb294474b9844b02e897b9f7",
            "bfb5d6f713044015a470d095cb3deeb4",
            "b70bc000d7884756baf6fe357fab841f",
            "dc9f65717262415badb36535e99688f8"
          ]
        },
        "id": "licyWPsDeT46",
        "outputId": "4e0e8d83-354f-4665-ac36-38fcfc85128b"
      },
      "source": [
        "train_data_minist =torchvision.datasets.MNIST(root='./data', train=True,\n",
        "                                         transform=transform,\n",
        "                                  \n",
        "                                         download=True)\n",
        "test_data_minist =torchvision.datasets.MNIST(root='./data', train=False,\n",
        "                                         transform=transform,\n",
        "                                \n",
        "                                        target_transform=None, download=True)"
      ],
      "execution_count": 5,
      "outputs": [
        {
          "output_type": "stream",
          "text": [
            "Downloading http://yann.lecun.com/exdb/mnist/train-images-idx3-ubyte.gz to ./data/MNIST/raw/train-images-idx3-ubyte.gz\n"
          ],
          "name": "stdout"
        },
        {
          "output_type": "display_data",
          "data": {
            "application/vnd.jupyter.widget-view+json": {
              "model_id": "9f19a840349d4c758debfd31e14190ea",
              "version_minor": 0,
              "version_major": 2
            },
            "text/plain": [
              "HBox(children=(FloatProgress(value=1.0, bar_style='info', max=1.0), HTML(value='')))"
            ]
          },
          "metadata": {
            "tags": []
          }
        },
        {
          "output_type": "stream",
          "text": [
            "Extracting ./data/MNIST/raw/train-images-idx3-ubyte.gz to ./data/MNIST/raw\n",
            "Downloading http://yann.lecun.com/exdb/mnist/train-labels-idx1-ubyte.gz to ./data/MNIST/raw/train-labels-idx1-ubyte.gz\n"
          ],
          "name": "stdout"
        },
        {
          "output_type": "display_data",
          "data": {
            "application/vnd.jupyter.widget-view+json": {
              "model_id": "45537806fc724952ba8481c727d6ce01",
              "version_minor": 0,
              "version_major": 2
            },
            "text/plain": [
              "HBox(children=(FloatProgress(value=1.0, bar_style='info', max=1.0), HTML(value='')))"
            ]
          },
          "metadata": {
            "tags": []
          }
        },
        {
          "output_type": "stream",
          "text": [
            "Extracting ./data/MNIST/raw/train-labels-idx1-ubyte.gz to ./data/MNIST/raw\n",
            "Downloading http://yann.lecun.com/exdb/mnist/t10k-images-idx3-ubyte.gz to ./data/MNIST/raw/t10k-images-idx3-ubyte.gz\n"
          ],
          "name": "stdout"
        },
        {
          "output_type": "display_data",
          "data": {
            "application/vnd.jupyter.widget-view+json": {
              "model_id": "3bed8d35a89b4f17b31bd97e9ac2f34c",
              "version_minor": 0,
              "version_major": 2
            },
            "text/plain": [
              "HBox(children=(FloatProgress(value=1.0, bar_style='info', max=1.0), HTML(value='')))"
            ]
          },
          "metadata": {
            "tags": []
          }
        },
        {
          "output_type": "stream",
          "text": [
            "Extracting ./data/MNIST/raw/t10k-images-idx3-ubyte.gz to ./data/MNIST/raw\n",
            "Downloading http://yann.lecun.com/exdb/mnist/t10k-labels-idx1-ubyte.gz to ./data/MNIST/raw/t10k-labels-idx1-ubyte.gz\n",
            "\n",
            "\n"
          ],
          "name": "stdout"
        },
        {
          "output_type": "display_data",
          "data": {
            "application/vnd.jupyter.widget-view+json": {
              "model_id": "c26005d6e4b94b8bb7cc06910618206e",
              "version_minor": 0,
              "version_major": 2
            },
            "text/plain": [
              "HBox(children=(FloatProgress(value=1.0, bar_style='info', max=1.0), HTML(value='')))"
            ]
          },
          "metadata": {
            "tags": []
          }
        },
        {
          "output_type": "stream",
          "text": [
            "Extracting ./data/MNIST/raw/t10k-labels-idx1-ubyte.gz to ./data/MNIST/raw\n",
            "Processing...\n",
            "Done!\n"
          ],
          "name": "stdout"
        },
        {
          "output_type": "stream",
          "text": [
            "/usr/local/lib/python3.6/dist-packages/torchvision/datasets/mnist.py:480: UserWarning: The given NumPy array is not writeable, and PyTorch does not support non-writeable tensors. This means you can write to the underlying (supposedly non-writeable) NumPy array using the tensor. You may want to copy the array to protect its data or make it writeable before converting it to a tensor. This type of warning will be suppressed for the rest of this program. (Triggered internally at  /pytorch/torch/csrc/utils/tensor_numpy.cpp:141.)\n",
            "  return torch.from_numpy(parsed.astype(m[2], copy=False)).view(*s)\n"
          ],
          "name": "stderr"
        }
      ]
    },
    {
      "cell_type": "code",
      "metadata": {
        "id": "6vojidQ8YPaB"
      },
      "source": [
        "# Split mnist\n",
        "in_dist_train = Split_MNIST_Dataset(train_data_minist, classes=list(range(5)), transform=transform)\n",
        "in_dist_test = Split_MNIST_Dataset(test_data_minist, classes=list(range(5)), transform=transform)\n",
        "ood_train = Split_MNIST_Dataset(train_data_minist, classes=list(range(5, 10)), transform=transform)\n",
        "ood_test = Split_MNIST_Dataset(test_data_minist, classes=list(range(5, 10)), transform=transform)"
      ],
      "execution_count": 6,
      "outputs": []
    },
    {
      "cell_type": "markdown",
      "metadata": {
        "id": "wWDzf-_0rtwl"
      },
      "source": [
        "### Build training pipeline"
      ]
    },
    {
      "cell_type": "code",
      "metadata": {
        "id": "55NUi_QXgvXv"
      },
      "source": [
        " # Initialize model\n",
        " def MLP():\n",
        "  model = nn.Sequential(\n",
        "      nn.Linear(28*28, 200, bias=True),\n",
        "      nn.BatchNorm1d(200),\n",
        "      nn.ReLU(),\n",
        "      nn.Linear(200, 200, bias=True),\n",
        "      nn.BatchNorm1d(200),\n",
        "      nn.ReLU(),\n",
        "      nn.Linear(200, 200, bias=True),\n",
        "      nn.BatchNorm1d(200),\n",
        "      nn.ReLU(),\n",
        "      nn.Linear(200, 10))\n",
        "  return model"
      ],
      "execution_count": 7,
      "outputs": []
    },
    {
      "cell_type": "code",
      "metadata": {
        "id": "-LpkUgDiwcOn"
      },
      "source": [
        "class SingleModelTraining:\n",
        "    def __init__(self,model, training_criterion,training_set,test_set,optimizer,\n",
        "                  batch_size,log_interval, test_losses, probabilities, test_accuracies,true_targets,device):\n",
        "      self.training_criterion = training_criterion\n",
        "      self.model = model\n",
        "      self.test_dataset = test_set\n",
        "      self.training_dataset = training_set\n",
        "      self.optimizer = optimizer\n",
        "      self.batch_size = batch_size\n",
        "      self.log_interval = log_interval\n",
        "      self.epoche=0\n",
        "      self.num_workers= 0\n",
        "      self.pin_memory=False\n",
        "      # Lists for storing training/test metrics\n",
        "      self.train_loss, self.test_loss = [], []\n",
        "      self.train_accuracy, self.test_accuracy = [], []\n",
        "       # Check that we are training on a sensible GPU\n",
        "     \n",
        "    \n",
        "      self.device =  device\n",
        "      self.step=0\n",
        "       # Model\n",
        "      self.model = model.to(self.device)\n",
        "      self.train_loader = DataLoader(training_set,\n",
        "                                        batch_size=self.batch_size,\n",
        "                                     num_workers=self.num_workers,\n",
        "                                      pin_memory=self.pin_memory,\n",
        "                                        shuffle=True)\n",
        "      self.test_loader = DataLoader(test_set,\n",
        "                                        batch_size=self.batch_size,\n",
        "                                    num_workers=self.num_workers,\n",
        "                                      pin_memory=self.pin_memory,\n",
        "                                        shuffle=False)\n",
        "      if torch.cuda.is_available():\n",
        "        print(\"Let's use\", torch.cuda.device_count(), \"GPUs\")\n",
        "        self.model = nn.DataParallel(self.model)\n",
        "      self.model.to(self.device)\n",
        "\n",
        "    def startTrainingSingleModel(self, nbr_epochs: int) -> None:\n",
        "        for epoch in range( self.epoche,  nbr_epochs):\n",
        "            begining_time = time.time()\n",
        "\n",
        "            self.model.train()  # Set model in train mode\n",
        "            self._train_1_epoch()\n",
        "            self.test()\n",
        "            \n",
        "            avg_train_loss = np.mean(self.train_loss[-math.floor(len(self.train_loader) / self.log_interval):])\n",
        "            print(f\"Epoch {epoch}:\\tTest Loss: {np.round(self.test_loss[-1], 6)};\\t\"\n",
        "      \n",
        "                  f\"Test Accuracy.: {np.round(self.test_accuracy[-1], 4)}s\")\n",
        "\n",
        "    def _train_1_epoch(self):\n",
        "        correct_classified_nbr = 0  # Keep track of num. correctly classified examples\n",
        "        for batch_idx, (inputs, target) in enumerate(self.train_loader, 0):\n",
        "            self.optimizer.zero_grad()\n",
        "            inputs, target = map(lambda x: x.to(self.device, non_blocking=self.pin_memory), (inputs, target))\n",
        "            \n",
        "            \n",
        "            outputs = self.model(inputs)\n",
        "            loss = self.training_criterion(outputs, target)    \n",
        "            assert torch.isnan(loss) == torch.tensor([0], dtype=torch.uint8).to(self.device)\n",
        "            loss.backward() \n",
        "            self.optimizer.step()\n",
        "            self.step += 1\n",
        "            # log statistics\n",
        "            if self.step % self.log_interval == 0:\n",
        "                self.train_loss.append(loss.item())\n",
        "            correct_classified_nbr += (torch.argmax(outputs, dim=1) == target).sum().cpu().item()\n",
        "        self.train_accuracy.append(correct_classified_nbr / len(self.train_loader.dataset))\n",
        "        self.epoche += 1\n",
        "        \n",
        "    def test(self):\n",
        "      self.model.eval()\n",
        "      test_loss = 0\n",
        "      correct = 0\n",
        "      with torch.no_grad():\n",
        "        for  i,(data, target) in enumerate(self.test_loader,0):\n",
        "          data, target = map(lambda x: x.to(self.device),\n",
        "                                         (data, target))\n",
        "          output = self.model(data)\n",
        "        \n",
        "          test_loss += self.training_criterion(output, target)\n",
        "          correct += (torch.argmax(output, dim=1) == target).sum().cpu().item()\n",
        "          sm = torch.nn.Softmax()\n",
        "          \n",
        "          probabilities.append( sm(output) )\n",
        "          true_targets.append(target)\n",
        "     \n",
        "      test_loss = test_loss/len(self.test_loader)\n",
        "      test_accuracy = correct / len(self.test_loader.dataset)\n",
        "      test_losses.append(np.round(test_loss.cpu(),4))\n",
        "      \n",
        "      test_accuracies.append(np.round( test_accuracy, 4))\n",
        "      self.test_loss.append(test_loss.cpu())\n",
        "      self.test_accuracy.append(test_accuracy)\n",
        "      \n",
        "     \n",
        "\n",
        "              "
      ],
      "execution_count": 8,
      "outputs": []
    },
    {
      "cell_type": "code",
      "metadata": {
        "id": "izFN4tqEa5oS"
      },
      "source": [
        ""
      ],
      "execution_count": 8,
      "outputs": []
    },
    {
      "cell_type": "code",
      "metadata": {
        "id": "zRso5ZwmhC5q"
      },
      "source": [
        "class AdversarialTrainer(SingleModelTraining):\n",
        "    def __init__(self, model,\n",
        "                 training_criterion,\n",
        "                 train_dataset, \n",
        "                 test_dataset,\n",
        "                 optimizer,\n",
        "                 batch_size,log_interval, \n",
        "                 adv_example_epsilon,\n",
        "                 data_range, \n",
        "                 adv_example_type, \n",
        "                 test_losses, \n",
        "                 probabilities, \n",
        "                 test_accuracies,true_targets, device) -> None:\n",
        "        super().__init__(\n",
        "            model, training_criterion, train_dataset,\n",
        "            test_dataset, optimizer,\n",
        "            batch_size,  log_interval,test_losses, probabilities, test_accuracies,true_targets,device) \n",
        "        self.data_range=data_range\n",
        "        self.device=torch.device(f\"cuda:{0}\")\n",
        "        self.adv_epsilon=adv_example_epsilon\n",
        "        if adv_example_type == 'fgsm':\n",
        "            self.adv_attack = fgsm_attack\n",
        "        elif adv_example_type == 'rand':\n",
        "            self.adv_attack = random_attack\n",
        "    \n",
        "    def _train_1_epoch(self):\n",
        "        n_correct = 0  # Keep track of num. correctly classified examples\n",
        "        for  batch_idx, (inputs, target) in enumerate(self.train_loader):\n",
        "            inputs, target = map(lambda x: x.to(self.device, non_blocking=self.pin_memory), (inputs, target))\n",
        "            # Compute the adversarial example\n",
        "            inputs.requires_grad = True\n",
        "            self.model.zero_grad()\n",
        "            self.optimizer.zero_grad()\n",
        "\n",
        "            outputs = self.model(inputs)\n",
        "            loss = self.training_criterion(outputs, target)\n",
        "            loss.backward()\n",
        "            self.optimizer.step()\n",
        "            inputs_grad = inputs.grad.data\n",
        "            inputs=inputs.to(self.device)\n",
        "            perturbed_inputs = self.adv_attack(inputs, (self.data_range*self.adv_epsilon).to(device), inputs_grad.to(device))\n",
        "            adv_outputs = self.model(perturbed_inputs)\n",
        "            adv_loss = self.training_criterion(adv_outputs, target)\n",
        "            adv_loss.backward()  # Add the adversarial loss to the gradient\n",
        "            self.step += 1\n",
        "            # log statistics\n",
        "            if self.step % self.log_interval == 0:\n",
        "                self.train_loss.append(loss.item())\n",
        "            n_correct += (torch.argmax(outputs, dim=1) == target).sum().cpu().item()\n",
        "        self.train_accuracy.append(n_correct / len(self.train_loader.dataset))\n",
        "        self.epoche += 1\n",
        "\n",
        "\n",
        "def fgsm_attack(image, epsilon, data_grad):\n",
        "    # Collect the element-wise sign of the data gradient\n",
        "    sign_data_grad = data_grad.sign()\n",
        "    # Create the perturbed image by adjusting each pixel of the input image\n",
        "\n",
        "    perturbed_image = image + epsilon*sign_data_grad\n",
        "     # Adding clipping to maintain [0,1] range\n",
        "    perturbed_image = torch.clamp(perturbed_image, 0, 1)\n",
        "    # Return the perturbed image\n",
        "    return perturbed_image\n",
        "\n",
        "\n",
        "def random_attack(image, epsilon, data_grad):\n",
        "    # Generate a random direction with 1, -1 entries\n",
        "    rand_sign = 2*(torch.bernoulli(torch.ones_like(image)*0.5) - 0.5)\n",
        "    # Create the perturbed image by adjusting each pixel of the input image\n",
        "    perturbed_image = image + epsilon*rand_sign\n",
        "      # Adding clipping to maintain [0,1] range\n",
        "    perturbed_image = torch.clamp(perturbed_image, 0, 1)\n",
        "    # Return the perturbed image\n",
        "    return perturbed_image\n",
        "    "
      ],
      "execution_count": 9,
      "outputs": []
    },
    {
      "cell_type": "code",
      "metadata": {
        "id": "XwgMKjoS-5oW"
      },
      "source": [
        "# Compute the data range\n",
        "def compute_dataset_range(dataset):\n",
        "    data_max = -np.ones(dataset[0][0].shape, dtype=np.float64)*np.inf\n",
        "    data_min = np.ones_like(data_max)*np.inf\n",
        "    for i in tqdm.tqdm(range(len(dataset))):\n",
        "        x = in_dist_train[i][0].numpy()\n",
        "        data_max = np.maximum(data_max, x)\n",
        "        data_min = np.minimum(data_min, x)\n",
        "    return data_max - data_min"
      ],
      "execution_count": 10,
      "outputs": []
    },
    {
      "cell_type": "markdown",
      "metadata": {
        "id": "VBVCDiMcahgM"
      },
      "source": [
        "### Training the different models"
      ]
    },
    {
      "cell_type": "code",
      "metadata": {
        "colab": {
          "base_uri": "https://localhost:8080/"
        },
        "id": "8tz3aR52_BCD",
        "outputId": "9e9adc33-89a3-441b-fc92-eed832660c7e"
      },
      "source": [
        "data_range=compute_dataset_range(in_dist_train)"
      ],
      "execution_count": 11,
      "outputs": [
        {
          "output_type": "stream",
          "text": [
            "100%|██████████| 30596/30596 [00:06<00:00, 5083.42it/s]\n"
          ],
          "name": "stderr"
        }
      ]
    },
    {
      "cell_type": "code",
      "metadata": {
        "id": "HQOzR8aiwkOL"
      },
      "source": [
        "\n",
        "\n",
        "\n",
        "batch_size = 100\n",
        "n_epochs=20\n"
      ],
      "execution_count": 12,
      "outputs": []
    },
    {
      "cell_type": "code",
      "metadata": {
        "colab": {
          "base_uri": "https://localhost:8080/"
        },
        "id": "2F1XgbcHsKlM",
        "outputId": "5a8671b4-42ba-445f-a95b-4b306afeb578"
      },
      "source": [
        "# Ensemble training:\n",
        "test_cases=[1,5,10]\n",
        "list_at_models = dict()\n",
        "list_trainers = dict()\n",
        "list_test_losses =dict()\n",
        "list_probabilities=dict()\n",
        "list_test_accuracies= dict()\n",
        "list_true_targets= dict()\n",
        "for case in test_cases:\n",
        "  at_models = []\n",
        "  trainers = []\n",
        "  test_losses =[]\n",
        "  probabilities=[]\n",
        "  test_accuracies= []\n",
        "  true_targets = []\n",
        "  for i in range(case):\n",
        "      model = MLP()\n",
        "      optimizer = torch.optim.Adam(model.parameters(), lr=0.1)\n",
        "      criterion = torch.nn.CrossEntropyLoss()\n",
        "      device=torch.device(f\"cuda:{0}\")\n",
        "      trainer = SingleModelTraining(model, criterion, in_dist_train,test_data_minist, optimizer,batch_size,100,test_losses, probabilities, test_accuracies,true_targets,device)\n",
        "      trainer.startTrainingSingleModel(n_epochs)\n",
        "      \n",
        "      at_models.append(model)\n",
        "      trainers.append(trainer)\n",
        "  list_at_models[case]=at_models\n",
        "  list_trainers[case]=trainers\n",
        "  list_test_losses[case] =torch.tensor(test_losses).numpy()\n",
        "  list_probabilities[case]=probabilities\n",
        "  list_test_accuracies[case]= test_accuracies\n",
        "  list_true_targets[case]=true_targets\n"
      ],
      "execution_count": 13,
      "outputs": [
        {
          "output_type": "stream",
          "text": [
            "\n",
            "\n",
            "Let's use 1 GPUs\n"
          ],
          "name": "stdout"
        },
        {
          "output_type": "stream",
          "text": [
            "/usr/local/lib/python3.6/dist-packages/ipykernel_launcher.py:86: UserWarning: Implicit dimension choice for softmax has been deprecated. Change the call to include dim=X as an argument.\n"
          ],
          "name": "stderr"
        },
        {
          "output_type": "stream",
          "text": [
            "Epoch 0:\tTest Loss: 5.074120044708252;\tTest Accuracy.: 0.5064s\n",
            "Epoch 1:\tTest Loss: 5.924027919769287;\tTest Accuracy.: 0.5075s\n",
            "Epoch 2:\tTest Loss: 6.473442077636719;\tTest Accuracy.: 0.5089s\n",
            "Epoch 3:\tTest Loss: 5.947478771209717;\tTest Accuracy.: 0.5071s\n",
            "Epoch 4:\tTest Loss: 6.043087959289551;\tTest Accuracy.: 0.5087s\n",
            "Epoch 5:\tTest Loss: 6.467177867889404;\tTest Accuracy.: 0.5102s\n",
            "Epoch 6:\tTest Loss: 6.655337810516357;\tTest Accuracy.: 0.5092s\n",
            "Epoch 7:\tTest Loss: 7.213763236999512;\tTest Accuracy.: 0.5086s\n",
            "Epoch 8:\tTest Loss: 7.428342819213867;\tTest Accuracy.: 0.5095s\n",
            "Epoch 9:\tTest Loss: 7.049109935760498;\tTest Accuracy.: 0.5103s\n",
            "Epoch 10:\tTest Loss: 6.321996212005615;\tTest Accuracy.: 0.5106s\n",
            "Epoch 11:\tTest Loss: 6.485565185546875;\tTest Accuracy.: 0.508s\n",
            "Epoch 12:\tTest Loss: 7.325667858123779;\tTest Accuracy.: 0.51s\n",
            "Epoch 13:\tTest Loss: 7.649529933929443;\tTest Accuracy.: 0.5101s\n",
            "Epoch 14:\tTest Loss: 7.0005340576171875;\tTest Accuracy.: 0.5097s\n",
            "Epoch 15:\tTest Loss: 8.038007736206055;\tTest Accuracy.: 0.5096s\n",
            "Epoch 16:\tTest Loss: 8.213671684265137;\tTest Accuracy.: 0.5108s\n",
            "Epoch 17:\tTest Loss: 8.438920974731445;\tTest Accuracy.: 0.5099s\n",
            "Epoch 18:\tTest Loss: 8.26956558227539;\tTest Accuracy.: 0.5072s\n",
            "Epoch 19:\tTest Loss: 9.05565357208252;\tTest Accuracy.: 0.5086s\n",
            "Let's use 1 GPUs\n",
            "Epoch 0:\tTest Loss: 6.781067848205566;\tTest Accuracy.: 0.5049s\n",
            "Epoch 1:\tTest Loss: 6.4154839515686035;\tTest Accuracy.: 0.5086s\n",
            "Epoch 2:\tTest Loss: 7.104427814483643;\tTest Accuracy.: 0.5077s\n",
            "Epoch 3:\tTest Loss: 7.930044174194336;\tTest Accuracy.: 0.5072s\n",
            "Epoch 4:\tTest Loss: 8.452051162719727;\tTest Accuracy.: 0.5092s\n",
            "Epoch 5:\tTest Loss: 7.335578918457031;\tTest Accuracy.: 0.508s\n",
            "Epoch 6:\tTest Loss: 6.74634313583374;\tTest Accuracy.: 0.5099s\n",
            "Epoch 7:\tTest Loss: 7.6803879737854;\tTest Accuracy.: 0.5098s\n",
            "Epoch 8:\tTest Loss: 7.147889137268066;\tTest Accuracy.: 0.5102s\n",
            "Epoch 9:\tTest Loss: 7.651476860046387;\tTest Accuracy.: 0.5106s\n",
            "Epoch 10:\tTest Loss: 7.604651927947998;\tTest Accuracy.: 0.5094s\n",
            "Epoch 11:\tTest Loss: 6.98093318939209;\tTest Accuracy.: 0.5063s\n",
            "Epoch 12:\tTest Loss: 7.663459777832031;\tTest Accuracy.: 0.5096s\n",
            "Epoch 13:\tTest Loss: 7.882167816162109;\tTest Accuracy.: 0.5099s\n",
            "Epoch 14:\tTest Loss: 7.55413818359375;\tTest Accuracy.: 0.5095s\n",
            "Epoch 15:\tTest Loss: 6.883158206939697;\tTest Accuracy.: 0.5102s\n",
            "Epoch 16:\tTest Loss: 7.234072208404541;\tTest Accuracy.: 0.5104s\n",
            "Epoch 17:\tTest Loss: 8.351180076599121;\tTest Accuracy.: 0.5115s\n",
            "Epoch 18:\tTest Loss: 9.707710266113281;\tTest Accuracy.: 0.5107s\n",
            "Epoch 19:\tTest Loss: 9.272285461425781;\tTest Accuracy.: 0.5101s\n",
            "Let's use 1 GPUs\n",
            "Epoch 0:\tTest Loss: 5.41584587097168;\tTest Accuracy.: 0.5006s\n",
            "Epoch 1:\tTest Loss: 4.252443790435791;\tTest Accuracy.: 0.5039s\n",
            "Epoch 2:\tTest Loss: 5.804255962371826;\tTest Accuracy.: 0.5065s\n",
            "Epoch 3:\tTest Loss: 6.713006019592285;\tTest Accuracy.: 0.5074s\n",
            "Epoch 4:\tTest Loss: 7.41038179397583;\tTest Accuracy.: 0.5086s\n",
            "Epoch 5:\tTest Loss: 7.642652988433838;\tTest Accuracy.: 0.505s\n",
            "Epoch 6:\tTest Loss: 7.554448127746582;\tTest Accuracy.: 0.5052s\n",
            "Epoch 7:\tTest Loss: 7.272887229919434;\tTest Accuracy.: 0.5074s\n",
            "Epoch 8:\tTest Loss: 6.893338203430176;\tTest Accuracy.: 0.5071s\n",
            "Epoch 9:\tTest Loss: 8.643590927124023;\tTest Accuracy.: 0.509s\n",
            "Epoch 10:\tTest Loss: 8.305611610412598;\tTest Accuracy.: 0.5093s\n",
            "Epoch 11:\tTest Loss: 8.62936019897461;\tTest Accuracy.: 0.508s\n",
            "Epoch 12:\tTest Loss: 9.556707382202148;\tTest Accuracy.: 0.5095s\n",
            "Epoch 13:\tTest Loss: 9.157768249511719;\tTest Accuracy.: 0.5093s\n",
            "Epoch 14:\tTest Loss: 9.045921325683594;\tTest Accuracy.: 0.5097s\n",
            "Epoch 15:\tTest Loss: 8.045886039733887;\tTest Accuracy.: 0.5103s\n",
            "Epoch 16:\tTest Loss: 10.425366401672363;\tTest Accuracy.: 0.5058s\n",
            "Epoch 17:\tTest Loss: 9.281233787536621;\tTest Accuracy.: 0.5105s\n",
            "Epoch 18:\tTest Loss: 9.992852210998535;\tTest Accuracy.: 0.5094s\n",
            "Epoch 19:\tTest Loss: 8.58663272857666;\tTest Accuracy.: 0.5093s\n",
            "Let's use 1 GPUs\n",
            "Epoch 0:\tTest Loss: 5.161968231201172;\tTest Accuracy.: 0.5061s\n",
            "Epoch 1:\tTest Loss: 5.716564178466797;\tTest Accuracy.: 0.5059s\n",
            "Epoch 2:\tTest Loss: 5.775300025939941;\tTest Accuracy.: 0.5081s\n",
            "Epoch 3:\tTest Loss: 6.327141761779785;\tTest Accuracy.: 0.5091s\n",
            "Epoch 4:\tTest Loss: 6.014358043670654;\tTest Accuracy.: 0.5083s\n",
            "Epoch 5:\tTest Loss: 6.509806156158447;\tTest Accuracy.: 0.5097s\n",
            "Epoch 6:\tTest Loss: 6.76047420501709;\tTest Accuracy.: 0.5072s\n",
            "Epoch 7:\tTest Loss: 7.150331974029541;\tTest Accuracy.: 0.509s\n",
            "Epoch 8:\tTest Loss: 7.154797077178955;\tTest Accuracy.: 0.5077s\n",
            "Epoch 9:\tTest Loss: 7.549203872680664;\tTest Accuracy.: 0.5098s\n",
            "Epoch 10:\tTest Loss: 8.450018882751465;\tTest Accuracy.: 0.5101s\n",
            "Epoch 11:\tTest Loss: 7.883379936218262;\tTest Accuracy.: 0.5094s\n",
            "Epoch 12:\tTest Loss: 7.8874711990356445;\tTest Accuracy.: 0.5093s\n",
            "Epoch 13:\tTest Loss: 7.627756118774414;\tTest Accuracy.: 0.5081s\n",
            "Epoch 14:\tTest Loss: 9.513656616210938;\tTest Accuracy.: 0.5096s\n",
            "Epoch 15:\tTest Loss: 9.000307083129883;\tTest Accuracy.: 0.5093s\n",
            "Epoch 16:\tTest Loss: 8.333410263061523;\tTest Accuracy.: 0.5098s\n",
            "Epoch 17:\tTest Loss: 8.343026161193848;\tTest Accuracy.: 0.5105s\n",
            "Epoch 18:\tTest Loss: 8.815629959106445;\tTest Accuracy.: 0.51s\n",
            "Epoch 19:\tTest Loss: 8.33086109161377;\tTest Accuracy.: 0.5104s\n",
            "Let's use 1 GPUs\n",
            "Epoch 0:\tTest Loss: 5.590849876403809;\tTest Accuracy.: 0.5051s\n",
            "Epoch 1:\tTest Loss: 6.508863925933838;\tTest Accuracy.: 0.5072s\n",
            "Epoch 2:\tTest Loss: 5.759354114532471;\tTest Accuracy.: 0.5083s\n",
            "Epoch 3:\tTest Loss: 6.426621913909912;\tTest Accuracy.: 0.5098s\n",
            "Epoch 4:\tTest Loss: 6.157285213470459;\tTest Accuracy.: 0.5079s\n",
            "Epoch 5:\tTest Loss: 7.352920055389404;\tTest Accuracy.: 0.5083s\n",
            "Epoch 6:\tTest Loss: 7.5261969566345215;\tTest Accuracy.: 0.5074s\n",
            "Epoch 7:\tTest Loss: 7.560366153717041;\tTest Accuracy.: 0.5094s\n",
            "Epoch 8:\tTest Loss: 7.384592056274414;\tTest Accuracy.: 0.5073s\n",
            "Epoch 9:\tTest Loss: 7.284862995147705;\tTest Accuracy.: 0.5083s\n",
            "Epoch 10:\tTest Loss: 7.883887767791748;\tTest Accuracy.: 0.5093s\n",
            "Epoch 11:\tTest Loss: 8.379070281982422;\tTest Accuracy.: 0.5102s\n",
            "Epoch 12:\tTest Loss: 9.571563720703125;\tTest Accuracy.: 0.5098s\n",
            "Epoch 13:\tTest Loss: 8.13996410369873;\tTest Accuracy.: 0.5076s\n",
            "Epoch 14:\tTest Loss: 7.805490016937256;\tTest Accuracy.: 0.5094s\n",
            "Epoch 15:\tTest Loss: 8.355037689208984;\tTest Accuracy.: 0.5099s\n",
            "Epoch 16:\tTest Loss: 9.154662132263184;\tTest Accuracy.: 0.5097s\n",
            "Epoch 17:\tTest Loss: 8.191722869873047;\tTest Accuracy.: 0.5089s\n",
            "Epoch 18:\tTest Loss: 7.79369592666626;\tTest Accuracy.: 0.508s\n",
            "Epoch 19:\tTest Loss: 9.228923797607422;\tTest Accuracy.: 0.5088s\n",
            "Let's use 1 GPUs\n",
            "Epoch 0:\tTest Loss: 4.951651096343994;\tTest Accuracy.: 0.5051s\n",
            "Epoch 1:\tTest Loss: 5.709263801574707;\tTest Accuracy.: 0.5052s\n",
            "Epoch 2:\tTest Loss: 5.625194072723389;\tTest Accuracy.: 0.5075s\n",
            "Epoch 3:\tTest Loss: 5.6960368156433105;\tTest Accuracy.: 0.5079s\n",
            "Epoch 4:\tTest Loss: 6.054677963256836;\tTest Accuracy.: 0.5085s\n",
            "Epoch 5:\tTest Loss: 6.862104892730713;\tTest Accuracy.: 0.5104s\n",
            "Epoch 6:\tTest Loss: 7.709392070770264;\tTest Accuracy.: 0.5088s\n",
            "Epoch 7:\tTest Loss: 6.925841808319092;\tTest Accuracy.: 0.5101s\n",
            "Epoch 8:\tTest Loss: 7.103117942810059;\tTest Accuracy.: 0.5086s\n",
            "Epoch 9:\tTest Loss: 7.366541862487793;\tTest Accuracy.: 0.5089s\n",
            "Epoch 10:\tTest Loss: 7.409305095672607;\tTest Accuracy.: 0.5097s\n",
            "Epoch 11:\tTest Loss: 7.210515975952148;\tTest Accuracy.: 0.5082s\n",
            "Epoch 12:\tTest Loss: 7.5768280029296875;\tTest Accuracy.: 0.5078s\n",
            "Epoch 13:\tTest Loss: 8.214157104492188;\tTest Accuracy.: 0.5108s\n",
            "Epoch 14:\tTest Loss: 8.56297779083252;\tTest Accuracy.: 0.5109s\n",
            "Epoch 15:\tTest Loss: 8.522836685180664;\tTest Accuracy.: 0.5093s\n",
            "Epoch 16:\tTest Loss: 9.262619018554688;\tTest Accuracy.: 0.5107s\n",
            "Epoch 17:\tTest Loss: 8.952004432678223;\tTest Accuracy.: 0.5086s\n",
            "Epoch 18:\tTest Loss: 9.525673866271973;\tTest Accuracy.: 0.5097s\n",
            "Epoch 19:\tTest Loss: 8.354180335998535;\tTest Accuracy.: 0.5089s\n",
            "Let's use 1 GPUs\n",
            "Epoch 0:\tTest Loss: 5.521883964538574;\tTest Accuracy.: 0.5065s\n",
            "Epoch 1:\tTest Loss: 5.315324783325195;\tTest Accuracy.: 0.5054s\n",
            "Epoch 2:\tTest Loss: 5.6595659255981445;\tTest Accuracy.: 0.5061s\n",
            "Epoch 3:\tTest Loss: 6.282045841217041;\tTest Accuracy.: 0.5084s\n",
            "Epoch 4:\tTest Loss: 6.844386100769043;\tTest Accuracy.: 0.5097s\n",
            "Epoch 5:\tTest Loss: 6.45669412612915;\tTest Accuracy.: 0.5079s\n",
            "Epoch 6:\tTest Loss: 7.02357816696167;\tTest Accuracy.: 0.5097s\n",
            "Epoch 7:\tTest Loss: 7.311302185058594;\tTest Accuracy.: 0.5072s\n",
            "Epoch 8:\tTest Loss: 7.380372047424316;\tTest Accuracy.: 0.5078s\n",
            "Epoch 9:\tTest Loss: 7.997842788696289;\tTest Accuracy.: 0.51s\n",
            "Epoch 10:\tTest Loss: 7.403637886047363;\tTest Accuracy.: 0.5096s\n",
            "Epoch 11:\tTest Loss: 6.92708683013916;\tTest Accuracy.: 0.5087s\n",
            "Epoch 12:\tTest Loss: 8.345117568969727;\tTest Accuracy.: 0.5101s\n",
            "Epoch 13:\tTest Loss: 9.104303359985352;\tTest Accuracy.: 0.509s\n",
            "Epoch 14:\tTest Loss: 8.542946815490723;\tTest Accuracy.: 0.5094s\n",
            "Epoch 15:\tTest Loss: 9.139986038208008;\tTest Accuracy.: 0.5104s\n",
            "Epoch 16:\tTest Loss: 8.935873031616211;\tTest Accuracy.: 0.5105s\n",
            "Epoch 17:\tTest Loss: 8.799976348876953;\tTest Accuracy.: 0.5096s\n",
            "Epoch 18:\tTest Loss: 9.098613739013672;\tTest Accuracy.: 0.51s\n",
            "Epoch 19:\tTest Loss: 8.217397689819336;\tTest Accuracy.: 0.5091s\n",
            "Let's use 1 GPUs\n",
            "Epoch 0:\tTest Loss: 6.337285995483398;\tTest Accuracy.: 0.5065s\n",
            "Epoch 1:\tTest Loss: 5.73160982131958;\tTest Accuracy.: 0.5049s\n",
            "Epoch 2:\tTest Loss: 6.278535842895508;\tTest Accuracy.: 0.5072s\n",
            "Epoch 3:\tTest Loss: 6.576972961425781;\tTest Accuracy.: 0.5068s\n",
            "Epoch 4:\tTest Loss: 7.483508110046387;\tTest Accuracy.: 0.5086s\n",
            "Epoch 5:\tTest Loss: 5.6278300285339355;\tTest Accuracy.: 0.5093s\n",
            "Epoch 6:\tTest Loss: 7.210149765014648;\tTest Accuracy.: 0.508s\n",
            "Epoch 7:\tTest Loss: 8.371474266052246;\tTest Accuracy.: 0.5079s\n",
            "Epoch 8:\tTest Loss: 7.475901126861572;\tTest Accuracy.: 0.5098s\n",
            "Epoch 9:\tTest Loss: 8.095643043518066;\tTest Accuracy.: 0.5097s\n",
            "Epoch 10:\tTest Loss: 7.247156143188477;\tTest Accuracy.: 0.509s\n",
            "Epoch 11:\tTest Loss: 7.2230401039123535;\tTest Accuracy.: 0.5095s\n",
            "Epoch 12:\tTest Loss: 7.690432071685791;\tTest Accuracy.: 0.5091s\n",
            "Epoch 13:\tTest Loss: 9.08674430847168;\tTest Accuracy.: 0.5104s\n",
            "Epoch 14:\tTest Loss: 7.782255172729492;\tTest Accuracy.: 0.5086s\n",
            "Epoch 15:\tTest Loss: 9.159371376037598;\tTest Accuracy.: 0.5102s\n",
            "Epoch 16:\tTest Loss: 8.283652305603027;\tTest Accuracy.: 0.5094s\n",
            "Epoch 17:\tTest Loss: 10.114925384521484;\tTest Accuracy.: 0.5102s\n",
            "Epoch 18:\tTest Loss: 10.414359092712402;\tTest Accuracy.: 0.5097s\n",
            "Epoch 19:\tTest Loss: 9.015074729919434;\tTest Accuracy.: 0.5105s\n",
            "Let's use 1 GPUs\n",
            "Epoch 0:\tTest Loss: 6.182742118835449;\tTest Accuracy.: 0.5048s\n",
            "Epoch 1:\tTest Loss: 5.151858806610107;\tTest Accuracy.: 0.5083s\n",
            "Epoch 2:\tTest Loss: 6.141609191894531;\tTest Accuracy.: 0.5081s\n",
            "Epoch 3:\tTest Loss: 6.481256008148193;\tTest Accuracy.: 0.507s\n",
            "Epoch 4:\tTest Loss: 6.464005947113037;\tTest Accuracy.: 0.5089s\n",
            "Epoch 5:\tTest Loss: 7.671154022216797;\tTest Accuracy.: 0.5082s\n",
            "Epoch 6:\tTest Loss: 7.478308200836182;\tTest Accuracy.: 0.5091s\n",
            "Epoch 7:\tTest Loss: 7.533669948577881;\tTest Accuracy.: 0.5101s\n",
            "Epoch 8:\tTest Loss: 7.303378105163574;\tTest Accuracy.: 0.5094s\n",
            "Epoch 9:\tTest Loss: 6.695560932159424;\tTest Accuracy.: 0.5085s\n",
            "Epoch 10:\tTest Loss: 6.624777793884277;\tTest Accuracy.: 0.5097s\n",
            "Epoch 11:\tTest Loss: 8.063972473144531;\tTest Accuracy.: 0.5108s\n",
            "Epoch 12:\tTest Loss: 8.365837097167969;\tTest Accuracy.: 0.509s\n",
            "Epoch 13:\tTest Loss: 7.691944122314453;\tTest Accuracy.: 0.5104s\n",
            "Epoch 14:\tTest Loss: 7.469007968902588;\tTest Accuracy.: 0.51s\n",
            "Epoch 15:\tTest Loss: 7.593369007110596;\tTest Accuracy.: 0.5062s\n",
            "Epoch 16:\tTest Loss: 8.106094360351562;\tTest Accuracy.: 0.5105s\n",
            "Epoch 17:\tTest Loss: 8.342920303344727;\tTest Accuracy.: 0.5094s\n",
            "Epoch 18:\tTest Loss: 9.38882064819336;\tTest Accuracy.: 0.5097s\n",
            "Epoch 19:\tTest Loss: 8.2752103805542;\tTest Accuracy.: 0.5093s\n",
            "Let's use 1 GPUs\n",
            "Epoch 0:\tTest Loss: 5.542448043823242;\tTest Accuracy.: 0.5055s\n",
            "Epoch 1:\tTest Loss: 5.495800018310547;\tTest Accuracy.: 0.5068s\n",
            "Epoch 2:\tTest Loss: 5.248093128204346;\tTest Accuracy.: 0.5082s\n",
            "Epoch 3:\tTest Loss: 6.536920070648193;\tTest Accuracy.: 0.5012s\n",
            "Epoch 4:\tTest Loss: 6.238796234130859;\tTest Accuracy.: 0.5101s\n",
            "Epoch 5:\tTest Loss: 6.427174091339111;\tTest Accuracy.: 0.5082s\n",
            "Epoch 6:\tTest Loss: 7.897684097290039;\tTest Accuracy.: 0.5085s\n",
            "Epoch 7:\tTest Loss: 7.6815009117126465;\tTest Accuracy.: 0.508s\n",
            "Epoch 8:\tTest Loss: 7.794213771820068;\tTest Accuracy.: 0.5091s\n",
            "Epoch 9:\tTest Loss: 7.493237018585205;\tTest Accuracy.: 0.5096s\n",
            "Epoch 10:\tTest Loss: 8.297470092773438;\tTest Accuracy.: 0.5109s\n",
            "Epoch 11:\tTest Loss: 7.853774070739746;\tTest Accuracy.: 0.509s\n",
            "Epoch 12:\tTest Loss: 7.812183856964111;\tTest Accuracy.: 0.51s\n",
            "Epoch 13:\tTest Loss: 10.732647895812988;\tTest Accuracy.: 0.5082s\n",
            "Epoch 14:\tTest Loss: 8.438904762268066;\tTest Accuracy.: 0.5104s\n",
            "Epoch 15:\tTest Loss: 7.963134765625;\tTest Accuracy.: 0.5106s\n",
            "Epoch 16:\tTest Loss: 7.911570072174072;\tTest Accuracy.: 0.5097s\n",
            "Epoch 17:\tTest Loss: 8.156922340393066;\tTest Accuracy.: 0.51s\n",
            "Epoch 18:\tTest Loss: 10.39338493347168;\tTest Accuracy.: 0.5056s\n",
            "Epoch 19:\tTest Loss: 9.472140312194824;\tTest Accuracy.: 0.5092s\n",
            "Let's use 1 GPUs\n",
            "Epoch 0:\tTest Loss: 5.516061782836914;\tTest Accuracy.: 0.5062s\n",
            "Epoch 1:\tTest Loss: 6.403985977172852;\tTest Accuracy.: 0.5064s\n",
            "Epoch 2:\tTest Loss: 6.953763961791992;\tTest Accuracy.: 0.5079s\n",
            "Epoch 3:\tTest Loss: 6.1180419921875;\tTest Accuracy.: 0.5085s\n",
            "Epoch 4:\tTest Loss: 6.536282062530518;\tTest Accuracy.: 0.5063s\n",
            "Epoch 5:\tTest Loss: 7.673933982849121;\tTest Accuracy.: 0.5076s\n",
            "Epoch 6:\tTest Loss: 7.161171913146973;\tTest Accuracy.: 0.5082s\n",
            "Epoch 7:\tTest Loss: 7.590909957885742;\tTest Accuracy.: 0.5091s\n",
            "Epoch 8:\tTest Loss: 7.2064409255981445;\tTest Accuracy.: 0.509s\n",
            "Epoch 9:\tTest Loss: 7.477972984313965;\tTest Accuracy.: 0.51s\n",
            "Epoch 10:\tTest Loss: 6.887246131896973;\tTest Accuracy.: 0.5102s\n",
            "Epoch 11:\tTest Loss: 8.274999618530273;\tTest Accuracy.: 0.5084s\n",
            "Epoch 12:\tTest Loss: 9.728195190429688;\tTest Accuracy.: 0.5097s\n",
            "Epoch 13:\tTest Loss: 8.347225189208984;\tTest Accuracy.: 0.5097s\n",
            "Epoch 14:\tTest Loss: 8.12779426574707;\tTest Accuracy.: 0.5105s\n",
            "Epoch 15:\tTest Loss: 7.566443920135498;\tTest Accuracy.: 0.5106s\n",
            "Epoch 16:\tTest Loss: 8.534608840942383;\tTest Accuracy.: 0.51s\n",
            "Epoch 17:\tTest Loss: 8.616192817687988;\tTest Accuracy.: 0.5086s\n",
            "Epoch 18:\tTest Loss: 9.869613647460938;\tTest Accuracy.: 0.5106s\n",
            "Epoch 19:\tTest Loss: 8.419393539428711;\tTest Accuracy.: 0.5092s\n",
            "Let's use 1 GPUs\n",
            "Epoch 0:\tTest Loss: 6.465703964233398;\tTest Accuracy.: 0.5019s\n",
            "Epoch 1:\tTest Loss: 5.9761738777160645;\tTest Accuracy.: 0.5071s\n",
            "Epoch 2:\tTest Loss: 6.026075839996338;\tTest Accuracy.: 0.5055s\n",
            "Epoch 3:\tTest Loss: 5.518877983093262;\tTest Accuracy.: 0.5077s\n",
            "Epoch 4:\tTest Loss: 5.847567081451416;\tTest Accuracy.: 0.5084s\n",
            "Epoch 5:\tTest Loss: 6.2876057624816895;\tTest Accuracy.: 0.5104s\n",
            "Epoch 6:\tTest Loss: 6.100882053375244;\tTest Accuracy.: 0.5102s\n",
            "Epoch 7:\tTest Loss: 7.04603385925293;\tTest Accuracy.: 0.5087s\n",
            "Epoch 8:\tTest Loss: 7.666339874267578;\tTest Accuracy.: 0.5101s\n",
            "Epoch 9:\tTest Loss: 8.773114204406738;\tTest Accuracy.: 0.5085s\n",
            "Epoch 10:\tTest Loss: 7.626445770263672;\tTest Accuracy.: 0.5103s\n",
            "Epoch 11:\tTest Loss: 7.909564018249512;\tTest Accuracy.: 0.5108s\n",
            "Epoch 12:\tTest Loss: 7.832133769989014;\tTest Accuracy.: 0.5105s\n",
            "Epoch 13:\tTest Loss: 7.981317043304443;\tTest Accuracy.: 0.5085s\n",
            "Epoch 14:\tTest Loss: 7.144425868988037;\tTest Accuracy.: 0.51s\n",
            "Epoch 15:\tTest Loss: 7.953271865844727;\tTest Accuracy.: 0.5103s\n",
            "Epoch 16:\tTest Loss: 8.333401679992676;\tTest Accuracy.: 0.5108s\n",
            "Epoch 17:\tTest Loss: 8.781777381896973;\tTest Accuracy.: 0.5093s\n",
            "Epoch 18:\tTest Loss: 8.99502182006836;\tTest Accuracy.: 0.5091s\n",
            "Epoch 19:\tTest Loss: 7.762541770935059;\tTest Accuracy.: 0.51s\n",
            "Let's use 1 GPUs\n",
            "Epoch 0:\tTest Loss: 5.584065914154053;\tTest Accuracy.: 0.5057s\n",
            "Epoch 1:\tTest Loss: 5.28739595413208;\tTest Accuracy.: 0.5072s\n",
            "Epoch 2:\tTest Loss: 5.936488151550293;\tTest Accuracy.: 0.5072s\n",
            "Epoch 3:\tTest Loss: 6.346024036407471;\tTest Accuracy.: 0.5074s\n",
            "Epoch 4:\tTest Loss: 6.631113052368164;\tTest Accuracy.: 0.5058s\n",
            "Epoch 5:\tTest Loss: 5.966536045074463;\tTest Accuracy.: 0.5094s\n",
            "Epoch 6:\tTest Loss: 6.736584186553955;\tTest Accuracy.: 0.5089s\n",
            "Epoch 7:\tTest Loss: 9.338406562805176;\tTest Accuracy.: 0.5083s\n",
            "Epoch 8:\tTest Loss: 9.034296989440918;\tTest Accuracy.: 0.509s\n",
            "Epoch 9:\tTest Loss: 7.764820098876953;\tTest Accuracy.: 0.5051s\n",
            "Epoch 10:\tTest Loss: 7.090372085571289;\tTest Accuracy.: 0.5097s\n",
            "Epoch 11:\tTest Loss: 9.095514297485352;\tTest Accuracy.: 0.5095s\n",
            "Epoch 12:\tTest Loss: 9.617622375488281;\tTest Accuracy.: 0.5086s\n",
            "Epoch 13:\tTest Loss: 10.00711441040039;\tTest Accuracy.: 0.5096s\n",
            "Epoch 14:\tTest Loss: 8.49897289276123;\tTest Accuracy.: 0.5087s\n",
            "Epoch 15:\tTest Loss: 9.022704124450684;\tTest Accuracy.: 0.5093s\n",
            "Epoch 16:\tTest Loss: 9.226162910461426;\tTest Accuracy.: 0.5091s\n",
            "Epoch 17:\tTest Loss: 9.837142944335938;\tTest Accuracy.: 0.5084s\n",
            "Epoch 18:\tTest Loss: 8.423317909240723;\tTest Accuracy.: 0.5104s\n",
            "Epoch 19:\tTest Loss: 8.472273826599121;\tTest Accuracy.: 0.5106s\n",
            "Let's use 1 GPUs\n",
            "Epoch 0:\tTest Loss: 5.337453842163086;\tTest Accuracy.: 0.5051s\n",
            "Epoch 1:\tTest Loss: 5.564016819000244;\tTest Accuracy.: 0.5078s\n",
            "Epoch 2:\tTest Loss: 5.684192180633545;\tTest Accuracy.: 0.5095s\n",
            "Epoch 3:\tTest Loss: 6.7477898597717285;\tTest Accuracy.: 0.5087s\n",
            "Epoch 4:\tTest Loss: 6.275211811065674;\tTest Accuracy.: 0.5078s\n",
            "Epoch 5:\tTest Loss: 7.804581165313721;\tTest Accuracy.: 0.5093s\n",
            "Epoch 6:\tTest Loss: 7.02741813659668;\tTest Accuracy.: 0.5095s\n",
            "Epoch 7:\tTest Loss: 6.888278007507324;\tTest Accuracy.: 0.5082s\n",
            "Epoch 8:\tTest Loss: 6.814919948577881;\tTest Accuracy.: 0.5085s\n",
            "Epoch 9:\tTest Loss: 8.301612854003906;\tTest Accuracy.: 0.5092s\n",
            "Epoch 10:\tTest Loss: 7.331133842468262;\tTest Accuracy.: 0.5102s\n",
            "Epoch 11:\tTest Loss: 7.28685998916626;\tTest Accuracy.: 0.5099s\n",
            "Epoch 12:\tTest Loss: 8.047340393066406;\tTest Accuracy.: 0.5086s\n",
            "Epoch 13:\tTest Loss: 8.603453636169434;\tTest Accuracy.: 0.5093s\n",
            "Epoch 14:\tTest Loss: 8.219743728637695;\tTest Accuracy.: 0.5093s\n",
            "Epoch 15:\tTest Loss: 7.157301902770996;\tTest Accuracy.: 0.5082s\n",
            "Epoch 16:\tTest Loss: 9.07572078704834;\tTest Accuracy.: 0.5105s\n",
            "Epoch 17:\tTest Loss: 8.18801498413086;\tTest Accuracy.: 0.5099s\n",
            "Epoch 18:\tTest Loss: 8.485810279846191;\tTest Accuracy.: 0.5102s\n",
            "Epoch 19:\tTest Loss: 8.629297256469727;\tTest Accuracy.: 0.5083s\n",
            "Let's use 1 GPUs\n",
            "Epoch 0:\tTest Loss: 6.151063919067383;\tTest Accuracy.: 0.5038s\n",
            "Epoch 1:\tTest Loss: 5.926117897033691;\tTest Accuracy.: 0.5062s\n",
            "Epoch 2:\tTest Loss: 6.773292064666748;\tTest Accuracy.: 0.5076s\n",
            "Epoch 3:\tTest Loss: 5.842682838439941;\tTest Accuracy.: 0.5084s\n",
            "Epoch 4:\tTest Loss: 6.5280961990356445;\tTest Accuracy.: 0.5063s\n",
            "Epoch 5:\tTest Loss: 8.017416000366211;\tTest Accuracy.: 0.5095s\n",
            "Epoch 6:\tTest Loss: 8.042530059814453;\tTest Accuracy.: 0.51s\n",
            "Epoch 7:\tTest Loss: 7.851555824279785;\tTest Accuracy.: 0.5113s\n",
            "Epoch 8:\tTest Loss: 6.302440166473389;\tTest Accuracy.: 0.5096s\n",
            "Epoch 9:\tTest Loss: 6.949897766113281;\tTest Accuracy.: 0.5093s\n",
            "Epoch 10:\tTest Loss: 7.693161964416504;\tTest Accuracy.: 0.5083s\n",
            "Epoch 11:\tTest Loss: 8.669343948364258;\tTest Accuracy.: 0.511s\n",
            "Epoch 12:\tTest Loss: 9.000956535339355;\tTest Accuracy.: 0.51s\n",
            "Epoch 13:\tTest Loss: 8.959124565124512;\tTest Accuracy.: 0.5089s\n",
            "Epoch 14:\tTest Loss: 9.597442626953125;\tTest Accuracy.: 0.5105s\n",
            "Epoch 15:\tTest Loss: 10.350332260131836;\tTest Accuracy.: 0.5097s\n",
            "Epoch 16:\tTest Loss: 8.655513763427734;\tTest Accuracy.: 0.5097s\n",
            "Epoch 17:\tTest Loss: 9.237768173217773;\tTest Accuracy.: 0.5092s\n",
            "Epoch 18:\tTest Loss: 8.824121475219727;\tTest Accuracy.: 0.5092s\n",
            "Epoch 19:\tTest Loss: 11.13062858581543;\tTest Accuracy.: 0.5103s\n",
            "Let's use 1 GPUs\n",
            "Epoch 0:\tTest Loss: 5.940755844116211;\tTest Accuracy.: 0.5057s\n",
            "Epoch 1:\tTest Loss: 5.4850239753723145;\tTest Accuracy.: 0.5074s\n",
            "Epoch 2:\tTest Loss: 5.5387678146362305;\tTest Accuracy.: 0.5068s\n",
            "Epoch 3:\tTest Loss: 6.173379898071289;\tTest Accuracy.: 0.5091s\n",
            "Epoch 4:\tTest Loss: 6.956967830657959;\tTest Accuracy.: 0.5086s\n",
            "Epoch 5:\tTest Loss: 6.882852077484131;\tTest Accuracy.: 0.5083s\n",
            "Epoch 6:\tTest Loss: 7.142074108123779;\tTest Accuracy.: 0.5094s\n",
            "Epoch 7:\tTest Loss: 7.432387828826904;\tTest Accuracy.: 0.5093s\n",
            "Epoch 8:\tTest Loss: 7.645770072937012;\tTest Accuracy.: 0.5093s\n",
            "Epoch 9:\tTest Loss: 7.385729789733887;\tTest Accuracy.: 0.5098s\n",
            "Epoch 10:\tTest Loss: 8.053566932678223;\tTest Accuracy.: 0.5094s\n",
            "Epoch 11:\tTest Loss: 7.83565092086792;\tTest Accuracy.: 0.509s\n",
            "Epoch 12:\tTest Loss: 7.575444221496582;\tTest Accuracy.: 0.5093s\n",
            "Epoch 13:\tTest Loss: 8.456441879272461;\tTest Accuracy.: 0.5084s\n",
            "Epoch 14:\tTest Loss: 7.821788787841797;\tTest Accuracy.: 0.5095s\n",
            "Epoch 15:\tTest Loss: 8.491433143615723;\tTest Accuracy.: 0.5096s\n",
            "Epoch 16:\tTest Loss: 7.915527820587158;\tTest Accuracy.: 0.5102s\n",
            "Epoch 17:\tTest Loss: 7.041070938110352;\tTest Accuracy.: 0.5097s\n",
            "Epoch 18:\tTest Loss: 8.97706127166748;\tTest Accuracy.: 0.5087s\n",
            "Epoch 19:\tTest Loss: 8.730624198913574;\tTest Accuracy.: 0.5094s\n"
          ],
          "name": "stdout"
        }
      ]
    },
    {
      "cell_type": "code",
      "metadata": {
        "id": "EDRVFtNGFWom"
      },
      "source": [
        ""
      ],
      "execution_count": 13,
      "outputs": []
    },
    {
      "cell_type": "code",
      "metadata": {
        "id": "epEFKkhE1pf0"
      },
      "source": [
        "np.save('result/list_at_models.npy', list_at_models) \n",
        "np.save('result/list_trainers.npy', list_trainers) \n",
        "np.save('result/list_test_losses.npy', list_test_losses) \n",
        "np.save('result/list_probabilities.npy', list_probabilities) \n",
        "np.save('result/list_test_accuracies.npy', list_test_accuracies) \n",
        "np.save('result/list_true_targets.npy', list_true_targets) "
      ],
      "execution_count": 14,
      "outputs": []
    },
    {
      "cell_type": "code",
      "metadata": {
        "id": "f8k-OgbMC-3f"
      },
      "source": [
        "a=np.load('result/list_probabilities.npy',allow_pickle=True)[()]"
      ],
      "execution_count": 15,
      "outputs": []
    },
    {
      "cell_type": "code",
      "metadata": {
        "id": "fBssbqoQwt77"
      },
      "source": [
        "np.save('list_at_models', list_at_models) \n",
        "np.save('list_trainers', list_trainers) \n",
        "np.save('list_test_losses', list_test_losses) \n",
        "np.save('list_probabilities', list_probabilities) \n",
        "np.save('list_test_accuracies', list_test_accuracies) \n",
        "np.save('list_true_targets', list_true_targets) "
      ],
      "execution_count": 16,
      "outputs": []
    },
    {
      "cell_type": "code",
      "metadata": {
        "colab": {
          "base_uri": "https://localhost:8080/"
        },
        "id": "AskD5kEQK3eD",
        "outputId": "d47e5df4-37f7-4852-a57f-9497c7eca6a5"
      },
      "source": [
        "# Ensemble training+Random:\n",
        "test_cases=[1,5,10]\n",
        "R_list_at_models = dict()\n",
        "R_list_trainers = dict()\n",
        "R_list_test_losses =dict()\n",
        "R_list_probabilities=dict()\n",
        "R_list_test_accuracies= dict()\n",
        "R_true_targets=dict()\n",
        "for case in test_cases:\n",
        "  at_models = []\n",
        "  trainers = []\n",
        "  test_losses =[]\n",
        "  probabilities=[]\n",
        "  test_accuracies= []\n",
        "  true_targets = []\n",
        "  for i in range(case):\n",
        "      model = MLP()\n",
        "      optimizer = torch.optim.Adam(model.parameters(), lr=0.1)\n",
        "      training_criterion = torch.nn.CrossEntropyLoss()\n",
        "      device=torch.device(f\"cuda:{0}\")\n",
        "      trainer = AdversarialTrainer(model, training_criterion, in_dist_train, test_data_minist, optimizer, \n",
        "                             batch_size, 100, 0.01,\n",
        "                             torch.Tensor(data_range).view([1, -1]),'rand', test_losses, probabilities, test_accuracies,true_targets,device)\n",
        "      trainer.startTrainingSingleModel(n_epochs)\n",
        "      \n",
        "      at_models.append(model)\n",
        "      trainers.append(trainer)\n",
        "  R_list_at_models[case]=at_models\n",
        "  R_list_trainers[case]=trainers\n",
        "  R_list_test_losses[case] =torch.tensor(test_losses).numpy()\n",
        "  R_list_probabilities[case]=probabilities\n",
        "  R_list_test_accuracies[case]=test_accuracies\n",
        "  R_true_targets[case]=true_targets"
      ],
      "execution_count": 17,
      "outputs": [
        {
          "output_type": "stream",
          "text": [
            "Let's use 1 GPUs\n"
          ],
          "name": "stdout"
        },
        {
          "output_type": "stream",
          "text": [
            "/usr/local/lib/python3.6/dist-packages/ipykernel_launcher.py:86: UserWarning: Implicit dimension choice for softmax has been deprecated. Change the call to include dim=X as an argument.\n"
          ],
          "name": "stderr"
        },
        {
          "output_type": "stream",
          "text": [
            "Epoch 0:\tTest Loss: 9.648728370666504;\tTest Accuracy.: 0.501s\n",
            "Epoch 1:\tTest Loss: 8.107142448425293;\tTest Accuracy.: 0.503s\n",
            "Epoch 2:\tTest Loss: 10.222248077392578;\tTest Accuracy.: 0.5001s\n",
            "Epoch 3:\tTest Loss: 10.531267166137695;\tTest Accuracy.: 0.5018s\n",
            "Epoch 4:\tTest Loss: 8.568470001220703;\tTest Accuracy.: 0.5005s\n",
            "Epoch 5:\tTest Loss: 10.046453475952148;\tTest Accuracy.: 0.5013s\n",
            "Epoch 6:\tTest Loss: 9.739712715148926;\tTest Accuracy.: 0.5035s\n",
            "Epoch 7:\tTest Loss: 9.7728271484375;\tTest Accuracy.: 0.5071s\n",
            "Epoch 8:\tTest Loss: 10.249107360839844;\tTest Accuracy.: 0.5056s\n",
            "Epoch 9:\tTest Loss: 10.697941780090332;\tTest Accuracy.: 0.5031s\n",
            "Epoch 10:\tTest Loss: 11.367773056030273;\tTest Accuracy.: 0.5052s\n",
            "Epoch 11:\tTest Loss: 11.664746284484863;\tTest Accuracy.: 0.5034s\n",
            "Epoch 12:\tTest Loss: 10.46568489074707;\tTest Accuracy.: 0.5036s\n",
            "Epoch 13:\tTest Loss: 12.66977596282959;\tTest Accuracy.: 0.5057s\n",
            "Epoch 14:\tTest Loss: 12.497553825378418;\tTest Accuracy.: 0.5079s\n",
            "Epoch 15:\tTest Loss: 12.336270332336426;\tTest Accuracy.: 0.5064s\n",
            "Epoch 16:\tTest Loss: 13.496463775634766;\tTest Accuracy.: 0.5023s\n",
            "Epoch 17:\tTest Loss: 13.945853233337402;\tTest Accuracy.: 0.5063s\n",
            "Epoch 18:\tTest Loss: 13.108404159545898;\tTest Accuracy.: 0.5086s\n",
            "Epoch 19:\tTest Loss: 14.326470375061035;\tTest Accuracy.: 0.5008s\n",
            "Let's use 1 GPUs\n",
            "Epoch 0:\tTest Loss: 8.211814880371094;\tTest Accuracy.: 0.4946s\n",
            "Epoch 1:\tTest Loss: 10.162643432617188;\tTest Accuracy.: 0.4923s\n",
            "Epoch 2:\tTest Loss: 9.829336166381836;\tTest Accuracy.: 0.5015s\n",
            "Epoch 3:\tTest Loss: 8.564446449279785;\tTest Accuracy.: 0.507s\n",
            "Epoch 4:\tTest Loss: 7.631363868713379;\tTest Accuracy.: 0.5031s\n",
            "Epoch 5:\tTest Loss: 9.534200668334961;\tTest Accuracy.: 0.5039s\n",
            "Epoch 6:\tTest Loss: 11.94625473022461;\tTest Accuracy.: 0.5011s\n",
            "Epoch 7:\tTest Loss: 9.68315601348877;\tTest Accuracy.: 0.5047s\n",
            "Epoch 8:\tTest Loss: 9.073498725891113;\tTest Accuracy.: 0.503s\n",
            "Epoch 9:\tTest Loss: 8.319252967834473;\tTest Accuracy.: 0.5042s\n",
            "Epoch 10:\tTest Loss: 10.592448234558105;\tTest Accuracy.: 0.502s\n",
            "Epoch 11:\tTest Loss: 10.004393577575684;\tTest Accuracy.: 0.5074s\n",
            "Epoch 12:\tTest Loss: 10.904227256774902;\tTest Accuracy.: 0.5062s\n",
            "Epoch 13:\tTest Loss: 9.290914535522461;\tTest Accuracy.: 0.5044s\n",
            "Epoch 14:\tTest Loss: 11.007481575012207;\tTest Accuracy.: 0.5041s\n",
            "Epoch 15:\tTest Loss: 11.617653846740723;\tTest Accuracy.: 0.5074s\n",
            "Epoch 16:\tTest Loss: 13.77934455871582;\tTest Accuracy.: 0.5053s\n",
            "Epoch 17:\tTest Loss: 15.53288745880127;\tTest Accuracy.: 0.503s\n",
            "Epoch 18:\tTest Loss: 13.811687469482422;\tTest Accuracy.: 0.5078s\n",
            "Epoch 19:\tTest Loss: 13.69249153137207;\tTest Accuracy.: 0.5065s\n",
            "Let's use 1 GPUs\n",
            "Epoch 0:\tTest Loss: 10.456016540527344;\tTest Accuracy.: 0.5006s\n",
            "Epoch 1:\tTest Loss: 7.450020790100098;\tTest Accuracy.: 0.5026s\n",
            "Epoch 2:\tTest Loss: 8.818975448608398;\tTest Accuracy.: 0.5035s\n",
            "Epoch 3:\tTest Loss: 8.813096046447754;\tTest Accuracy.: 0.5052s\n",
            "Epoch 4:\tTest Loss: 8.715991020202637;\tTest Accuracy.: 0.5074s\n",
            "Epoch 5:\tTest Loss: 8.940913200378418;\tTest Accuracy.: 0.5032s\n",
            "Epoch 6:\tTest Loss: 11.476606369018555;\tTest Accuracy.: 0.5022s\n",
            "Epoch 7:\tTest Loss: 9.93073844909668;\tTest Accuracy.: 0.5054s\n",
            "Epoch 8:\tTest Loss: 11.435181617736816;\tTest Accuracy.: 0.5031s\n",
            "Epoch 9:\tTest Loss: 9.19040298461914;\tTest Accuracy.: 0.5006s\n",
            "Epoch 10:\tTest Loss: 9.8358736038208;\tTest Accuracy.: 0.5078s\n",
            "Epoch 11:\tTest Loss: 9.757596015930176;\tTest Accuracy.: 0.5056s\n",
            "Epoch 12:\tTest Loss: 10.997438430786133;\tTest Accuracy.: 0.5039s\n",
            "Epoch 13:\tTest Loss: 10.765151023864746;\tTest Accuracy.: 0.5065s\n",
            "Epoch 14:\tTest Loss: 13.012826919555664;\tTest Accuracy.: 0.507s\n",
            "Epoch 15:\tTest Loss: 11.628458976745605;\tTest Accuracy.: 0.5034s\n",
            "Epoch 16:\tTest Loss: 11.349248886108398;\tTest Accuracy.: 0.506s\n",
            "Epoch 17:\tTest Loss: 13.340068817138672;\tTest Accuracy.: 0.5077s\n",
            "Epoch 18:\tTest Loss: 10.630209922790527;\tTest Accuracy.: 0.5085s\n",
            "Epoch 19:\tTest Loss: 10.396846771240234;\tTest Accuracy.: 0.5058s\n",
            "Let's use 1 GPUs\n",
            "Epoch 0:\tTest Loss: 10.334317207336426;\tTest Accuracy.: 0.4889s\n",
            "Epoch 1:\tTest Loss: 9.662928581237793;\tTest Accuracy.: 0.5001s\n",
            "Epoch 2:\tTest Loss: 10.630919456481934;\tTest Accuracy.: 0.5015s\n",
            "Epoch 3:\tTest Loss: 11.2832612991333;\tTest Accuracy.: 0.4935s\n",
            "Epoch 4:\tTest Loss: 10.054091453552246;\tTest Accuracy.: 0.5007s\n",
            "Epoch 5:\tTest Loss: 12.552679061889648;\tTest Accuracy.: 0.4978s\n",
            "Epoch 6:\tTest Loss: 9.901214599609375;\tTest Accuracy.: 0.503s\n",
            "Epoch 7:\tTest Loss: 11.1864595413208;\tTest Accuracy.: 0.4904s\n",
            "Epoch 8:\tTest Loss: 11.392791748046875;\tTest Accuracy.: 0.5085s\n",
            "Epoch 9:\tTest Loss: 12.741949081420898;\tTest Accuracy.: 0.5013s\n",
            "Epoch 10:\tTest Loss: 13.095441818237305;\tTest Accuracy.: 0.5026s\n",
            "Epoch 11:\tTest Loss: 12.690447807312012;\tTest Accuracy.: 0.5058s\n",
            "Epoch 12:\tTest Loss: 15.092708587646484;\tTest Accuracy.: 0.5051s\n",
            "Epoch 13:\tTest Loss: 14.6183500289917;\tTest Accuracy.: 0.5065s\n",
            "Epoch 14:\tTest Loss: 12.460646629333496;\tTest Accuracy.: 0.5046s\n",
            "Epoch 15:\tTest Loss: 12.602265357971191;\tTest Accuracy.: 0.5053s\n",
            "Epoch 16:\tTest Loss: 12.87995719909668;\tTest Accuracy.: 0.5065s\n",
            "Epoch 17:\tTest Loss: 13.531315803527832;\tTest Accuracy.: 0.5052s\n",
            "Epoch 18:\tTest Loss: 11.31778335571289;\tTest Accuracy.: 0.5064s\n",
            "Epoch 19:\tTest Loss: 12.778279304504395;\tTest Accuracy.: 0.5087s\n",
            "Let's use 1 GPUs\n",
            "Epoch 0:\tTest Loss: 9.659192085266113;\tTest Accuracy.: 0.4916s\n",
            "Epoch 1:\tTest Loss: 10.115307807922363;\tTest Accuracy.: 0.4989s\n",
            "Epoch 2:\tTest Loss: 9.477377891540527;\tTest Accuracy.: 0.4955s\n",
            "Epoch 3:\tTest Loss: 8.860542297363281;\tTest Accuracy.: 0.5025s\n",
            "Epoch 4:\tTest Loss: 10.099946022033691;\tTest Accuracy.: 0.5019s\n",
            "Epoch 5:\tTest Loss: 7.810944080352783;\tTest Accuracy.: 0.5s\n",
            "Epoch 6:\tTest Loss: 9.28781509399414;\tTest Accuracy.: 0.5025s\n",
            "Epoch 7:\tTest Loss: 10.774367332458496;\tTest Accuracy.: 0.4972s\n",
            "Epoch 8:\tTest Loss: 8.711366653442383;\tTest Accuracy.: 0.5075s\n",
            "Epoch 9:\tTest Loss: 9.408465385437012;\tTest Accuracy.: 0.5071s\n",
            "Epoch 10:\tTest Loss: 10.581124305725098;\tTest Accuracy.: 0.505s\n",
            "Epoch 11:\tTest Loss: 9.781611442565918;\tTest Accuracy.: 0.5046s\n",
            "Epoch 12:\tTest Loss: 11.275361061096191;\tTest Accuracy.: 0.5094s\n",
            "Epoch 13:\tTest Loss: 10.971513748168945;\tTest Accuracy.: 0.5057s\n",
            "Epoch 14:\tTest Loss: 11.375767707824707;\tTest Accuracy.: 0.5072s\n",
            "Epoch 15:\tTest Loss: 11.719600677490234;\tTest Accuracy.: 0.5082s\n",
            "Epoch 16:\tTest Loss: 11.574023246765137;\tTest Accuracy.: 0.5085s\n",
            "Epoch 17:\tTest Loss: 11.20950698852539;\tTest Accuracy.: 0.509s\n",
            "Epoch 18:\tTest Loss: 15.36054801940918;\tTest Accuracy.: 0.5092s\n",
            "Epoch 19:\tTest Loss: 11.649885177612305;\tTest Accuracy.: 0.5067s\n",
            "Let's use 1 GPUs\n",
            "Epoch 0:\tTest Loss: 11.931304931640625;\tTest Accuracy.: 0.4937s\n",
            "Epoch 1:\tTest Loss: 10.330846786499023;\tTest Accuracy.: 0.4988s\n",
            "Epoch 2:\tTest Loss: 12.072802543640137;\tTest Accuracy.: 0.5062s\n",
            "Epoch 3:\tTest Loss: 7.446497917175293;\tTest Accuracy.: 0.5067s\n",
            "Epoch 4:\tTest Loss: 8.073163032531738;\tTest Accuracy.: 0.5018s\n",
            "Epoch 5:\tTest Loss: 9.105934143066406;\tTest Accuracy.: 0.5032s\n",
            "Epoch 6:\tTest Loss: 10.121682167053223;\tTest Accuracy.: 0.5058s\n",
            "Epoch 7:\tTest Loss: 9.839899063110352;\tTest Accuracy.: 0.5015s\n",
            "Epoch 8:\tTest Loss: 9.974252700805664;\tTest Accuracy.: 0.4981s\n",
            "Epoch 9:\tTest Loss: 7.50927209854126;\tTest Accuracy.: 0.5064s\n",
            "Epoch 10:\tTest Loss: 10.365361213684082;\tTest Accuracy.: 0.5088s\n",
            "Epoch 11:\tTest Loss: 10.881765365600586;\tTest Accuracy.: 0.5071s\n",
            "Epoch 12:\tTest Loss: 11.177042961120605;\tTest Accuracy.: 0.508s\n",
            "Epoch 13:\tTest Loss: 10.017877578735352;\tTest Accuracy.: 0.5077s\n",
            "Epoch 14:\tTest Loss: 8.904275894165039;\tTest Accuracy.: 0.5059s\n",
            "Epoch 15:\tTest Loss: 11.210662841796875;\tTest Accuracy.: 0.4993s\n",
            "Epoch 16:\tTest Loss: 10.629878044128418;\tTest Accuracy.: 0.5064s\n",
            "Epoch 17:\tTest Loss: 10.505346298217773;\tTest Accuracy.: 0.5065s\n",
            "Epoch 18:\tTest Loss: 12.346785545349121;\tTest Accuracy.: 0.5012s\n",
            "Epoch 19:\tTest Loss: 11.684782028198242;\tTest Accuracy.: 0.5059s\n",
            "Let's use 1 GPUs\n",
            "Epoch 0:\tTest Loss: 7.648054122924805;\tTest Accuracy.: 0.4973s\n",
            "Epoch 1:\tTest Loss: 7.6981282234191895;\tTest Accuracy.: 0.5016s\n",
            "Epoch 2:\tTest Loss: 7.219607830047607;\tTest Accuracy.: 0.4798s\n",
            "Epoch 3:\tTest Loss: 7.3401641845703125;\tTest Accuracy.: 0.5007s\n",
            "Epoch 4:\tTest Loss: 8.54111385345459;\tTest Accuracy.: 0.5032s\n",
            "Epoch 5:\tTest Loss: 8.85971736907959;\tTest Accuracy.: 0.4956s\n",
            "Epoch 6:\tTest Loss: 9.541340827941895;\tTest Accuracy.: 0.5042s\n",
            "Epoch 7:\tTest Loss: 9.340447425842285;\tTest Accuracy.: 0.5059s\n",
            "Epoch 8:\tTest Loss: 11.547468185424805;\tTest Accuracy.: 0.5056s\n",
            "Epoch 9:\tTest Loss: 10.893567085266113;\tTest Accuracy.: 0.5035s\n",
            "Epoch 10:\tTest Loss: 9.30051040649414;\tTest Accuracy.: 0.503s\n",
            "Epoch 11:\tTest Loss: 9.787561416625977;\tTest Accuracy.: 0.5051s\n",
            "Epoch 12:\tTest Loss: 10.085213661193848;\tTest Accuracy.: 0.5059s\n",
            "Epoch 13:\tTest Loss: 10.086542129516602;\tTest Accuracy.: 0.5076s\n",
            "Epoch 14:\tTest Loss: 14.636144638061523;\tTest Accuracy.: 0.4973s\n",
            "Epoch 15:\tTest Loss: 12.983274459838867;\tTest Accuracy.: 0.5089s\n",
            "Epoch 16:\tTest Loss: 12.411328315734863;\tTest Accuracy.: 0.5004s\n",
            "Epoch 17:\tTest Loss: 12.599043846130371;\tTest Accuracy.: 0.5051s\n",
            "Epoch 18:\tTest Loss: 13.974674224853516;\tTest Accuracy.: 0.5071s\n",
            "Epoch 19:\tTest Loss: 10.377083778381348;\tTest Accuracy.: 0.5074s\n",
            "Let's use 1 GPUs\n",
            "Epoch 0:\tTest Loss: 8.014364242553711;\tTest Accuracy.: 0.5045s\n",
            "Epoch 1:\tTest Loss: 7.53208589553833;\tTest Accuracy.: 0.5016s\n",
            "Epoch 2:\tTest Loss: 7.8442559242248535;\tTest Accuracy.: 0.5043s\n",
            "Epoch 3:\tTest Loss: 7.938392162322998;\tTest Accuracy.: 0.5078s\n",
            "Epoch 4:\tTest Loss: 7.999547958374023;\tTest Accuracy.: 0.5078s\n",
            "Epoch 5:\tTest Loss: 8.735342025756836;\tTest Accuracy.: 0.5071s\n",
            "Epoch 6:\tTest Loss: 7.94871187210083;\tTest Accuracy.: 0.5074s\n",
            "Epoch 7:\tTest Loss: 9.52770709991455;\tTest Accuracy.: 0.507s\n",
            "Epoch 8:\tTest Loss: 8.910402297973633;\tTest Accuracy.: 0.5065s\n",
            "Epoch 9:\tTest Loss: 11.107439994812012;\tTest Accuracy.: 0.5086s\n",
            "Epoch 10:\tTest Loss: 9.666013717651367;\tTest Accuracy.: 0.5067s\n",
            "Epoch 11:\tTest Loss: 9.854827880859375;\tTest Accuracy.: 0.5045s\n",
            "Epoch 12:\tTest Loss: 10.048762321472168;\tTest Accuracy.: 0.5067s\n",
            "Epoch 13:\tTest Loss: 10.284552574157715;\tTest Accuracy.: 0.5071s\n",
            "Epoch 14:\tTest Loss: 11.649868965148926;\tTest Accuracy.: 0.5075s\n",
            "Epoch 15:\tTest Loss: 10.189885139465332;\tTest Accuracy.: 0.5085s\n",
            "Epoch 16:\tTest Loss: 10.299468994140625;\tTest Accuracy.: 0.5085s\n",
            "Epoch 17:\tTest Loss: 13.470450401306152;\tTest Accuracy.: 0.5091s\n",
            "Epoch 18:\tTest Loss: 10.851445198059082;\tTest Accuracy.: 0.5075s\n",
            "Epoch 19:\tTest Loss: 12.493487358093262;\tTest Accuracy.: 0.5103s\n",
            "Let's use 1 GPUs\n",
            "Epoch 0:\tTest Loss: 9.114335060119629;\tTest Accuracy.: 0.4982s\n",
            "Epoch 1:\tTest Loss: 8.157464027404785;\tTest Accuracy.: 0.5058s\n",
            "Epoch 2:\tTest Loss: 9.988821983337402;\tTest Accuracy.: 0.5007s\n",
            "Epoch 3:\tTest Loss: 9.792713165283203;\tTest Accuracy.: 0.4997s\n",
            "Epoch 4:\tTest Loss: 9.471183776855469;\tTest Accuracy.: 0.5028s\n",
            "Epoch 5:\tTest Loss: 10.31449031829834;\tTest Accuracy.: 0.4997s\n",
            "Epoch 6:\tTest Loss: 9.8888521194458;\tTest Accuracy.: 0.5049s\n",
            "Epoch 7:\tTest Loss: 11.312850952148438;\tTest Accuracy.: 0.5067s\n",
            "Epoch 8:\tTest Loss: 12.076333999633789;\tTest Accuracy.: 0.502s\n",
            "Epoch 9:\tTest Loss: 11.458279609680176;\tTest Accuracy.: 0.5086s\n",
            "Epoch 10:\tTest Loss: 12.228293418884277;\tTest Accuracy.: 0.5066s\n",
            "Epoch 11:\tTest Loss: 12.54985237121582;\tTest Accuracy.: 0.5062s\n",
            "Epoch 12:\tTest Loss: 11.622090339660645;\tTest Accuracy.: 0.5063s\n",
            "Epoch 13:\tTest Loss: 10.902620315551758;\tTest Accuracy.: 0.5064s\n",
            "Epoch 14:\tTest Loss: 12.775243759155273;\tTest Accuracy.: 0.5073s\n",
            "Epoch 15:\tTest Loss: 13.217429161071777;\tTest Accuracy.: 0.5074s\n",
            "Epoch 16:\tTest Loss: 15.11729907989502;\tTest Accuracy.: 0.5069s\n",
            "Epoch 17:\tTest Loss: 12.629815101623535;\tTest Accuracy.: 0.5057s\n",
            "Epoch 18:\tTest Loss: 13.75658130645752;\tTest Accuracy.: 0.5091s\n",
            "Epoch 19:\tTest Loss: 13.99365234375;\tTest Accuracy.: 0.5078s\n",
            "Let's use 1 GPUs\n",
            "Epoch 0:\tTest Loss: 10.5220947265625;\tTest Accuracy.: 0.4995s\n",
            "Epoch 1:\tTest Loss: 7.659028053283691;\tTest Accuracy.: 0.5018s\n",
            "Epoch 2:\tTest Loss: 8.779765129089355;\tTest Accuracy.: 0.5069s\n",
            "Epoch 3:\tTest Loss: 8.179057121276855;\tTest Accuracy.: 0.5069s\n",
            "Epoch 4:\tTest Loss: 9.340170860290527;\tTest Accuracy.: 0.5058s\n",
            "Epoch 5:\tTest Loss: 9.243325233459473;\tTest Accuracy.: 0.5075s\n",
            "Epoch 6:\tTest Loss: 10.406402587890625;\tTest Accuracy.: 0.5033s\n",
            "Epoch 7:\tTest Loss: 10.946584701538086;\tTest Accuracy.: 0.5057s\n",
            "Epoch 8:\tTest Loss: 11.432282447814941;\tTest Accuracy.: 0.508s\n",
            "Epoch 9:\tTest Loss: 9.986668586730957;\tTest Accuracy.: 0.5057s\n",
            "Epoch 10:\tTest Loss: 10.962040901184082;\tTest Accuracy.: 0.5074s\n",
            "Epoch 11:\tTest Loss: 9.731734275817871;\tTest Accuracy.: 0.5056s\n",
            "Epoch 12:\tTest Loss: 10.199658393859863;\tTest Accuracy.: 0.5069s\n",
            "Epoch 13:\tTest Loss: 11.431401252746582;\tTest Accuracy.: 0.5062s\n",
            "Epoch 14:\tTest Loss: 11.903189659118652;\tTest Accuracy.: 0.5086s\n",
            "Epoch 15:\tTest Loss: 15.43562126159668;\tTest Accuracy.: 0.4955s\n",
            "Epoch 16:\tTest Loss: 10.249140739440918;\tTest Accuracy.: 0.5092s\n",
            "Epoch 17:\tTest Loss: 11.187390327453613;\tTest Accuracy.: 0.5058s\n",
            "Epoch 18:\tTest Loss: 12.756829261779785;\tTest Accuracy.: 0.508s\n",
            "Epoch 19:\tTest Loss: 13.277170181274414;\tTest Accuracy.: 0.5098s\n",
            "Let's use 1 GPUs\n",
            "Epoch 0:\tTest Loss: 9.517775535583496;\tTest Accuracy.: 0.4893s\n",
            "Epoch 1:\tTest Loss: 8.594667434692383;\tTest Accuracy.: 0.5057s\n",
            "Epoch 2:\tTest Loss: 8.777704238891602;\tTest Accuracy.: 0.5063s\n",
            "Epoch 3:\tTest Loss: 8.644947052001953;\tTest Accuracy.: 0.5044s\n",
            "Epoch 4:\tTest Loss: 8.585718154907227;\tTest Accuracy.: 0.506s\n",
            "Epoch 5:\tTest Loss: 8.922080039978027;\tTest Accuracy.: 0.5055s\n",
            "Epoch 6:\tTest Loss: 8.75546932220459;\tTest Accuracy.: 0.5049s\n",
            "Epoch 7:\tTest Loss: 9.115360260009766;\tTest Accuracy.: 0.5082s\n",
            "Epoch 8:\tTest Loss: 9.745047569274902;\tTest Accuracy.: 0.5068s\n",
            "Epoch 9:\tTest Loss: 10.010416030883789;\tTest Accuracy.: 0.5088s\n",
            "Epoch 10:\tTest Loss: 8.70901870727539;\tTest Accuracy.: 0.5076s\n",
            "Epoch 11:\tTest Loss: 9.56588077545166;\tTest Accuracy.: 0.5069s\n",
            "Epoch 12:\tTest Loss: 10.544037818908691;\tTest Accuracy.: 0.5096s\n",
            "Epoch 13:\tTest Loss: 10.408923149108887;\tTest Accuracy.: 0.5086s\n",
            "Epoch 14:\tTest Loss: 9.44408130645752;\tTest Accuracy.: 0.5079s\n",
            "Epoch 15:\tTest Loss: 10.74758529663086;\tTest Accuracy.: 0.5077s\n",
            "Epoch 16:\tTest Loss: 9.523237228393555;\tTest Accuracy.: 0.5072s\n",
            "Epoch 17:\tTest Loss: 10.744301795959473;\tTest Accuracy.: 0.5085s\n",
            "Epoch 18:\tTest Loss: 10.49504280090332;\tTest Accuracy.: 0.5055s\n",
            "Epoch 19:\tTest Loss: 10.249149322509766;\tTest Accuracy.: 0.5073s\n",
            "Let's use 1 GPUs\n",
            "Epoch 0:\tTest Loss: 10.337136268615723;\tTest Accuracy.: 0.4984s\n",
            "Epoch 1:\tTest Loss: 7.731922149658203;\tTest Accuracy.: 0.4994s\n",
            "Epoch 2:\tTest Loss: 8.517600059509277;\tTest Accuracy.: 0.4947s\n",
            "Epoch 3:\tTest Loss: 9.366353988647461;\tTest Accuracy.: 0.5039s\n",
            "Epoch 4:\tTest Loss: 8.844010353088379;\tTest Accuracy.: 0.5064s\n",
            "Epoch 5:\tTest Loss: 9.34366512298584;\tTest Accuracy.: 0.5061s\n",
            "Epoch 6:\tTest Loss: 9.047456741333008;\tTest Accuracy.: 0.507s\n",
            "Epoch 7:\tTest Loss: 9.233659744262695;\tTest Accuracy.: 0.5063s\n",
            "Epoch 8:\tTest Loss: 8.811150550842285;\tTest Accuracy.: 0.5072s\n",
            "Epoch 9:\tTest Loss: 10.365826606750488;\tTest Accuracy.: 0.5077s\n",
            "Epoch 10:\tTest Loss: 11.33699893951416;\tTest Accuracy.: 0.5034s\n",
            "Epoch 11:\tTest Loss: 10.980709075927734;\tTest Accuracy.: 0.507s\n",
            "Epoch 12:\tTest Loss: 10.669800758361816;\tTest Accuracy.: 0.5058s\n",
            "Epoch 13:\tTest Loss: 9.858057022094727;\tTest Accuracy.: 0.5089s\n",
            "Epoch 14:\tTest Loss: 12.149123191833496;\tTest Accuracy.: 0.5071s\n",
            "Epoch 15:\tTest Loss: 12.649182319641113;\tTest Accuracy.: 0.5039s\n",
            "Epoch 16:\tTest Loss: 11.813140869140625;\tTest Accuracy.: 0.5094s\n",
            "Epoch 17:\tTest Loss: 13.59891414642334;\tTest Accuracy.: 0.5066s\n",
            "Epoch 18:\tTest Loss: 12.07919692993164;\tTest Accuracy.: 0.507s\n",
            "Epoch 19:\tTest Loss: 12.357255935668945;\tTest Accuracy.: 0.5095s\n",
            "Let's use 1 GPUs\n",
            "Epoch 0:\tTest Loss: 10.12820053100586;\tTest Accuracy.: 0.4929s\n",
            "Epoch 1:\tTest Loss: 8.203060150146484;\tTest Accuracy.: 0.4994s\n",
            "Epoch 2:\tTest Loss: 9.570707321166992;\tTest Accuracy.: 0.4997s\n",
            "Epoch 3:\tTest Loss: 7.1906538009643555;\tTest Accuracy.: 0.5057s\n",
            "Epoch 4:\tTest Loss: 10.455607414245605;\tTest Accuracy.: 0.4995s\n",
            "Epoch 5:\tTest Loss: 9.453861236572266;\tTest Accuracy.: 0.5038s\n",
            "Epoch 6:\tTest Loss: 9.70068645477295;\tTest Accuracy.: 0.5014s\n",
            "Epoch 7:\tTest Loss: 9.2592134475708;\tTest Accuracy.: 0.5077s\n",
            "Epoch 8:\tTest Loss: 9.026881217956543;\tTest Accuracy.: 0.506s\n",
            "Epoch 9:\tTest Loss: 9.753069877624512;\tTest Accuracy.: 0.5035s\n",
            "Epoch 10:\tTest Loss: 9.811857223510742;\tTest Accuracy.: 0.508s\n",
            "Epoch 11:\tTest Loss: 10.727413177490234;\tTest Accuracy.: 0.5076s\n",
            "Epoch 12:\tTest Loss: 10.796440124511719;\tTest Accuracy.: 0.5085s\n",
            "Epoch 13:\tTest Loss: 9.896145820617676;\tTest Accuracy.: 0.5085s\n",
            "Epoch 14:\tTest Loss: 11.480172157287598;\tTest Accuracy.: 0.5085s\n",
            "Epoch 15:\tTest Loss: 11.549910545349121;\tTest Accuracy.: 0.5059s\n",
            "Epoch 16:\tTest Loss: 11.151135444641113;\tTest Accuracy.: 0.5033s\n",
            "Epoch 17:\tTest Loss: 12.317741394042969;\tTest Accuracy.: 0.5097s\n",
            "Epoch 18:\tTest Loss: 12.199831008911133;\tTest Accuracy.: 0.5088s\n",
            "Epoch 19:\tTest Loss: 12.407984733581543;\tTest Accuracy.: 0.5084s\n",
            "Let's use 1 GPUs\n",
            "Epoch 0:\tTest Loss: 8.170404434204102;\tTest Accuracy.: 0.4968s\n",
            "Epoch 1:\tTest Loss: 8.536554336547852;\tTest Accuracy.: 0.5042s\n",
            "Epoch 2:\tTest Loss: 9.706677436828613;\tTest Accuracy.: 0.4949s\n",
            "Epoch 3:\tTest Loss: 9.862862586975098;\tTest Accuracy.: 0.5058s\n",
            "Epoch 4:\tTest Loss: 9.768704414367676;\tTest Accuracy.: 0.5026s\n",
            "Epoch 5:\tTest Loss: 10.323490142822266;\tTest Accuracy.: 0.5004s\n",
            "Epoch 6:\tTest Loss: 10.267017364501953;\tTest Accuracy.: 0.5056s\n",
            "Epoch 7:\tTest Loss: 9.55338191986084;\tTest Accuracy.: 0.5076s\n",
            "Epoch 8:\tTest Loss: 12.163688659667969;\tTest Accuracy.: 0.5061s\n",
            "Epoch 9:\tTest Loss: 11.723651885986328;\tTest Accuracy.: 0.5033s\n",
            "Epoch 10:\tTest Loss: 11.596694946289062;\tTest Accuracy.: 0.4977s\n",
            "Epoch 11:\tTest Loss: 10.667370796203613;\tTest Accuracy.: 0.5022s\n",
            "Epoch 12:\tTest Loss: 11.219212532043457;\tTest Accuracy.: 0.5054s\n",
            "Epoch 13:\tTest Loss: 10.659424781799316;\tTest Accuracy.: 0.5058s\n",
            "Epoch 14:\tTest Loss: 10.47653579711914;\tTest Accuracy.: 0.5065s\n",
            "Epoch 15:\tTest Loss: 13.70252513885498;\tTest Accuracy.: 0.5038s\n",
            "Epoch 16:\tTest Loss: 12.013802528381348;\tTest Accuracy.: 0.5065s\n",
            "Epoch 17:\tTest Loss: 12.08007526397705;\tTest Accuracy.: 0.5049s\n",
            "Epoch 18:\tTest Loss: 11.592643737792969;\tTest Accuracy.: 0.5056s\n",
            "Epoch 19:\tTest Loss: 13.196176528930664;\tTest Accuracy.: 0.5088s\n",
            "Let's use 1 GPUs\n",
            "Epoch 0:\tTest Loss: 10.628713607788086;\tTest Accuracy.: 0.4901s\n",
            "Epoch 1:\tTest Loss: 11.813339233398438;\tTest Accuracy.: 0.4945s\n",
            "Epoch 2:\tTest Loss: 8.861209869384766;\tTest Accuracy.: 0.491s\n",
            "Epoch 3:\tTest Loss: 9.813244819641113;\tTest Accuracy.: 0.4965s\n",
            "Epoch 4:\tTest Loss: 12.035164833068848;\tTest Accuracy.: 0.4856s\n",
            "Epoch 5:\tTest Loss: 9.501972198486328;\tTest Accuracy.: 0.4975s\n",
            "Epoch 6:\tTest Loss: 12.414507865905762;\tTest Accuracy.: 0.4937s\n",
            "Epoch 7:\tTest Loss: 10.393059730529785;\tTest Accuracy.: 0.498s\n",
            "Epoch 8:\tTest Loss: 11.835527420043945;\tTest Accuracy.: 0.5001s\n",
            "Epoch 9:\tTest Loss: 14.997834205627441;\tTest Accuracy.: 0.5001s\n",
            "Epoch 10:\tTest Loss: 12.38165283203125;\tTest Accuracy.: 0.5005s\n",
            "Epoch 11:\tTest Loss: 12.796220779418945;\tTest Accuracy.: 0.4988s\n",
            "Epoch 12:\tTest Loss: 16.13638687133789;\tTest Accuracy.: 0.4984s\n",
            "Epoch 13:\tTest Loss: 14.139039039611816;\tTest Accuracy.: 0.5028s\n",
            "Epoch 14:\tTest Loss: 12.656973838806152;\tTest Accuracy.: 0.4968s\n",
            "Epoch 15:\tTest Loss: 13.479854583740234;\tTest Accuracy.: 0.5045s\n",
            "Epoch 16:\tTest Loss: 14.26806640625;\tTest Accuracy.: 0.4974s\n",
            "Epoch 17:\tTest Loss: 16.457242965698242;\tTest Accuracy.: 0.4959s\n",
            "Epoch 18:\tTest Loss: 15.145902633666992;\tTest Accuracy.: 0.4932s\n",
            "Epoch 19:\tTest Loss: 14.162845611572266;\tTest Accuracy.: 0.4992s\n",
            "Let's use 1 GPUs\n",
            "Epoch 0:\tTest Loss: 9.551733016967773;\tTest Accuracy.: 0.482s\n",
            "Epoch 1:\tTest Loss: 7.995312213897705;\tTest Accuracy.: 0.4933s\n",
            "Epoch 2:\tTest Loss: 8.243709564208984;\tTest Accuracy.: 0.4997s\n",
            "Epoch 3:\tTest Loss: 9.861285209655762;\tTest Accuracy.: 0.4996s\n",
            "Epoch 4:\tTest Loss: 12.701242446899414;\tTest Accuracy.: 0.5011s\n",
            "Epoch 5:\tTest Loss: 10.652397155761719;\tTest Accuracy.: 0.5025s\n",
            "Epoch 6:\tTest Loss: 9.216385841369629;\tTest Accuracy.: 0.5031s\n",
            "Epoch 7:\tTest Loss: 11.537067413330078;\tTest Accuracy.: 0.4992s\n",
            "Epoch 8:\tTest Loss: 10.69974422454834;\tTest Accuracy.: 0.5018s\n",
            "Epoch 9:\tTest Loss: 11.453993797302246;\tTest Accuracy.: 0.5067s\n",
            "Epoch 10:\tTest Loss: 11.67330265045166;\tTest Accuracy.: 0.504s\n",
            "Epoch 11:\tTest Loss: 11.576231002807617;\tTest Accuracy.: 0.5069s\n",
            "Epoch 12:\tTest Loss: 11.957788467407227;\tTest Accuracy.: 0.5085s\n",
            "Epoch 13:\tTest Loss: 10.52328872680664;\tTest Accuracy.: 0.5056s\n",
            "Epoch 14:\tTest Loss: 10.9550142288208;\tTest Accuracy.: 0.5045s\n",
            "Epoch 15:\tTest Loss: 11.237829208374023;\tTest Accuracy.: 0.5028s\n",
            "Epoch 16:\tTest Loss: 11.464497566223145;\tTest Accuracy.: 0.4988s\n",
            "Epoch 17:\tTest Loss: 13.202235221862793;\tTest Accuracy.: 0.505s\n",
            "Epoch 18:\tTest Loss: 12.94338321685791;\tTest Accuracy.: 0.5048s\n",
            "Epoch 19:\tTest Loss: 12.766603469848633;\tTest Accuracy.: 0.503s\n"
          ],
          "name": "stdout"
        }
      ]
    },
    {
      "cell_type": "code",
      "metadata": {
        "id": "eWm5ZijWwyUv"
      },
      "source": [
        "np.save('result/R_list_at_models.npy', R_list_at_models) \n",
        "np.save('result/R_list_trainers.npy', R_list_trainers) \n",
        "np.save('result/R_list_test_losses.npy', R_list_test_losses) \n",
        "np.save('result/R_list_probabilities.npy', R_list_probabilities) \n",
        "np.save('result/R_list_test_accuracies.npy', R_list_test_accuracies) \n",
        "np.save('result/R_true_targets.npy', R_true_targets) "
      ],
      "execution_count": 18,
      "outputs": []
    },
    {
      "cell_type": "code",
      "metadata": {
        "colab": {
          "base_uri": "https://localhost:8080/"
        },
        "id": "6-t6g3YAFlYr",
        "outputId": "66b047ca-a830-4ba0-9257-b60c2e9514ef"
      },
      "source": [
        "# Ensemble training+AT:\n",
        "test_cases=[1,5,10]\n",
        "AT_list_at_models = dict()\n",
        "AT_list_trainers = dict()\n",
        "AT_list_test_losses =dict()\n",
        "AT_list_probabilities=dict()\n",
        "AT_list_test_accuracies= dict()\n",
        "AT_list_true_targets = dict()\n",
        "for case in test_cases:\n",
        "  at_models = []\n",
        "  trainers = []\n",
        "  test_losses =[]\n",
        "  probabilities=[]\n",
        "  test_accuracies= []\n",
        "  true_targets=[]\n",
        "  for i in range(case):\n",
        "      model = MLP()\n",
        "      optimizer = torch.optim.Adam(model.parameters(), lr=0.1)\n",
        "      training_criterion = torch.nn.CrossEntropyLoss()\n",
        "      device=torch.device(f\"cuda:{0}\")\n",
        "      trainer = AdversarialTrainer(model, training_criterion, in_dist_train, test_data_minist, optimizer, \n",
        "                             batch_size, 100, 0.01,\n",
        "                             torch.Tensor(data_range).view([1, -1]),'fgsm', test_losses, probabilities, test_accuracies, true_targets,device)\n",
        "      trainer.startTrainingSingleModel(n_epochs)\n",
        "      \n",
        "      at_models.append(model)\n",
        "      trainers.append(trainer)\n",
        "  AT_list_at_models[case]=at_models\n",
        "  AT_list_trainers[case]=trainers\n",
        "  AT_list_test_losses[case] =torch.tensor(test_losses).numpy()\n",
        "  AT_list_probabilities[case]=probabilities\n",
        "  AT_list_test_accuracies[case]= test_accuracies\n",
        "  AT_list_true_targets[case]=true_targets"
      ],
      "execution_count": 19,
      "outputs": [
        {
          "output_type": "stream",
          "text": [
            "Let's use 1 GPUs\n"
          ],
          "name": "stdout"
        },
        {
          "output_type": "stream",
          "text": [
            "/usr/local/lib/python3.6/dist-packages/ipykernel_launcher.py:86: UserWarning: Implicit dimension choice for softmax has been deprecated. Change the call to include dim=X as an argument.\n"
          ],
          "name": "stderr"
        },
        {
          "output_type": "stream",
          "text": [
            "Epoch 0:\tTest Loss: 10.72439956665039;\tTest Accuracy.: 0.4957s\n",
            "Epoch 1:\tTest Loss: 10.320438385009766;\tTest Accuracy.: 0.492s\n",
            "Epoch 2:\tTest Loss: 12.26891803741455;\tTest Accuracy.: 0.5024s\n",
            "Epoch 3:\tTest Loss: 11.43455696105957;\tTest Accuracy.: 0.4995s\n",
            "Epoch 4:\tTest Loss: 9.666885375976562;\tTest Accuracy.: 0.4994s\n",
            "Epoch 5:\tTest Loss: 11.057107925415039;\tTest Accuracy.: 0.5014s\n",
            "Epoch 6:\tTest Loss: 10.741599082946777;\tTest Accuracy.: 0.5018s\n",
            "Epoch 7:\tTest Loss: 11.89604377746582;\tTest Accuracy.: 0.5031s\n",
            "Epoch 8:\tTest Loss: 10.38240909576416;\tTest Accuracy.: 0.4987s\n",
            "Epoch 9:\tTest Loss: 10.754758834838867;\tTest Accuracy.: 0.5042s\n",
            "Epoch 10:\tTest Loss: 10.355400085449219;\tTest Accuracy.: 0.5076s\n",
            "Epoch 11:\tTest Loss: 11.594182968139648;\tTest Accuracy.: 0.5015s\n",
            "Epoch 12:\tTest Loss: 11.0257568359375;\tTest Accuracy.: 0.5066s\n",
            "Epoch 13:\tTest Loss: 12.169586181640625;\tTest Accuracy.: 0.5058s\n",
            "Epoch 14:\tTest Loss: 12.522452354431152;\tTest Accuracy.: 0.5049s\n",
            "Epoch 15:\tTest Loss: 13.598947525024414;\tTest Accuracy.: 0.5039s\n",
            "Epoch 16:\tTest Loss: 13.748871803283691;\tTest Accuracy.: 0.5018s\n",
            "Epoch 17:\tTest Loss: 15.178573608398438;\tTest Accuracy.: 0.5077s\n",
            "Epoch 18:\tTest Loss: 15.475578308105469;\tTest Accuracy.: 0.5074s\n",
            "Epoch 19:\tTest Loss: 12.651591300964355;\tTest Accuracy.: 0.5079s\n",
            "Let's use 1 GPUs\n",
            "Epoch 0:\tTest Loss: 10.13302993774414;\tTest Accuracy.: 0.4992s\n",
            "Epoch 1:\tTest Loss: 8.249821662902832;\tTest Accuracy.: 0.4932s\n",
            "Epoch 2:\tTest Loss: 8.471632957458496;\tTest Accuracy.: 0.5043s\n",
            "Epoch 3:\tTest Loss: 10.31329345703125;\tTest Accuracy.: 0.5036s\n",
            "Epoch 4:\tTest Loss: 11.85030460357666;\tTest Accuracy.: 0.5035s\n",
            "Epoch 5:\tTest Loss: 13.720216751098633;\tTest Accuracy.: 0.4934s\n",
            "Epoch 6:\tTest Loss: 9.734029769897461;\tTest Accuracy.: 0.5064s\n",
            "Epoch 7:\tTest Loss: 11.297647476196289;\tTest Accuracy.: 0.5072s\n",
            "Epoch 8:\tTest Loss: 11.876935005187988;\tTest Accuracy.: 0.5073s\n",
            "Epoch 9:\tTest Loss: 11.42818832397461;\tTest Accuracy.: 0.5067s\n",
            "Epoch 10:\tTest Loss: 13.836846351623535;\tTest Accuracy.: 0.5018s\n",
            "Epoch 11:\tTest Loss: 10.67274284362793;\tTest Accuracy.: 0.5065s\n",
            "Epoch 12:\tTest Loss: 11.42496109008789;\tTest Accuracy.: 0.5045s\n",
            "Epoch 13:\tTest Loss: 10.756776809692383;\tTest Accuracy.: 0.505s\n",
            "Epoch 14:\tTest Loss: 11.350967407226562;\tTest Accuracy.: 0.5049s\n",
            "Epoch 15:\tTest Loss: 13.973459243774414;\tTest Accuracy.: 0.5058s\n",
            "Epoch 16:\tTest Loss: 11.841774940490723;\tTest Accuracy.: 0.5047s\n",
            "Epoch 17:\tTest Loss: 13.294852256774902;\tTest Accuracy.: 0.5083s\n",
            "Epoch 18:\tTest Loss: 11.81429386138916;\tTest Accuracy.: 0.5048s\n",
            "Epoch 19:\tTest Loss: 12.642953872680664;\tTest Accuracy.: 0.506s\n",
            "Let's use 1 GPUs\n",
            "Epoch 0:\tTest Loss: 10.602410316467285;\tTest Accuracy.: 0.4943s\n",
            "Epoch 1:\tTest Loss: 8.265399932861328;\tTest Accuracy.: 0.4973s\n",
            "Epoch 2:\tTest Loss: 12.124155044555664;\tTest Accuracy.: 0.5008s\n",
            "Epoch 3:\tTest Loss: 9.4667329788208;\tTest Accuracy.: 0.5036s\n",
            "Epoch 4:\tTest Loss: 11.510689735412598;\tTest Accuracy.: 0.4984s\n",
            "Epoch 5:\tTest Loss: 11.394043922424316;\tTest Accuracy.: 0.5015s\n",
            "Epoch 6:\tTest Loss: 11.476181030273438;\tTest Accuracy.: 0.5039s\n",
            "Epoch 7:\tTest Loss: 11.180513381958008;\tTest Accuracy.: 0.5036s\n",
            "Epoch 8:\tTest Loss: 12.427922248840332;\tTest Accuracy.: 0.5054s\n",
            "Epoch 9:\tTest Loss: 11.87090015411377;\tTest Accuracy.: 0.5016s\n",
            "Epoch 10:\tTest Loss: 10.392067909240723;\tTest Accuracy.: 0.5049s\n",
            "Epoch 11:\tTest Loss: 11.393914222717285;\tTest Accuracy.: 0.5063s\n",
            "Epoch 12:\tTest Loss: 13.45559024810791;\tTest Accuracy.: 0.5047s\n",
            "Epoch 13:\tTest Loss: 12.380130767822266;\tTest Accuracy.: 0.5057s\n",
            "Epoch 14:\tTest Loss: 12.40231704711914;\tTest Accuracy.: 0.5065s\n",
            "Epoch 15:\tTest Loss: 12.50722599029541;\tTest Accuracy.: 0.5061s\n",
            "Epoch 16:\tTest Loss: 12.28138256072998;\tTest Accuracy.: 0.5034s\n",
            "Epoch 17:\tTest Loss: 14.03042984008789;\tTest Accuracy.: 0.506s\n",
            "Epoch 18:\tTest Loss: 14.687810897827148;\tTest Accuracy.: 0.5089s\n",
            "Epoch 19:\tTest Loss: 13.636000633239746;\tTest Accuracy.: 0.5029s\n",
            "Let's use 1 GPUs\n",
            "Epoch 0:\tTest Loss: 9.823702812194824;\tTest Accuracy.: 0.4953s\n",
            "Epoch 1:\tTest Loss: 8.63646125793457;\tTest Accuracy.: 0.497s\n",
            "Epoch 2:\tTest Loss: 8.379639625549316;\tTest Accuracy.: 0.5055s\n",
            "Epoch 3:\tTest Loss: 8.261940956115723;\tTest Accuracy.: 0.5008s\n",
            "Epoch 4:\tTest Loss: 8.795340538024902;\tTest Accuracy.: 0.5039s\n",
            "Epoch 5:\tTest Loss: 8.432760238647461;\tTest Accuracy.: 0.4982s\n",
            "Epoch 6:\tTest Loss: 9.858739852905273;\tTest Accuracy.: 0.502s\n",
            "Epoch 7:\tTest Loss: 12.261320114135742;\tTest Accuracy.: 0.4973s\n",
            "Epoch 8:\tTest Loss: 10.964333534240723;\tTest Accuracy.: 0.5029s\n",
            "Epoch 9:\tTest Loss: 10.026638984680176;\tTest Accuracy.: 0.5046s\n",
            "Epoch 10:\tTest Loss: 10.732661247253418;\tTest Accuracy.: 0.5065s\n",
            "Epoch 11:\tTest Loss: 10.42479133605957;\tTest Accuracy.: 0.5013s\n",
            "Epoch 12:\tTest Loss: 11.831144332885742;\tTest Accuracy.: 0.5051s\n",
            "Epoch 13:\tTest Loss: 12.10457992553711;\tTest Accuracy.: 0.5077s\n",
            "Epoch 14:\tTest Loss: 10.820109367370605;\tTest Accuracy.: 0.5068s\n",
            "Epoch 15:\tTest Loss: 11.571904182434082;\tTest Accuracy.: 0.5088s\n",
            "Epoch 16:\tTest Loss: 12.118035316467285;\tTest Accuracy.: 0.5037s\n",
            "Epoch 17:\tTest Loss: 10.605752944946289;\tTest Accuracy.: 0.5063s\n",
            "Epoch 18:\tTest Loss: 12.222429275512695;\tTest Accuracy.: 0.507s\n",
            "Epoch 19:\tTest Loss: 11.001602172851562;\tTest Accuracy.: 0.5073s\n",
            "Let's use 1 GPUs\n",
            "Epoch 0:\tTest Loss: 10.389296531677246;\tTest Accuracy.: 0.4986s\n",
            "Epoch 1:\tTest Loss: 8.640230178833008;\tTest Accuracy.: 0.5047s\n",
            "Epoch 2:\tTest Loss: 12.189324378967285;\tTest Accuracy.: 0.5003s\n",
            "Epoch 3:\tTest Loss: 9.158858299255371;\tTest Accuracy.: 0.5029s\n",
            "Epoch 4:\tTest Loss: 9.775550842285156;\tTest Accuracy.: 0.5044s\n",
            "Epoch 5:\tTest Loss: 9.688112258911133;\tTest Accuracy.: 0.5061s\n",
            "Epoch 6:\tTest Loss: 10.051533699035645;\tTest Accuracy.: 0.506s\n",
            "Epoch 7:\tTest Loss: 10.235230445861816;\tTest Accuracy.: 0.4996s\n",
            "Epoch 8:\tTest Loss: 11.241914749145508;\tTest Accuracy.: 0.5018s\n",
            "Epoch 9:\tTest Loss: 9.708002090454102;\tTest Accuracy.: 0.5029s\n",
            "Epoch 10:\tTest Loss: 10.044000625610352;\tTest Accuracy.: 0.5048s\n",
            "Epoch 11:\tTest Loss: 13.01080322265625;\tTest Accuracy.: 0.5011s\n",
            "Epoch 12:\tTest Loss: 10.973990440368652;\tTest Accuracy.: 0.5055s\n",
            "Epoch 13:\tTest Loss: 11.822319984436035;\tTest Accuracy.: 0.5074s\n",
            "Epoch 14:\tTest Loss: 10.080657958984375;\tTest Accuracy.: 0.5056s\n",
            "Epoch 15:\tTest Loss: 12.784956932067871;\tTest Accuracy.: 0.5078s\n",
            "Epoch 16:\tTest Loss: 10.224791526794434;\tTest Accuracy.: 0.5019s\n",
            "Epoch 17:\tTest Loss: 14.191551208496094;\tTest Accuracy.: 0.5073s\n",
            "Epoch 18:\tTest Loss: 12.311174392700195;\tTest Accuracy.: 0.5063s\n",
            "Epoch 19:\tTest Loss: 12.664801597595215;\tTest Accuracy.: 0.509s\n",
            "Let's use 1 GPUs\n",
            "Epoch 0:\tTest Loss: 8.161620140075684;\tTest Accuracy.: 0.5014s\n",
            "Epoch 1:\tTest Loss: 8.891523361206055;\tTest Accuracy.: 0.4999s\n",
            "Epoch 2:\tTest Loss: 9.664092063903809;\tTest Accuracy.: 0.5011s\n",
            "Epoch 3:\tTest Loss: 8.972987174987793;\tTest Accuracy.: 0.5029s\n",
            "Epoch 4:\tTest Loss: 8.261420249938965;\tTest Accuracy.: 0.5017s\n",
            "Epoch 5:\tTest Loss: 10.028223037719727;\tTest Accuracy.: 0.5061s\n",
            "Epoch 6:\tTest Loss: 9.05771255493164;\tTest Accuracy.: 0.5041s\n",
            "Epoch 7:\tTest Loss: 11.256766319274902;\tTest Accuracy.: 0.5052s\n",
            "Epoch 8:\tTest Loss: 10.96826171875;\tTest Accuracy.: 0.5019s\n",
            "Epoch 9:\tTest Loss: 11.78496265411377;\tTest Accuracy.: 0.5042s\n",
            "Epoch 10:\tTest Loss: 11.254528999328613;\tTest Accuracy.: 0.5053s\n",
            "Epoch 11:\tTest Loss: 12.5323486328125;\tTest Accuracy.: 0.4999s\n",
            "Epoch 12:\tTest Loss: 10.979904174804688;\tTest Accuracy.: 0.5013s\n",
            "Epoch 13:\tTest Loss: 11.508358001708984;\tTest Accuracy.: 0.5052s\n",
            "Epoch 14:\tTest Loss: 13.837198257446289;\tTest Accuracy.: 0.508s\n",
            "Epoch 15:\tTest Loss: 10.978278160095215;\tTest Accuracy.: 0.5071s\n",
            "Epoch 16:\tTest Loss: 15.6863431930542;\tTest Accuracy.: 0.5087s\n",
            "Epoch 17:\tTest Loss: 13.395597457885742;\tTest Accuracy.: 0.5063s\n",
            "Epoch 18:\tTest Loss: 14.147772789001465;\tTest Accuracy.: 0.5098s\n",
            "Epoch 19:\tTest Loss: 9.722846031188965;\tTest Accuracy.: 0.5078s\n",
            "Let's use 1 GPUs\n",
            "Epoch 0:\tTest Loss: 8.651654243469238;\tTest Accuracy.: 0.5011s\n",
            "Epoch 1:\tTest Loss: 8.270729064941406;\tTest Accuracy.: 0.4971s\n",
            "Epoch 2:\tTest Loss: 8.099283218383789;\tTest Accuracy.: 0.5014s\n",
            "Epoch 3:\tTest Loss: 8.229625701904297;\tTest Accuracy.: 0.5065s\n",
            "Epoch 4:\tTest Loss: 10.197202682495117;\tTest Accuracy.: 0.4889s\n",
            "Epoch 5:\tTest Loss: 9.109285354614258;\tTest Accuracy.: 0.5001s\n",
            "Epoch 6:\tTest Loss: 9.783289909362793;\tTest Accuracy.: 0.5032s\n",
            "Epoch 7:\tTest Loss: 11.131099700927734;\tTest Accuracy.: 0.5004s\n",
            "Epoch 8:\tTest Loss: 10.140509605407715;\tTest Accuracy.: 0.5063s\n",
            "Epoch 9:\tTest Loss: 9.890920639038086;\tTest Accuracy.: 0.5058s\n",
            "Epoch 10:\tTest Loss: 11.6331205368042;\tTest Accuracy.: 0.508s\n",
            "Epoch 11:\tTest Loss: 11.285318374633789;\tTest Accuracy.: 0.5076s\n",
            "Epoch 12:\tTest Loss: 11.556074142456055;\tTest Accuracy.: 0.5056s\n",
            "Epoch 13:\tTest Loss: 11.612366676330566;\tTest Accuracy.: 0.5056s\n",
            "Epoch 14:\tTest Loss: 9.812887191772461;\tTest Accuracy.: 0.5033s\n",
            "Epoch 15:\tTest Loss: 13.212258338928223;\tTest Accuracy.: 0.507s\n",
            "Epoch 16:\tTest Loss: 11.099640846252441;\tTest Accuracy.: 0.5036s\n",
            "Epoch 17:\tTest Loss: 10.942397117614746;\tTest Accuracy.: 0.5047s\n",
            "Epoch 18:\tTest Loss: 10.397371292114258;\tTest Accuracy.: 0.5044s\n",
            "Epoch 19:\tTest Loss: 11.809148788452148;\tTest Accuracy.: 0.5053s\n",
            "Let's use 1 GPUs\n",
            "Epoch 0:\tTest Loss: 8.495922088623047;\tTest Accuracy.: 0.5021s\n",
            "Epoch 1:\tTest Loss: 7.892154216766357;\tTest Accuracy.: 0.5033s\n",
            "Epoch 2:\tTest Loss: 7.558815956115723;\tTest Accuracy.: 0.5034s\n",
            "Epoch 3:\tTest Loss: 8.627541542053223;\tTest Accuracy.: 0.4983s\n",
            "Epoch 4:\tTest Loss: 10.219246864318848;\tTest Accuracy.: 0.5008s\n",
            "Epoch 5:\tTest Loss: 8.870772361755371;\tTest Accuracy.: 0.5017s\n",
            "Epoch 6:\tTest Loss: 12.298666954040527;\tTest Accuracy.: 0.4932s\n",
            "Epoch 7:\tTest Loss: 10.892966270446777;\tTest Accuracy.: 0.5044s\n",
            "Epoch 8:\tTest Loss: 11.384116172790527;\tTest Accuracy.: 0.5057s\n",
            "Epoch 9:\tTest Loss: 10.485028266906738;\tTest Accuracy.: 0.5059s\n",
            "Epoch 10:\tTest Loss: 12.195645332336426;\tTest Accuracy.: 0.507s\n",
            "Epoch 11:\tTest Loss: 10.888449668884277;\tTest Accuracy.: 0.5071s\n",
            "Epoch 12:\tTest Loss: 12.94439697265625;\tTest Accuracy.: 0.5045s\n",
            "Epoch 13:\tTest Loss: 11.10353946685791;\tTest Accuracy.: 0.5078s\n",
            "Epoch 14:\tTest Loss: 11.605635643005371;\tTest Accuracy.: 0.5079s\n",
            "Epoch 15:\tTest Loss: 11.666277885437012;\tTest Accuracy.: 0.5074s\n",
            "Epoch 16:\tTest Loss: 10.891571998596191;\tTest Accuracy.: 0.508s\n",
            "Epoch 17:\tTest Loss: 12.595080375671387;\tTest Accuracy.: 0.5068s\n",
            "Epoch 18:\tTest Loss: 10.170321464538574;\tTest Accuracy.: 0.5063s\n",
            "Epoch 19:\tTest Loss: 13.941875457763672;\tTest Accuracy.: 0.5064s\n",
            "Let's use 1 GPUs\n",
            "Epoch 0:\tTest Loss: 8.207449913024902;\tTest Accuracy.: 0.4997s\n",
            "Epoch 1:\tTest Loss: 7.942148208618164;\tTest Accuracy.: 0.5008s\n",
            "Epoch 2:\tTest Loss: 9.903461456298828;\tTest Accuracy.: 0.5048s\n",
            "Epoch 3:\tTest Loss: 8.456345558166504;\tTest Accuracy.: 0.5073s\n",
            "Epoch 4:\tTest Loss: 7.223490238189697;\tTest Accuracy.: 0.505s\n",
            "Epoch 5:\tTest Loss: 8.78844928741455;\tTest Accuracy.: 0.5046s\n",
            "Epoch 6:\tTest Loss: 9.870651245117188;\tTest Accuracy.: 0.5058s\n",
            "Epoch 7:\tTest Loss: 10.908405303955078;\tTest Accuracy.: 0.5069s\n",
            "Epoch 8:\tTest Loss: 11.740240097045898;\tTest Accuracy.: 0.5018s\n",
            "Epoch 9:\tTest Loss: 10.837568283081055;\tTest Accuracy.: 0.5014s\n",
            "Epoch 10:\tTest Loss: 11.509472846984863;\tTest Accuracy.: 0.4978s\n",
            "Epoch 11:\tTest Loss: 9.841105461120605;\tTest Accuracy.: 0.507s\n",
            "Epoch 12:\tTest Loss: 12.628210067749023;\tTest Accuracy.: 0.5033s\n",
            "Epoch 13:\tTest Loss: 12.20065975189209;\tTest Accuracy.: 0.5026s\n",
            "Epoch 14:\tTest Loss: 12.434184074401855;\tTest Accuracy.: 0.5012s\n",
            "Epoch 15:\tTest Loss: 12.007121086120605;\tTest Accuracy.: 0.5049s\n",
            "Epoch 16:\tTest Loss: 12.461615562438965;\tTest Accuracy.: 0.5052s\n",
            "Epoch 17:\tTest Loss: 10.345415115356445;\tTest Accuracy.: 0.5043s\n",
            "Epoch 18:\tTest Loss: 11.362866401672363;\tTest Accuracy.: 0.5066s\n",
            "Epoch 19:\tTest Loss: 11.805670738220215;\tTest Accuracy.: 0.5033s\n",
            "Let's use 1 GPUs\n",
            "Epoch 0:\tTest Loss: 9.584677696228027;\tTest Accuracy.: 0.4901s\n",
            "Epoch 1:\tTest Loss: 9.328781127929688;\tTest Accuracy.: 0.4981s\n",
            "Epoch 2:\tTest Loss: 7.795844078063965;\tTest Accuracy.: 0.5036s\n",
            "Epoch 3:\tTest Loss: 8.628741264343262;\tTest Accuracy.: 0.5006s\n",
            "Epoch 4:\tTest Loss: 8.848713874816895;\tTest Accuracy.: 0.5012s\n",
            "Epoch 5:\tTest Loss: 10.156394958496094;\tTest Accuracy.: 0.5002s\n",
            "Epoch 6:\tTest Loss: 10.61872673034668;\tTest Accuracy.: 0.506s\n",
            "Epoch 7:\tTest Loss: 10.833653450012207;\tTest Accuracy.: 0.4967s\n",
            "Epoch 8:\tTest Loss: 10.195417404174805;\tTest Accuracy.: 0.5031s\n",
            "Epoch 9:\tTest Loss: 9.984418869018555;\tTest Accuracy.: 0.5049s\n",
            "Epoch 10:\tTest Loss: 10.289593696594238;\tTest Accuracy.: 0.4994s\n",
            "Epoch 11:\tTest Loss: 10.903326988220215;\tTest Accuracy.: 0.5039s\n",
            "Epoch 12:\tTest Loss: 11.433629989624023;\tTest Accuracy.: 0.5076s\n",
            "Epoch 13:\tTest Loss: 12.170071601867676;\tTest Accuracy.: 0.5076s\n",
            "Epoch 14:\tTest Loss: 11.095975875854492;\tTest Accuracy.: 0.507s\n",
            "Epoch 15:\tTest Loss: 12.786175727844238;\tTest Accuracy.: 0.5041s\n",
            "Epoch 16:\tTest Loss: 12.503552436828613;\tTest Accuracy.: 0.5047s\n",
            "Epoch 17:\tTest Loss: 12.686119079589844;\tTest Accuracy.: 0.5074s\n",
            "Epoch 18:\tTest Loss: 12.815203666687012;\tTest Accuracy.: 0.5085s\n",
            "Epoch 19:\tTest Loss: 14.294952392578125;\tTest Accuracy.: 0.5028s\n",
            "Let's use 1 GPUs\n",
            "Epoch 0:\tTest Loss: 7.8503031730651855;\tTest Accuracy.: 0.4991s\n",
            "Epoch 1:\tTest Loss: 10.129886627197266;\tTest Accuracy.: 0.5003s\n",
            "Epoch 2:\tTest Loss: 8.218864440917969;\tTest Accuracy.: 0.5023s\n",
            "Epoch 3:\tTest Loss: 8.916817665100098;\tTest Accuracy.: 0.5015s\n",
            "Epoch 4:\tTest Loss: 8.655973434448242;\tTest Accuracy.: 0.505s\n",
            "Epoch 5:\tTest Loss: 9.34152889251709;\tTest Accuracy.: 0.5046s\n",
            "Epoch 6:\tTest Loss: 9.638379096984863;\tTest Accuracy.: 0.505s\n",
            "Epoch 7:\tTest Loss: 10.067809104919434;\tTest Accuracy.: 0.4991s\n",
            "Epoch 8:\tTest Loss: 9.878844261169434;\tTest Accuracy.: 0.5055s\n",
            "Epoch 9:\tTest Loss: 11.261348724365234;\tTest Accuracy.: 0.505s\n",
            "Epoch 10:\tTest Loss: 11.65318489074707;\tTest Accuracy.: 0.5081s\n",
            "Epoch 11:\tTest Loss: 9.47199535369873;\tTest Accuracy.: 0.5079s\n",
            "Epoch 12:\tTest Loss: 11.02159309387207;\tTest Accuracy.: 0.5087s\n",
            "Epoch 13:\tTest Loss: 10.41965103149414;\tTest Accuracy.: 0.5093s\n",
            "Epoch 14:\tTest Loss: 12.285406112670898;\tTest Accuracy.: 0.5088s\n",
            "Epoch 15:\tTest Loss: 12.43237018585205;\tTest Accuracy.: 0.5065s\n",
            "Epoch 16:\tTest Loss: 10.90889835357666;\tTest Accuracy.: 0.5096s\n",
            "Epoch 17:\tTest Loss: 11.061354637145996;\tTest Accuracy.: 0.5084s\n",
            "Epoch 18:\tTest Loss: 11.83985710144043;\tTest Accuracy.: 0.5098s\n",
            "Epoch 19:\tTest Loss: 13.569178581237793;\tTest Accuracy.: 0.5081s\n",
            "Let's use 1 GPUs\n",
            "Epoch 0:\tTest Loss: 12.010562896728516;\tTest Accuracy.: 0.4839s\n",
            "Epoch 1:\tTest Loss: 10.623087882995605;\tTest Accuracy.: 0.4945s\n",
            "Epoch 2:\tTest Loss: 9.532443046569824;\tTest Accuracy.: 0.5037s\n",
            "Epoch 3:\tTest Loss: 11.618759155273438;\tTest Accuracy.: 0.494s\n",
            "Epoch 4:\tTest Loss: 10.183658599853516;\tTest Accuracy.: 0.5028s\n",
            "Epoch 5:\tTest Loss: 10.984023094177246;\tTest Accuracy.: 0.5048s\n",
            "Epoch 6:\tTest Loss: 10.700819969177246;\tTest Accuracy.: 0.5039s\n",
            "Epoch 7:\tTest Loss: 12.926994323730469;\tTest Accuracy.: 0.5003s\n",
            "Epoch 8:\tTest Loss: 11.056601524353027;\tTest Accuracy.: 0.5041s\n",
            "Epoch 9:\tTest Loss: 11.027182579040527;\tTest Accuracy.: 0.5014s\n",
            "Epoch 10:\tTest Loss: 11.19987964630127;\tTest Accuracy.: 0.5055s\n",
            "Epoch 11:\tTest Loss: 13.65359878540039;\tTest Accuracy.: 0.494s\n",
            "Epoch 12:\tTest Loss: 10.73412799835205;\tTest Accuracy.: 0.4935s\n",
            "Epoch 13:\tTest Loss: 11.66157054901123;\tTest Accuracy.: 0.4975s\n",
            "Epoch 14:\tTest Loss: 13.716991424560547;\tTest Accuracy.: 0.5038s\n",
            "Epoch 15:\tTest Loss: 11.37584114074707;\tTest Accuracy.: 0.5039s\n",
            "Epoch 16:\tTest Loss: 13.43620491027832;\tTest Accuracy.: 0.5042s\n",
            "Epoch 17:\tTest Loss: 12.337099075317383;\tTest Accuracy.: 0.508s\n",
            "Epoch 18:\tTest Loss: 12.22586441040039;\tTest Accuracy.: 0.5063s\n",
            "Epoch 19:\tTest Loss: 12.154505729675293;\tTest Accuracy.: 0.5093s\n",
            "Let's use 1 GPUs\n",
            "Epoch 0:\tTest Loss: 9.806731224060059;\tTest Accuracy.: 0.4957s\n",
            "Epoch 1:\tTest Loss: 9.465572357177734;\tTest Accuracy.: 0.4957s\n",
            "Epoch 2:\tTest Loss: 10.022530555725098;\tTest Accuracy.: 0.4989s\n",
            "Epoch 3:\tTest Loss: 9.148090362548828;\tTest Accuracy.: 0.5023s\n",
            "Epoch 4:\tTest Loss: 9.076452255249023;\tTest Accuracy.: 0.4969s\n",
            "Epoch 5:\tTest Loss: 9.166885375976562;\tTest Accuracy.: 0.5015s\n",
            "Epoch 6:\tTest Loss: 9.590343475341797;\tTest Accuracy.: 0.5006s\n",
            "Epoch 7:\tTest Loss: 9.308209419250488;\tTest Accuracy.: 0.506s\n",
            "Epoch 8:\tTest Loss: 8.752090454101562;\tTest Accuracy.: 0.5053s\n",
            "Epoch 9:\tTest Loss: 10.26667308807373;\tTest Accuracy.: 0.5084s\n",
            "Epoch 10:\tTest Loss: 9.782140731811523;\tTest Accuracy.: 0.507s\n",
            "Epoch 11:\tTest Loss: 10.918631553649902;\tTest Accuracy.: 0.5074s\n",
            "Epoch 12:\tTest Loss: 9.964237213134766;\tTest Accuracy.: 0.5053s\n",
            "Epoch 13:\tTest Loss: 12.090184211730957;\tTest Accuracy.: 0.5063s\n",
            "Epoch 14:\tTest Loss: 11.83222770690918;\tTest Accuracy.: 0.5038s\n",
            "Epoch 15:\tTest Loss: 12.430031776428223;\tTest Accuracy.: 0.5073s\n",
            "Epoch 16:\tTest Loss: 9.957944869995117;\tTest Accuracy.: 0.5076s\n",
            "Epoch 17:\tTest Loss: 12.720401763916016;\tTest Accuracy.: 0.5056s\n",
            "Epoch 18:\tTest Loss: 12.571792602539062;\tTest Accuracy.: 0.5073s\n",
            "Epoch 19:\tTest Loss: 13.507164001464844;\tTest Accuracy.: 0.5082s\n",
            "Let's use 1 GPUs\n",
            "Epoch 0:\tTest Loss: 9.28982162475586;\tTest Accuracy.: 0.494s\n",
            "Epoch 1:\tTest Loss: 8.771756172180176;\tTest Accuracy.: 0.4987s\n",
            "Epoch 2:\tTest Loss: 8.01081371307373;\tTest Accuracy.: 0.5033s\n",
            "Epoch 3:\tTest Loss: 8.599995613098145;\tTest Accuracy.: 0.5028s\n",
            "Epoch 4:\tTest Loss: 8.803297996520996;\tTest Accuracy.: 0.5021s\n",
            "Epoch 5:\tTest Loss: 9.850520133972168;\tTest Accuracy.: 0.5029s\n",
            "Epoch 6:\tTest Loss: 10.370535850524902;\tTest Accuracy.: 0.502s\n",
            "Epoch 7:\tTest Loss: 10.093804359436035;\tTest Accuracy.: 0.504s\n",
            "Epoch 8:\tTest Loss: 11.216343879699707;\tTest Accuracy.: 0.507s\n",
            "Epoch 9:\tTest Loss: 10.880135536193848;\tTest Accuracy.: 0.5072s\n",
            "Epoch 10:\tTest Loss: 9.506184577941895;\tTest Accuracy.: 0.5068s\n",
            "Epoch 11:\tTest Loss: 10.717796325683594;\tTest Accuracy.: 0.5096s\n",
            "Epoch 12:\tTest Loss: 10.742668151855469;\tTest Accuracy.: 0.5073s\n",
            "Epoch 13:\tTest Loss: 10.020158767700195;\tTest Accuracy.: 0.5065s\n",
            "Epoch 14:\tTest Loss: 11.196622848510742;\tTest Accuracy.: 0.5069s\n",
            "Epoch 15:\tTest Loss: 10.850899696350098;\tTest Accuracy.: 0.5072s\n",
            "Epoch 16:\tTest Loss: 12.074893951416016;\tTest Accuracy.: 0.509s\n",
            "Epoch 17:\tTest Loss: 10.475326538085938;\tTest Accuracy.: 0.5064s\n",
            "Epoch 18:\tTest Loss: 11.526129722595215;\tTest Accuracy.: 0.508s\n",
            "Epoch 19:\tTest Loss: 11.326960563659668;\tTest Accuracy.: 0.5054s\n",
            "Let's use 1 GPUs\n",
            "Epoch 0:\tTest Loss: 12.023282051086426;\tTest Accuracy.: 0.5005s\n",
            "Epoch 1:\tTest Loss: 11.603063583374023;\tTest Accuracy.: 0.5026s\n",
            "Epoch 2:\tTest Loss: 8.552512168884277;\tTest Accuracy.: 0.5028s\n",
            "Epoch 3:\tTest Loss: 9.560699462890625;\tTest Accuracy.: 0.4985s\n",
            "Epoch 4:\tTest Loss: 8.072362899780273;\tTest Accuracy.: 0.5041s\n",
            "Epoch 5:\tTest Loss: 10.330061912536621;\tTest Accuracy.: 0.4945s\n",
            "Epoch 6:\tTest Loss: 8.96793270111084;\tTest Accuracy.: 0.5055s\n",
            "Epoch 7:\tTest Loss: 10.45906925201416;\tTest Accuracy.: 0.5054s\n",
            "Epoch 8:\tTest Loss: 10.66108226776123;\tTest Accuracy.: 0.5005s\n",
            "Epoch 9:\tTest Loss: 10.005537033081055;\tTest Accuracy.: 0.5047s\n",
            "Epoch 10:\tTest Loss: 9.674503326416016;\tTest Accuracy.: 0.5086s\n",
            "Epoch 11:\tTest Loss: 10.498248100280762;\tTest Accuracy.: 0.5049s\n",
            "Epoch 12:\tTest Loss: 9.303252220153809;\tTest Accuracy.: 0.5089s\n",
            "Epoch 13:\tTest Loss: 10.438437461853027;\tTest Accuracy.: 0.5056s\n",
            "Epoch 14:\tTest Loss: 10.514571189880371;\tTest Accuracy.: 0.5085s\n",
            "Epoch 15:\tTest Loss: 11.1105318069458;\tTest Accuracy.: 0.5035s\n",
            "Epoch 16:\tTest Loss: 11.783879280090332;\tTest Accuracy.: 0.5043s\n",
            "Epoch 17:\tTest Loss: 16.54281997680664;\tTest Accuracy.: 0.5086s\n",
            "Epoch 18:\tTest Loss: 10.666308403015137;\tTest Accuracy.: 0.5092s\n",
            "Epoch 19:\tTest Loss: 11.065673828125;\tTest Accuracy.: 0.5022s\n",
            "Let's use 1 GPUs\n",
            "Epoch 0:\tTest Loss: 8.113300323486328;\tTest Accuracy.: 0.4946s\n",
            "Epoch 1:\tTest Loss: 7.5942559242248535;\tTest Accuracy.: 0.499s\n",
            "Epoch 2:\tTest Loss: 7.519440174102783;\tTest Accuracy.: 0.4988s\n",
            "Epoch 3:\tTest Loss: 10.485119819641113;\tTest Accuracy.: 0.5039s\n",
            "Epoch 4:\tTest Loss: 9.155077934265137;\tTest Accuracy.: 0.5025s\n",
            "Epoch 5:\tTest Loss: 8.955843925476074;\tTest Accuracy.: 0.5022s\n",
            "Epoch 6:\tTest Loss: 9.2409029006958;\tTest Accuracy.: 0.5016s\n",
            "Epoch 7:\tTest Loss: 10.52476692199707;\tTest Accuracy.: 0.5074s\n",
            "Epoch 8:\tTest Loss: 8.726486206054688;\tTest Accuracy.: 0.505s\n",
            "Epoch 9:\tTest Loss: 10.559452056884766;\tTest Accuracy.: 0.5038s\n",
            "Epoch 10:\tTest Loss: 10.839580535888672;\tTest Accuracy.: 0.5074s\n",
            "Epoch 11:\tTest Loss: 10.696878433227539;\tTest Accuracy.: 0.5063s\n",
            "Epoch 12:\tTest Loss: 10.209518432617188;\tTest Accuracy.: 0.5051s\n",
            "Epoch 13:\tTest Loss: 9.725428581237793;\tTest Accuracy.: 0.5007s\n",
            "Epoch 14:\tTest Loss: 11.080143928527832;\tTest Accuracy.: 0.5039s\n",
            "Epoch 15:\tTest Loss: 9.947114944458008;\tTest Accuracy.: 0.5084s\n",
            "Epoch 16:\tTest Loss: 11.419443130493164;\tTest Accuracy.: 0.5083s\n",
            "Epoch 17:\tTest Loss: 11.42557144165039;\tTest Accuracy.: 0.5093s\n",
            "Epoch 18:\tTest Loss: 10.371848106384277;\tTest Accuracy.: 0.5071s\n",
            "Epoch 19:\tTest Loss: 9.82822036743164;\tTest Accuracy.: 0.5034s\n"
          ],
          "name": "stdout"
        }
      ]
    },
    {
      "cell_type": "code",
      "metadata": {
        "id": "WbSnRliVxBT2"
      },
      "source": [
        "np.save('result/AT_list_at_models.npy', AT_list_at_models) \n",
        "np.save('result/AT_list_trainers.npy', AT_list_trainers) \n",
        "np.save('result/AT_list_test_losses.npy', AT_list_test_losses) \n",
        "np.save('result/AT_list_probabilities.npy', AT_list_probabilities) \n",
        "np.save('result/AT_list_test_accuracies.npy', AT_list_test_accuracies) \n",
        "np.save('result/AT_list_true_targets.npy', AT_list_true_targets) "
      ],
      "execution_count": 20,
      "outputs": []
    },
    {
      "cell_type": "markdown",
      "metadata": {
        "id": "8HVGSiziVyM4"
      },
      "source": [
        "### Visualization"
      ]
    },
    {
      "cell_type": "code",
      "metadata": {
        "colab": {
          "base_uri": "https://localhost:8080/",
          "height": 298
        },
        "id": "bGGpIObuv3Ut",
        "outputId": "ff298ecc-35a8-4086-fb1d-8ba1871e4737"
      },
      "source": [
        "import numpy as np\n",
        "from matplotlib import pyplot as plt\n",
        "\n",
        "import pandas as pd\n",
        "fig, ax = plt.subplots()\n",
        "ax.set_title(\"Ensemble  : OOD_MNIST\")\n",
        "test_cases=[1,5,10]\n",
        "for case in test_cases:\n",
        "  df=pd.DataFrame(list_test_losses[case], columns=[case])\n",
        "\n",
        "  chisq_counts, chisq_bins = np.histogram(df, 5)\n",
        "\n",
        "  #ax.plot(chisq_bins[:-1], chisq_counts,label=case,)\n",
        "  df.plot.kde(ax=ax)\n",
        "  #ax.plot(norm_bins[:-1], norm_counts,label='2')\n",
        "  #ax.set_xlim([-0.5, 2])\n",
        "  \n",
        "  legend = ax.legend(loc='upper right', shadow=True, fontsize='x-large')\n",
        "\n",
        "  # Put a nicer background color on the legend.\n",
        "  legend.get_frame()\n",
        "\n",
        "plt.show()\n",
        "plt.savefig('result/Ensemble_ood.png')"
      ],
      "execution_count": 26,
      "outputs": [
        {
          "output_type": "display_data",
          "data": {
            "image/png": "[encoded data removed]",
            "text/plain": [
              "<Figure size 432x288 with 1 Axes>"
            ]
          },
          "metadata": {
            "tags": [],
            "needs_background": "light"
          }
        },
        {
          "output_type": "display_data",
          "data": {
            "text/plain": [
              "<Figure size 432x288 with 0 Axes>"
            ]
          },
          "metadata": {
            "tags": []
          }
        }
      ]
    },
    {
      "cell_type": "code",
      "metadata": {
        "colab": {
          "base_uri": "https://localhost:8080/",
          "height": 298
        },
        "id": "Rd2u-r7p8JtT",
        "outputId": "238b58ac-eec1-4289-fa63-7452d9695552"
      },
      "source": [
        "import numpy as np\n",
        "from matplotlib import pyplot as plt\n",
        "\n",
        "import pandas as pd\n",
        "fig, ax = plt.subplots()\n",
        "ax.set_title(\"Ensemble +R : OOD_MNIST\")\n",
        "test_cases=[1,5,10]\n",
        "for case in test_cases:\n",
        "  df=pd.DataFrame(R_list_test_losses[case], columns=[case])\n",
        "\n",
        "  chisq_counts, chisq_bins = np.histogram(df, 10)\n",
        "\n",
        "  #ax.plot(chisq_bins[:-1], chisq_counts,label=case,scalex=True)\n",
        "  #ax.plot(norm_bins[:-1], norm_counts,label='2')\n",
        "  df.plot.kde(ax=ax)\n",
        "  #ax.set_xlim([-0.5, 2])\n",
        "  legend = ax.legend(loc='upper right', shadow=True, fontsize='x-large')\n",
        "\n",
        "  # Put a nicer background color on the legend.\n",
        "  legend.get_frame()\n",
        "\n",
        "\n",
        "plt.show()\n",
        "plt.savefig('result/Ensemble_R2_ood')"
      ],
      "execution_count": 22,
      "outputs": [
        {
          "output_type": "display_data",
          "data": {
            "image/png": "[encoded data removed]",
            "text/plain": [
              "<Figure size 432x288 with 1 Axes>"
            ]
          },
          "metadata": {
            "tags": [],
            "needs_background": "light"
          }
        },
        {
          "output_type": "display_data",
          "data": {
            "text/plain": [
              "<Figure size 432x288 with 0 Axes>"
            ]
          },
          "metadata": {
            "tags": []
          }
        }
      ]
    },
    {
      "cell_type": "code",
      "metadata": {
        "colab": {
          "base_uri": "https://localhost:8080/",
          "height": 298
        },
        "id": "__835Zt3HMvf",
        "outputId": "6764a83e-3225-4908-93d9-8c4c998a810c"
      },
      "source": [
        "import numpy as np\n",
        "from matplotlib import pyplot as plt\n",
        "\n",
        "import pandas as pd\n",
        "fig, ax = plt.subplots()\n",
        "ax.set_title(\"Ensemble +AT : OOD_MNIST\")\n",
        "test_cases=[1,5,10]\n",
        "for case in test_cases:\n",
        "  df=pd.DataFrame(AT_list_test_losses[case], columns=[case])\n",
        "\n",
        "  #df.plot.kde(ax=ax)\n",
        "  chisq_counts, chisq_bins = np.histogram(df, 10)\n",
        "\n",
        "  ax.plot(chisq_bins[:-1], chisq_counts,label=case,scalex=True)\n",
        "  #ax.plot(norm_bins[:-1], norm_counts,label='2')\n",
        "  #ax.set_xlim([-0.5, 2])\n",
        "  legend = ax.legend(loc='upper center', shadow=True, fontsize='x-large')\n",
        "\n",
        "  # Put a nicer background color on the legend.\n",
        "  legend.get_frame()\n",
        "\n",
        "plt.show()\n",
        "plt.savefig('result/Ensemble_AT2_ood')"
      ],
      "execution_count": 23,
      "outputs": [
        {
          "output_type": "display_data",
          "data": {
            "image/png": "[encoded data removed]",
            "text/plain": [
              "<Figure size 432x288 with 1 Axes>"
            ]
          },
          "metadata": {
            "tags": [],
            "needs_background": "light"
          }
        },
        {
          "output_type": "display_data",
          "data": {
            "text/plain": [
              "<Figure size 432x288 with 0 Axes>"
            ]
          },
          "metadata": {
            "tags": []
          }
        }
      ]
    },
    {
      "cell_type": "code",
      "metadata": {
        "colab": {
          "base_uri": "https://localhost:8080/",
          "height": 163
        },
        "id": "4D4HeAAIkz6Y",
        "outputId": "675cd492-302d-4f8f-f20f-74418acbd4c4"
      },
      "source": [
        "while True:pass"
      ],
      "execution_count": 24,
      "outputs": [
        {
          "output_type": "error",
          "ename": "KeyboardInterrupt",
          "evalue": "ignored",
          "traceback": [
            "\u001b[0;31m---------------------------------------------------------------------------\u001b[0m",
            "\u001b[0;31mKeyboardInterrupt\u001b[0m                         Traceback (most recent call last)",
            "\u001b[0;32m<ipython-input-24-534b7a74019f>\u001b[0m in \u001b[0;36m<module>\u001b[0;34m()\u001b[0m\n\u001b[0;32m----> 1\u001b[0;31m \u001b[0;32mwhile\u001b[0m \u001b[0;32mTrue\u001b[0m\u001b[0;34m:\u001b[0m\u001b[0;32mpass\u001b[0m\u001b[0;34m\u001b[0m\u001b[0;34m\u001b[0m\u001b[0m\n\u001b[0m",
            "\u001b[0;31mKeyboardInterrupt\u001b[0m: "
          ]
        }
      ]
    },
    {
      "cell_type": "markdown",
      "metadata": {
        "id": "T0-8J7Mgl7cD"
      },
      "source": [
        "# End"
      ]
    },
    {
      "cell_type": "markdown",
      "metadata": {
        "id": "UZagoaHljz0B"
      },
      "source": [
        "###Accuracy as a function of confidence"
      ]
    },
    {
      "cell_type": "code",
      "metadata": {
        "id": "vaXhjWlcPqk3"
      },
      "source": [
        "a=np.load('result/list_probabilities.npy',allow_pickle=True)[()]"
      ],
      "execution_count": 38,
      "outputs": []
    },
    {
      "cell_type": "code",
      "metadata": {
        "id": "sAyElXc4a7dJ"
      },
      "source": [
        "test_loader = DataLoader(test_data_minist,\n",
        "                                        batch_size=batch_size,\n",
        "                                    num_workers=0,\n",
        "                                      pin_memory=False,\n",
        "                                        shuffle=False)"
      ],
      "execution_count": 53,
      "outputs": []
    },
    {
      "cell_type": "code",
      "metadata": {
        "id": "jQFYqn-LjzQw"
      },
      "source": [
        "\n",
        "def calc_accuracy(list_probabilities,list_true_targets):\n",
        "  threshold_list=[0.0,0.1,0.2,0.3,0.4,0.5,0.6,0.7,0.8,0.9]\n",
        "  confidences_accuracies =dict()\n",
        "  for threshold in threshold_list:\n",
        "\n",
        "    test_cases=[1,5,10]\n",
        "    correct_acc=0\n",
        "    for case in test_cases:\n",
        "      sum_acc=0\n",
        "      count=0\n",
        "      for idx,prob in enumerate(list_probabilities[case]):\n",
        "        confidences, predictions = torch.max(prob, 1)\n",
        "        sim_vec = torch.nonzero((confidences >= threshold))\n",
        "        count+=1\n",
        "        accuracies = predictions[sim_vec].eq(list_true_targets[case][idx][sim_vec]).sum().item()/len(list_true_targets[case][idx])\n",
        "        sum_acc+=accuracies\n",
        "      correct_acc+= sum_acc / count\n",
        "    confidences_accuracies[threshold]=np.round(correct_acc/len(test_cases),2)\n",
        "  return confidences_accuracies\n",
        " "
      ],
      "execution_count": 54,
      "outputs": []
    },
    {
      "cell_type": "code",
      "metadata": {
        "id": "8m_oamuT4b7O"
      },
      "source": [
        "acc_df=pd.DataFrame(columns=[\"threshold\",\"ensemble\", \"ensemble+R\",\"ensemble+AT\"])"
      ],
      "execution_count": 55,
      "outputs": []
    },
    {
      "cell_type": "code",
      "metadata": {
        "colab": {
          "base_uri": "https://localhost:8080/",
          "height": 197
        },
        "id": "IAyiw-0e4rsW",
        "outputId": "07d9db65-ad38-4ad9-b91d-9c75934b7222"
      },
      "source": [
        "threshold_list=[0.0,0.1,0.2,0.3,0.4,0.5,0.6,0.7,0.8,0.9]\n",
        "acc_df[\"threshold\"]=threshold_list\n",
        "acc_df[\"ensemble\"]=calc_accuracy(list_probabilities,list_true_targets).values()\n",
        "acc_df[\"ensemble+R\"]=calc_accuracy(R_list_probabilities,R_true_targets).values()"
      ],
      "execution_count": 57,
      "outputs": [
        {
          "output_type": "error",
          "ename": "NameError",
          "evalue": "ignored",
          "traceback": [
            "\u001b[0;31m---------------------------------------------------------------------------\u001b[0m",
            "\u001b[0;31mNameError\u001b[0m                                 Traceback (most recent call last)",
            "\u001b[0;32m<ipython-input-57-8990815a801a>\u001b[0m in \u001b[0;36m<module>\u001b[0;34m()\u001b[0m\n\u001b[1;32m      3\u001b[0m \u001b[0macc_df\u001b[0m\u001b[0;34m[\u001b[0m\u001b[0;34m\"ensemble\"\u001b[0m\u001b[0;34m]\u001b[0m\u001b[0;34m=\u001b[0m\u001b[0mcalc_accuracy\u001b[0m\u001b[0;34m(\u001b[0m\u001b[0mlist_probabilities\u001b[0m\u001b[0;34m,\u001b[0m\u001b[0mlist_true_targets\u001b[0m\u001b[0;34m)\u001b[0m\u001b[0;34m.\u001b[0m\u001b[0mvalues\u001b[0m\u001b[0;34m(\u001b[0m\u001b[0;34m)\u001b[0m\u001b[0;34m\u001b[0m\u001b[0;34m\u001b[0m\u001b[0m\n\u001b[1;32m      4\u001b[0m \u001b[0macc_df\u001b[0m\u001b[0;34m[\u001b[0m\u001b[0;34m\"ensemble+R\"\u001b[0m\u001b[0;34m]\u001b[0m\u001b[0;34m=\u001b[0m\u001b[0mcalc_accuracy\u001b[0m\u001b[0;34m(\u001b[0m\u001b[0mR_list_probabilities\u001b[0m\u001b[0;34m,\u001b[0m\u001b[0mR_true_targets\u001b[0m\u001b[0;34m)\u001b[0m\u001b[0;34m.\u001b[0m\u001b[0mvalues\u001b[0m\u001b[0;34m(\u001b[0m\u001b[0;34m)\u001b[0m\u001b[0;34m\u001b[0m\u001b[0;34m\u001b[0m\u001b[0m\n\u001b[0;32m----> 5\u001b[0;31m \u001b[0macc_df\u001b[0m\u001b[0;34m[\u001b[0m\u001b[0;34m\"ensemble+AT\"\u001b[0m\u001b[0;34m]\u001b[0m\u001b[0;34m=\u001b[0m\u001b[0mcalc_accuracy\u001b[0m\u001b[0;34m(\u001b[0m\u001b[0mAT_list_probabilities\u001b[0m\u001b[0;34m,\u001b[0m\u001b[0mAT_true_targets\u001b[0m\u001b[0;34m)\u001b[0m\u001b[0;34m.\u001b[0m\u001b[0mvalues\u001b[0m\u001b[0;34m(\u001b[0m\u001b[0;34m)\u001b[0m\u001b[0;34m\u001b[0m\u001b[0;34m\u001b[0m\u001b[0m\n\u001b[0m",
            "\u001b[0;31mNameError\u001b[0m: name 'AT_true_targets' is not defined"
          ]
        }
      ]
    },
    {
      "cell_type": "code",
      "metadata": {
        "id": "9VRBljHF_ShB"
      },
      "source": [
        "acc_df[\"ensemble+AT\"]=calc_accuracy(AT_list_probabilities,AT_list_true_targets).values()\n"
      ],
      "execution_count": 58,
      "outputs": []
    },
    {
      "cell_type": "code",
      "metadata": {
        "colab": {
          "base_uri": "https://localhost:8080/",
          "height": 359
        },
        "id": "yiednAY-44Gr",
        "outputId": "c45e2b55-ac58-47ab-8964-0a6115b6ebb2"
      },
      "source": [
        "acc_df\n"
      ],
      "execution_count": 59,
      "outputs": [
        {
          "output_type": "execute_result",
          "data": {
            "text/html": [
              "<div>\n",
              "<style scoped>\n",
              "    .dataframe tbody tr th:only-of-type {\n",
              "        vertical-align: middle;\n",
              "    }\n",
              "\n",
              "    .dataframe tbody tr th {\n",
              "        vertical-align: top;\n",
              "    }\n",
              "\n",
              "    .dataframe thead th {\n",
              "        text-align: right;\n",
              "    }\n",
              "</style>\n",
              "<table border=\"1\" class=\"dataframe\">\n",
              "  <thead>\n",
              "    <tr style=\"text-align: right;\">\n",
              "      <th></th>\n",
              "      <th>threshold</th>\n",
              "      <th>ensemble</th>\n",
              "      <th>ensemble+R</th>\n",
              "      <th>ensemble+AT</th>\n",
              "    </tr>\n",
              "  </thead>\n",
              "  <tbody>\n",
              "    <tr>\n",
              "      <th>0</th>\n",
              "      <td>0.0</td>\n",
              "      <td>0.51</td>\n",
              "      <td>0.5</td>\n",
              "      <td>0.5</td>\n",
              "    </tr>\n",
              "    <tr>\n",
              "      <th>1</th>\n",
              "      <td>0.1</td>\n",
              "      <td>0.51</td>\n",
              "      <td>0.5</td>\n",
              "      <td>0.5</td>\n",
              "    </tr>\n",
              "    <tr>\n",
              "      <th>2</th>\n",
              "      <td>0.2</td>\n",
              "      <td>0.51</td>\n",
              "      <td>0.5</td>\n",
              "      <td>0.5</td>\n",
              "    </tr>\n",
              "    <tr>\n",
              "      <th>3</th>\n",
              "      <td>0.3</td>\n",
              "      <td>0.51</td>\n",
              "      <td>0.5</td>\n",
              "      <td>0.5</td>\n",
              "    </tr>\n",
              "    <tr>\n",
              "      <th>4</th>\n",
              "      <td>0.4</td>\n",
              "      <td>0.51</td>\n",
              "      <td>0.5</td>\n",
              "      <td>0.5</td>\n",
              "    </tr>\n",
              "    <tr>\n",
              "      <th>5</th>\n",
              "      <td>0.5</td>\n",
              "      <td>0.51</td>\n",
              "      <td>0.5</td>\n",
              "      <td>0.5</td>\n",
              "    </tr>\n",
              "    <tr>\n",
              "      <th>6</th>\n",
              "      <td>0.6</td>\n",
              "      <td>0.51</td>\n",
              "      <td>0.5</td>\n",
              "      <td>0.5</td>\n",
              "    </tr>\n",
              "    <tr>\n",
              "      <th>7</th>\n",
              "      <td>0.7</td>\n",
              "      <td>0.51</td>\n",
              "      <td>0.5</td>\n",
              "      <td>0.5</td>\n",
              "    </tr>\n",
              "    <tr>\n",
              "      <th>8</th>\n",
              "      <td>0.8</td>\n",
              "      <td>0.51</td>\n",
              "      <td>0.5</td>\n",
              "      <td>0.5</td>\n",
              "    </tr>\n",
              "    <tr>\n",
              "      <th>9</th>\n",
              "      <td>0.9</td>\n",
              "      <td>0.50</td>\n",
              "      <td>0.5</td>\n",
              "      <td>0.5</td>\n",
              "    </tr>\n",
              "  </tbody>\n",
              "</table>\n",
              "</div>"
            ],
            "text/plain": [
              "   threshold  ensemble  ensemble+R  ensemble+AT\n",
              "0        0.0      0.51         0.5          0.5\n",
              "1        0.1      0.51         0.5          0.5\n",
              "2        0.2      0.51         0.5          0.5\n",
              "3        0.3      0.51         0.5          0.5\n",
              "4        0.4      0.51         0.5          0.5\n",
              "5        0.5      0.51         0.5          0.5\n",
              "6        0.6      0.51         0.5          0.5\n",
              "7        0.7      0.51         0.5          0.5\n",
              "8        0.8      0.51         0.5          0.5\n",
              "9        0.9      0.50         0.5          0.5"
            ]
          },
          "metadata": {
            "tags": []
          },
          "execution_count": 59
        }
      ]
    },
    {
      "cell_type": "code",
      "metadata": {
        "colab": {
          "base_uri": "https://localhost:8080/",
          "height": 298
        },
        "id": "EIx8vyUT7kcT",
        "outputId": "4258781e-9de7-4d4d-db9e-b145ab9d07a4"
      },
      "source": [
        "import numpy as np\n",
        "from matplotlib import pyplot as plt\n",
        "\n",
        "import pandas as pd\n",
        "fig, ax = plt.subplots()\n",
        "ax.set_title(\"Ensemble  : OOD_MNIST\")\n",
        "#df.plot.kde(ax=ax)\n",
        "ax.plot(acc_df[\"threshold\"], acc_df[\"ensemble\"],label='2')\n",
        "#ax.set_xlim([-0.5, 2])\n",
        "  \n",
        "legend = ax.legend(loc='upper center', shadow=True, fontsize='x-large')\n",
        "\n",
        "  # Put a nicer background color on the legend.\n",
        "legend.get_frame()\n",
        "\n",
        "plt.show()\n",
        "plt.savefig('result/accuracy.png')"
      ],
      "execution_count": 52,
      "outputs": [
        {
          "output_type": "display_data",
          "data": {
            "image/png": "[encoded data removed]",
            "text/plain": [
              "<Figure size 432x288 with 1 Axes>"
            ]
          },
          "metadata": {
            "tags": [],
            "needs_background": "light"
          }
        },
        {
          "output_type": "display_data",
          "data": {
            "text/plain": [
              "<Figure size 432x288 with 0 Axes>"
            ]
          },
          "metadata": {
            "tags": []
          }
        }
      ]
    },
    {
      "cell_type": "code",
      "metadata": {
        "colab": {
          "base_uri": "https://localhost:8080/",
          "height": 163
        },
        "id": "r9iOevuf5Sx_",
        "outputId": "3ca62116-4afa-404e-cefb-2185f0891073"
      },
      "source": [
        "while True:pass"
      ],
      "execution_count": 37,
      "outputs": [
        {
          "output_type": "error",
          "ename": "KeyboardInterrupt",
          "evalue": "ignored",
          "traceback": [
            "\u001b[0;31m---------------------------------------------------------------------------\u001b[0m",
            "\u001b[0;31mKeyboardInterrupt\u001b[0m                         Traceback (most recent call last)",
            "\u001b[0;32m<ipython-input-37-534b7a74019f>\u001b[0m in \u001b[0;36m<module>\u001b[0;34m()\u001b[0m\n\u001b[0;32m----> 1\u001b[0;31m \u001b[0;32mwhile\u001b[0m \u001b[0;32mTrue\u001b[0m\u001b[0;34m:\u001b[0m\u001b[0;32mpass\u001b[0m\u001b[0;34m\u001b[0m\u001b[0;34m\u001b[0m\u001b[0m\n\u001b[0m",
            "\u001b[0;31mKeyboardInterrupt\u001b[0m: "
          ]
        }
      ]
    },
    {
      "cell_type": "code",
      "metadata": {
        "colab": {
          "base_uri": "https://localhost:8080/"
        },
        "id": "OvXlQjOOir5P",
        "outputId": "887bc73c-c7ec-4420-9e1c-9e02f92a1e9b"
      },
      "source": [
        "list_true_targets[case][idx][1]"
      ],
      "execution_count": 84,
      "outputs": [
        {
          "output_type": "execute_result",
          "data": {
            "text/plain": [
              "tensor(9, device='cuda:0')"
            ]
          },
          "metadata": {
            "tags": []
          },
          "execution_count": 84
        }
      ]
    },
    {
      "cell_type": "code",
      "metadata": {
        "colab": {
          "base_uri": "https://localhost:8080/"
        },
        "id": "evbHaqBwiH9l",
        "outputId": "eb6081ef-5047-4c2d-b6dc-1aa90df39f2a"
      },
      "source": [
        "predictions[1]"
      ],
      "execution_count": 83,
      "outputs": [
        {
          "output_type": "execute_result",
          "data": {
            "text/plain": [
              "tensor(4, device='cuda:0')"
            ]
          },
          "metadata": {
            "tags": []
          },
          "execution_count": 83
        }
      ]
    },
    {
      "cell_type": "code",
      "metadata": {
        "colab": {
          "base_uri": "https://localhost:8080/"
        },
        "id": "A9ce8gLQgAZ0",
        "outputId": "d16ee1cf-5198-4bbd-b6f4-1ef716f63566"
      },
      "source": [
        "len(list_probabilities[5])"
      ],
      "execution_count": 69,
      "outputs": [
        {
          "output_type": "execute_result",
          "data": {
            "text/plain": [
              "2500"
            ]
          },
          "metadata": {
            "tags": []
          },
          "execution_count": 69
        }
      ]
    },
    {
      "cell_type": "markdown",
      "metadata": {
        "id": "D7eNTaHUasdY"
      },
      "source": [
        "### Hyperparameter"
      ]
    },
    {
      "cell_type": "code",
      "metadata": {
        "id": "gthN0C1obCkK"
      },
      "source": [
        ""
      ],
      "execution_count": null,
      "outputs": []
    },
    {
      "cell_type": "markdown",
      "metadata": {
        "id": "Ejd94jiRaztB"
      },
      "source": [
        "### Testing on External test set"
      ]
    },
    {
      "cell_type": "code",
      "metadata": {
        "colab": {
          "base_uri": "https://localhost:8080/",
          "height": 35
        },
        "id": "Eucg2UEzaymn",
        "outputId": "15ed9aa3-bc2c-4543-855c-61cb8e99db23"
      },
      "source": [
        "torch.cuda.get_device_name(0)"
      ],
      "execution_count": null,
      "outputs": [
        {
          "output_type": "execute_result",
          "data": {
            "application/vnd.google.colaboratory.intrinsic+json": {
              "type": "string"
            },
            "text/plain": [
              "'Tesla T4'"
            ]
          },
          "metadata": {
            "tags": []
          },
          "execution_count": 38
        }
      ]
    },
    {
      "cell_type": "markdown",
      "metadata": {
        "id": "s215zoCgsKqv"
      },
      "source": [
        "The implementation is partly inspired from this repository [here](https://github.com/KaosEngineer/PriorNetworks/tree/d6f6ffb65bbd6cfddea9726725fe6eabd501827b/prior_networks)"
      ]
    },
    {
      "cell_type": "code",
      "metadata": {
        "colab": {
          "base_uri": "https://localhost:8080/",
          "height": 298
        },
        "id": "Fl4mehWJv43K",
        "outputId": "e62d0089-0662-4fc0-a9f8-04e9bc185083"
      },
      "source": [
        "import numpy as np\n",
        "from matplotlib import pyplot as plt\n",
        "\n",
        "import pandas as pd\n",
        "fig, ax = plt.subplots()\n",
        "ax.set_title(\"Ensemble  : OOD_MNIST\")\n",
        "test_cases=[1,5,8]\n",
        "for case in test_cases:\n",
        "  df=pd.DataFrame(list_test_losses[case], columns=[case])\n",
        "\n",
        "  chisq_counts, chisq_bins = np.histogram(df, 15)\n",
        "\n",
        "  ax.plot(chisq_bins[:-1], chisq_counts,label=case,scalex=True)\n",
        "  #df.plot.kde(ax=ax)\n",
        "  #ax.plot(norm_bins[:-1], norm_counts,label='2')\n",
        "  ax.set_xlim([-0.5, 2])\n",
        "  \n",
        "  legend = ax.legend(loc='upper center', shadow=True, fontsize='x-large')\n",
        "\n",
        "  # Put a nicer background color on the legend.\n",
        "  legend.get_frame()\n",
        "\n",
        "plt.show()\n",
        "plt.savefig('Ensemble_ood1')"
      ],
      "execution_count": null,
      "outputs": [
        {
          "output_type": "display_data",
          "data": {
            "image/png": "[encoded data removed]",
            "text/plain": [
              "<Figure size 432x288 with 1 Axes>"
            ]
          },
          "metadata": {
            "tags": []
          }
        },
        {
          "output_type": "display_data",
          "data": {
            "text/plain": [
              "<Figure size 432x288 with 0 Axes>"
            ]
          },
          "metadata": {
            "tags": []
          }
        }
      ]
    },
    {
      "cell_type": "code",
      "metadata": {
        "colab": {
          "base_uri": "https://localhost:8080/",
          "height": 298
        },
        "id": "8kJMHP4zVubV",
        "outputId": "b283b621-5375-4cda-cf4f-25b55a384077"
      },
      "source": [
        "import numpy as np\n",
        "from matplotlib import pyplot as plt\n",
        "\n",
        "import pandas as pd\n",
        "fig, ax = plt.subplots()\n",
        "ax.set_title(\"Ensemble  : OOD_MNIST\")\n",
        "test_cases=[1,5,10]\n",
        "for case in test_cases:\n",
        "  df=pd.DataFrame(list_test_losses[case], columns=[case])\n",
        "\n",
        "  df.plot.kde(ax=ax)\n",
        "  #ax.plot(norm_bins[:-1], norm_counts,label='2')\n",
        "  ax.set_xlim([-0.5, 2])\n",
        "  legend = ax.legend(loc='upper center', shadow=True, fontsize='x-large')\n",
        "\n",
        "  # Put a nicer background color on the legend.\n",
        "  legend.get_frame()\n",
        "\n",
        "plt.show()\n",
        "plt.savefig('Ensemble_ood')"
      ],
      "execution_count": null,
      "outputs": [
        {
          "output_type": "display_data",
          "data": {
            "image/png": "[encoded data removed]",
            "text/plain": [
              "<Figure size 432x288 with 1 Axes>"
            ]
          },
          "metadata": {
            "tags": []
          }
        },
        {
          "output_type": "display_data",
          "data": {
            "text/plain": [
              "<Figure size 432x288 with 0 Axes>"
            ]
          },
          "metadata": {
            "tags": []
          }
        }
      ]
    },
    {
      "cell_type": "code",
      "metadata": {
        "colab": {
          "base_uri": "https://localhost:8080/",
          "height": 298
        },
        "id": "mvVQmOGcp9IU",
        "outputId": "c58258d6-f530-4248-9141-bfc5067cb51d"
      },
      "source": [
        "import numpy as np\n",
        "from matplotlib import pyplot as plt\n",
        "\n",
        "import pandas as pd\n",
        "fig, ax = plt.subplots()\n",
        "ax.set_title(\"Ensemble  : OOD_MNIST\")\n",
        "test_cases=[1,5,8]\n",
        "for case in test_cases:\n",
        "  df=pd.DataFrame(list_test_losses[case], columns=[case])\n",
        "\n",
        "  chisq_counts, chisq_bins = np.histogram(df, 10)\n",
        "\n",
        "  ax.plot(chisq_bins[:-1], chisq_counts,label=case)\n",
        "  #df.plot.kde(ax=ax)\n",
        "  #ax.plot(norm_bins[:-1], norm_counts,label='2')\n",
        "  ax.set_xlim([-0.5, 2])\n",
        "  \n",
        "  legend = ax.legend(loc='upper center', shadow=True, fontsize='x-large')\n",
        "\n",
        "  # Put a nicer background color on the legend.\n",
        "  legend.get_frame()\n",
        "\n",
        "plt.show()\n",
        "plt.savefig('Ensemble_ood')"
      ],
      "execution_count": null,
      "outputs": [
        {
          "output_type": "display_data",
          "data": {
            "image/png": "[encoded data removed]",
            "text/plain": [
              "<Figure size 432x288 with 1 Axes>"
            ]
          },
          "metadata": {
            "tags": []
          }
        },
        {
          "output_type": "display_data",
          "data": {
            "text/plain": [
              "<Figure size 432x288 with 0 Axes>"
            ]
          },
          "metadata": {
            "tags": []
          }
        }
      ]
    }
  ]
}